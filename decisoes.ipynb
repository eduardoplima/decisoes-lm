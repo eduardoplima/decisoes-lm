{
  "nbformat": 4,
  "nbformat_minor": 0,
  "metadata": {
    "colab": {
      "provenance": [],
      "machine_shape": "hm",
      "gpuType": "L4",
      "authorship_tag": "ABX9TyPk8fzY+bh94S8uvjHjsMig",
      "include_colab_link": true
    },
    "kernelspec": {
      "name": "python3",
      "display_name": "Python 3"
    },
    "language_info": {
      "name": "python"
    },
    "accelerator": "GPU"
  },
  "cells": [
    {
      "cell_type": "markdown",
      "metadata": {
        "id": "view-in-github",
        "colab_type": "text"
      },
      "source": [
        "<a href=\"https://colab.research.google.com/github/eduardoplima/decisoes-lm/blob/main/decisoes.ipynb\" target=\"_parent\"><img src=\"https://colab.research.google.com/assets/colab-badge.svg\" alt=\"Open In Colab\"/></a>"
      ]
    },
    {
      "cell_type": "markdown",
      "source": [
        "# Uso de LLMs para análise de decisões do Tribunal de Contas do Estado do Rio Grande do Norte\n",
        "\n",
        "Os Tribunais de Contas possuem atribuições constitucionais diversas, que abrangem desde o julgamento de contas públicas à análise de atos de pessoal (tais como admissão e aposentadoria de servidores público). Seu colegiado, composto normalmente por sete conselheiros, tem o poder de determinar multas ou obrigações de fazer a gestores públicos responsáveis por órgãos jurisdicionados que descumpram normas legais ou conformidades operacionais.\n",
        "\n",
        "No caso específico do Tribunal de Contas do Estado do Rio Grande do Norte, sua estrutura funcional, recém modificada, contempla uma diretoria cuja função é a gestão do exame, instrução e encaminhamentos referentes a processos de controle externo. Trata-se da Diretoria de Instrução Processual, cuja subunidade denominada Coordenadoria de Controle de Decisões (CCD) é responsável pelo cadastro, controle e monitoramento das obrigações decorrentes das decisões do TCE/RN e das recomendações de fiscalização e auditoria.\n",
        "\n",
        "Também é da incumbência da CCD o criação do Cadastro Geral de Acompanhamento de Decisões (CGAD), conforme Art. 431 do Regimento Interno do TCE/RN. O referido cadastro inclui:\n",
        "\n",
        "* Cadastro Geral de Multas (CGM), com acompanhamento permanente dos pagamentos\n",
        "diretos ao Tribunal;\n",
        "* Cadastro Geral de Devoluções (CGD), para acompanhamento permanente das condenações para devolução de valores ao Tesouro Estadual e aos Tesouros Municipais;\n",
        "* Cadastro Geral de Recomendações (CGR), para acompanhamento permanente de todas as decisões para obrigação de fazer ou não fazer.\n",
        "* Cadastro Geral de Termos de Ajustamento de Gestão (CGTAG), para acompanhamento dos Termos de Ajustamento de Gestão celebrados pelo Ministério Público junto ao Tribunal.\n",
        "\n",
        "Esse notebook emprega técnicas de Reconhecimento de Entidades Nomeadas, _Word embeddings_ e LLMs para a criação dos cadastros mencionados.\n"
      ],
      "metadata": {
        "id": "G-pPT-brRmm5"
      }
    },
    {
      "cell_type": "code",
      "source": [
        "!pip install langchain_openai langchain_community gdown"
      ],
      "metadata": {
        "id": "biwrcjbQLsbY"
      },
      "execution_count": null,
      "outputs": []
    },
    {
      "cell_type": "code",
      "source": [
        "import os\n",
        "import getpass\n",
        "import gdown\n",
        "\n",
        "import pandas as pd"
      ],
      "metadata": {
        "id": "GPAOm64HLzba"
      },
      "execution_count": 47,
      "outputs": []
    },
    {
      "cell_type": "code",
      "source": [
        "os.environ[\"OPENAI_API_KEY\"] = getpass.getpass(\"OPENAI_API_KEY:\")"
      ],
      "metadata": {
        "colab": {
          "base_uri": "https://localhost:8080/"
        },
        "id": "Xr6kZ5H6cNi8",
        "outputId": "8f48aef8-a1a5-421e-a7fd-f1ddd2914e25"
      },
      "execution_count": 40,
      "outputs": [
        {
          "name": "stdout",
          "output_type": "stream",
          "text": [
            "OPENAI_API_KEY:··········\n"
          ]
        }
      ]
    },
    {
      "cell_type": "markdown",
      "source": [
        "# Dataset\n",
        "\n",
        "O dataset utilizado é composto por decisões exaradas pelo TCE/RN no ano de 2024. Os processos do TCE/RN são compostos por informações. Cada informação representa eventos de um processo, tais como uma petição inicial, um relatório de auditoria, a juntada de um documento, ou, como o caso em tela, a decisão sobre o processo. O conjunto de dados disponível é uma lista de objetos JSON criada a partir da junção das tabelas processo e informação do banco de dados administrativo do TCE/RN. Cada objeto contém os seguintes campos:\n",
        "\n",
        "* `numero_processo`\n",
        "* `ano_processo`\n",
        "* `setor`: o setor de origem da decisão, nesse caso, o gabinete do conselheiro responsável pela decisão;\n",
        "* `codigo_tipo_processo`: o tipo de processo sobre o qual a decisão foi determinada. Um dataframe com as descrições de cada tipo é criado abaixo;\n",
        "* `assunto`: descrição simples do processo;\n",
        "* `resumo`: um resumo da informação de decisão cadastrada;\n",
        "* `texto`: o texto completo de cada decisão, esse campo é obtido por meio da leitura de um arquivo pdf.\n",
        "\n",
        "Foram mantidos no dataset apenas processos referentes a atuações do TCE/RN no controle externo, excluindo-se as decisões referentes a atos de pessoal (aposentadoria, admissão e pensão), assuntos administrativos e \"outros\". Esses assunto são tratados por outras diretorias na estrutura organizacional do TCE/RN (por exemplo, a Diretoria de Atos de Pessoal). Ademais, para esse experimento, só foram escolhidos processos recentes (2021 em diante)."
      ],
      "metadata": {
        "id": "rafnKTlFEXR8"
      }
    },
    {
      "cell_type": "code",
      "source": [
        "url = \"https://raw.githubusercontent.com/eduardoplima/decisoes-lm/refs/heads/main/dataset.json\"\n",
        "output = \"dataset.json\"\n",
        "gdown.download(url, output)\n",
        "\n",
        "url = \"https://raw.githubusercontent.com/eduardoplima/decisoes-lm/refs/heads/main/tipos_processos.csv\"\n",
        "output = \"tipos_processos.csv\"\n",
        "gdown.download(url, output)"
      ],
      "metadata": {
        "colab": {
          "base_uri": "https://localhost:8080/",
          "height": 174
        },
        "id": "DcmLQAKgEX2c",
        "outputId": "addf1bf4-141a-4ba2-f932-500b5d2a387f"
      },
      "execution_count": 109,
      "outputs": [
        {
          "output_type": "stream",
          "name": "stderr",
          "text": [
            "Downloading...\n",
            "From: https://raw.githubusercontent.com/eduardoplima/decisoes-lm/refs/heads/main/dataset.json\n",
            "To: /content/dataset.json\n",
            "1.20MB [00:00, 44.1MB/s]                  \n",
            "Downloading...\n",
            "From: https://raw.githubusercontent.com/eduardoplima/decisoes-lm/refs/heads/main/tipos_processos.csv\n",
            "To: /content/tipos_processos.csv\n",
            "15.7kB [00:00, 19.4MB/s]                   \n"
          ]
        },
        {
          "output_type": "execute_result",
          "data": {
            "text/plain": [
              "'tipos_processos.csv'"
            ],
            "application/vnd.google.colaboratory.intrinsic+json": {
              "type": "string"
            }
          },
          "metadata": {},
          "execution_count": 109
        }
      ]
    },
    {
      "cell_type": "code",
      "source": [
        "tipos = pd.read_csv(\"tipos_processos.csv\")"
      ],
      "metadata": {
        "id": "qqlAOlvtrh54"
      },
      "execution_count": 110,
      "outputs": []
    },
    {
      "cell_type": "code",
      "source": [
        "df = pd.read_json(\"dataset.json\")"
      ],
      "metadata": {
        "id": "2-CAFYzFEYWM"
      },
      "execution_count": 111,
      "outputs": []
    },
    {
      "cell_type": "code",
      "source": [
        "len(df)"
      ],
      "metadata": {
        "colab": {
          "base_uri": "https://localhost:8080/"
        },
        "id": "uENiqsHV3yqO",
        "outputId": "8607d724-89a6-42a8-ae70-59dcdafe75d6"
      },
      "execution_count": 112,
      "outputs": [
        {
          "output_type": "execute_result",
          "data": {
            "text/plain": [
              "336"
            ]
          },
          "metadata": {},
          "execution_count": 112
        }
      ]
    },
    {
      "cell_type": "code",
      "source": [
        "df.head()"
      ],
      "metadata": {
        "colab": {
          "base_uri": "https://localhost:8080/",
          "height": 206
        },
        "id": "3QYAMvvgpB7d",
        "outputId": "c336a0d2-56af-4cb4-e979-bad0561badb6"
      },
      "execution_count": 113,
      "outputs": [
        {
          "output_type": "execute_result",
          "data": {
            "text/plain": [
              "   numero_processo  ano_processo codigo_tipo_processo  \\\n",
              "0           200090          2021                  APR   \n",
              "1           200161          2022                  CGE   \n",
              "2              907          2022                  ACO   \n",
              "3             1264          2022                  REP   \n",
              "4             3101          2022                  DEN   \n",
              "\n",
              "                                             assunto  setor          resumo  \\\n",
              "0  INADIMPLÊNCIA NA REMESSA DE SIAI DP NOVO      ...  secpc  ACÓRDÃO PADRÃO   \n",
              "1  INADIMPLÊNCIA NA REMESSA DE CONTAS ANUAIS DE G...  secsc  ACÓRDÃO PADRÃO   \n",
              "2  ACOMPANHAMENTO DE ACUMULAÇÃO DE CARGOS PÚBLICO...  secsc  ACÓRDÃO PADRÃO   \n",
              "3  REPRESENTAÇÃO EM FACE DE CONTRATAÇÕES TEMPORÁR...  secpc  ACÓRDÃO PADRÃO   \n",
              "4  xxx                                           ...  secsc  ACÓRDÃO PADRÃO   \n",
              "\n",
              "  data_resumo                     arquivo  \\\n",
              "0  2024-02-05  secpc_200090_2021_0043.pdf   \n",
              "1  2024-01-17  secsc_200161_2022_0021.pdf   \n",
              "2  2024-02-07  secsc_000907_2022_0041.pdf   \n",
              "3  2024-02-08  secpc_001264_2022_0051.pdf   \n",
              "4  2024-01-25  secsc_003101_2022_0015.pdf   \n",
              "\n",
              "                                               texto  \n",
              "0  [Processo Nº 200090 / 2021 - TC (200090/2021-T...  \n",
              "1  [Processo Nº 200161 / 2022 - TC (200161/2022-C...  \n",
              "2  [Processo Nº 000907 / 2022 - TC (000907/2022-T...  \n",
              "3  [Processo Nº 001264 / 2022 - TC (001264/2022-T...  \n",
              "4  [Processo Nº 003101 / 2022 - TC (003101/2022-T...  "
            ],
            "text/html": [
              "\n",
              "  <div id=\"df-99e844e2-f8b1-4dd9-a654-033ba271deca\" class=\"colab-df-container\">\n",
              "    <div>\n",
              "<style scoped>\n",
              "    .dataframe tbody tr th:only-of-type {\n",
              "        vertical-align: middle;\n",
              "    }\n",
              "\n",
              "    .dataframe tbody tr th {\n",
              "        vertical-align: top;\n",
              "    }\n",
              "\n",
              "    .dataframe thead th {\n",
              "        text-align: right;\n",
              "    }\n",
              "</style>\n",
              "<table border=\"1\" class=\"dataframe\">\n",
              "  <thead>\n",
              "    <tr style=\"text-align: right;\">\n",
              "      <th></th>\n",
              "      <th>numero_processo</th>\n",
              "      <th>ano_processo</th>\n",
              "      <th>codigo_tipo_processo</th>\n",
              "      <th>assunto</th>\n",
              "      <th>setor</th>\n",
              "      <th>resumo</th>\n",
              "      <th>data_resumo</th>\n",
              "      <th>arquivo</th>\n",
              "      <th>texto</th>\n",
              "    </tr>\n",
              "  </thead>\n",
              "  <tbody>\n",
              "    <tr>\n",
              "      <th>0</th>\n",
              "      <td>200090</td>\n",
              "      <td>2021</td>\n",
              "      <td>APR</td>\n",
              "      <td>INADIMPLÊNCIA NA REMESSA DE SIAI DP NOVO      ...</td>\n",
              "      <td>secpc</td>\n",
              "      <td>ACÓRDÃO PADRÃO</td>\n",
              "      <td>2024-02-05</td>\n",
              "      <td>secpc_200090_2021_0043.pdf</td>\n",
              "      <td>[Processo Nº 200090 / 2021 - TC (200090/2021-T...</td>\n",
              "    </tr>\n",
              "    <tr>\n",
              "      <th>1</th>\n",
              "      <td>200161</td>\n",
              "      <td>2022</td>\n",
              "      <td>CGE</td>\n",
              "      <td>INADIMPLÊNCIA NA REMESSA DE CONTAS ANUAIS DE G...</td>\n",
              "      <td>secsc</td>\n",
              "      <td>ACÓRDÃO PADRÃO</td>\n",
              "      <td>2024-01-17</td>\n",
              "      <td>secsc_200161_2022_0021.pdf</td>\n",
              "      <td>[Processo Nº 200161 / 2022 - TC (200161/2022-C...</td>\n",
              "    </tr>\n",
              "    <tr>\n",
              "      <th>2</th>\n",
              "      <td>907</td>\n",
              "      <td>2022</td>\n",
              "      <td>ACO</td>\n",
              "      <td>ACOMPANHAMENTO DE ACUMULAÇÃO DE CARGOS PÚBLICO...</td>\n",
              "      <td>secsc</td>\n",
              "      <td>ACÓRDÃO PADRÃO</td>\n",
              "      <td>2024-02-07</td>\n",
              "      <td>secsc_000907_2022_0041.pdf</td>\n",
              "      <td>[Processo Nº 000907 / 2022 - TC (000907/2022-T...</td>\n",
              "    </tr>\n",
              "    <tr>\n",
              "      <th>3</th>\n",
              "      <td>1264</td>\n",
              "      <td>2022</td>\n",
              "      <td>REP</td>\n",
              "      <td>REPRESENTAÇÃO EM FACE DE CONTRATAÇÕES TEMPORÁR...</td>\n",
              "      <td>secpc</td>\n",
              "      <td>ACÓRDÃO PADRÃO</td>\n",
              "      <td>2024-02-08</td>\n",
              "      <td>secpc_001264_2022_0051.pdf</td>\n",
              "      <td>[Processo Nº 001264 / 2022 - TC (001264/2022-T...</td>\n",
              "    </tr>\n",
              "    <tr>\n",
              "      <th>4</th>\n",
              "      <td>3101</td>\n",
              "      <td>2022</td>\n",
              "      <td>DEN</td>\n",
              "      <td>xxx                                           ...</td>\n",
              "      <td>secsc</td>\n",
              "      <td>ACÓRDÃO PADRÃO</td>\n",
              "      <td>2024-01-25</td>\n",
              "      <td>secsc_003101_2022_0015.pdf</td>\n",
              "      <td>[Processo Nº 003101 / 2022 - TC (003101/2022-T...</td>\n",
              "    </tr>\n",
              "  </tbody>\n",
              "</table>\n",
              "</div>\n",
              "    <div class=\"colab-df-buttons\">\n",
              "\n",
              "  <div class=\"colab-df-container\">\n",
              "    <button class=\"colab-df-convert\" onclick=\"convertToInteractive('df-99e844e2-f8b1-4dd9-a654-033ba271deca')\"\n",
              "            title=\"Convert this dataframe to an interactive table.\"\n",
              "            style=\"display:none;\">\n",
              "\n",
              "  <svg xmlns=\"http://www.w3.org/2000/svg\" height=\"24px\" viewBox=\"0 -960 960 960\">\n",
              "    <path d=\"M120-120v-720h720v720H120Zm60-500h600v-160H180v160Zm220 220h160v-160H400v160Zm0 220h160v-160H400v160ZM180-400h160v-160H180v160Zm440 0h160v-160H620v160ZM180-180h160v-160H180v160Zm440 0h160v-160H620v160Z\"/>\n",
              "  </svg>\n",
              "    </button>\n",
              "\n",
              "  <style>\n",
              "    .colab-df-container {\n",
              "      display:flex;\n",
              "      gap: 12px;\n",
              "    }\n",
              "\n",
              "    .colab-df-convert {\n",
              "      background-color: #E8F0FE;\n",
              "      border: none;\n",
              "      border-radius: 50%;\n",
              "      cursor: pointer;\n",
              "      display: none;\n",
              "      fill: #1967D2;\n",
              "      height: 32px;\n",
              "      padding: 0 0 0 0;\n",
              "      width: 32px;\n",
              "    }\n",
              "\n",
              "    .colab-df-convert:hover {\n",
              "      background-color: #E2EBFA;\n",
              "      box-shadow: 0px 1px 2px rgba(60, 64, 67, 0.3), 0px 1px 3px 1px rgba(60, 64, 67, 0.15);\n",
              "      fill: #174EA6;\n",
              "    }\n",
              "\n",
              "    .colab-df-buttons div {\n",
              "      margin-bottom: 4px;\n",
              "    }\n",
              "\n",
              "    [theme=dark] .colab-df-convert {\n",
              "      background-color: #3B4455;\n",
              "      fill: #D2E3FC;\n",
              "    }\n",
              "\n",
              "    [theme=dark] .colab-df-convert:hover {\n",
              "      background-color: #434B5C;\n",
              "      box-shadow: 0px 1px 3px 1px rgba(0, 0, 0, 0.15);\n",
              "      filter: drop-shadow(0px 1px 2px rgba(0, 0, 0, 0.3));\n",
              "      fill: #FFFFFF;\n",
              "    }\n",
              "  </style>\n",
              "\n",
              "    <script>\n",
              "      const buttonEl =\n",
              "        document.querySelector('#df-99e844e2-f8b1-4dd9-a654-033ba271deca button.colab-df-convert');\n",
              "      buttonEl.style.display =\n",
              "        google.colab.kernel.accessAllowed ? 'block' : 'none';\n",
              "\n",
              "      async function convertToInteractive(key) {\n",
              "        const element = document.querySelector('#df-99e844e2-f8b1-4dd9-a654-033ba271deca');\n",
              "        const dataTable =\n",
              "          await google.colab.kernel.invokeFunction('convertToInteractive',\n",
              "                                                    [key], {});\n",
              "        if (!dataTable) return;\n",
              "\n",
              "        const docLinkHtml = 'Like what you see? Visit the ' +\n",
              "          '<a target=\"_blank\" href=https://colab.research.google.com/notebooks/data_table.ipynb>data table notebook</a>'\n",
              "          + ' to learn more about interactive tables.';\n",
              "        element.innerHTML = '';\n",
              "        dataTable['output_type'] = 'display_data';\n",
              "        await google.colab.output.renderOutput(dataTable, element);\n",
              "        const docLink = document.createElement('div');\n",
              "        docLink.innerHTML = docLinkHtml;\n",
              "        element.appendChild(docLink);\n",
              "      }\n",
              "    </script>\n",
              "  </div>\n",
              "\n",
              "\n",
              "<div id=\"df-6069abf9-42ed-4ee5-acd4-6499538b90c8\">\n",
              "  <button class=\"colab-df-quickchart\" onclick=\"quickchart('df-6069abf9-42ed-4ee5-acd4-6499538b90c8')\"\n",
              "            title=\"Suggest charts\"\n",
              "            style=\"display:none;\">\n",
              "\n",
              "<svg xmlns=\"http://www.w3.org/2000/svg\" height=\"24px\"viewBox=\"0 0 24 24\"\n",
              "     width=\"24px\">\n",
              "    <g>\n",
              "        <path d=\"M19 3H5c-1.1 0-2 .9-2 2v14c0 1.1.9 2 2 2h14c1.1 0 2-.9 2-2V5c0-1.1-.9-2-2-2zM9 17H7v-7h2v7zm4 0h-2V7h2v10zm4 0h-2v-4h2v4z\"/>\n",
              "    </g>\n",
              "</svg>\n",
              "  </button>\n",
              "\n",
              "<style>\n",
              "  .colab-df-quickchart {\n",
              "      --bg-color: #E8F0FE;\n",
              "      --fill-color: #1967D2;\n",
              "      --hover-bg-color: #E2EBFA;\n",
              "      --hover-fill-color: #174EA6;\n",
              "      --disabled-fill-color: #AAA;\n",
              "      --disabled-bg-color: #DDD;\n",
              "  }\n",
              "\n",
              "  [theme=dark] .colab-df-quickchart {\n",
              "      --bg-color: #3B4455;\n",
              "      --fill-color: #D2E3FC;\n",
              "      --hover-bg-color: #434B5C;\n",
              "      --hover-fill-color: #FFFFFF;\n",
              "      --disabled-bg-color: #3B4455;\n",
              "      --disabled-fill-color: #666;\n",
              "  }\n",
              "\n",
              "  .colab-df-quickchart {\n",
              "    background-color: var(--bg-color);\n",
              "    border: none;\n",
              "    border-radius: 50%;\n",
              "    cursor: pointer;\n",
              "    display: none;\n",
              "    fill: var(--fill-color);\n",
              "    height: 32px;\n",
              "    padding: 0;\n",
              "    width: 32px;\n",
              "  }\n",
              "\n",
              "  .colab-df-quickchart:hover {\n",
              "    background-color: var(--hover-bg-color);\n",
              "    box-shadow: 0 1px 2px rgba(60, 64, 67, 0.3), 0 1px 3px 1px rgba(60, 64, 67, 0.15);\n",
              "    fill: var(--button-hover-fill-color);\n",
              "  }\n",
              "\n",
              "  .colab-df-quickchart-complete:disabled,\n",
              "  .colab-df-quickchart-complete:disabled:hover {\n",
              "    background-color: var(--disabled-bg-color);\n",
              "    fill: var(--disabled-fill-color);\n",
              "    box-shadow: none;\n",
              "  }\n",
              "\n",
              "  .colab-df-spinner {\n",
              "    border: 2px solid var(--fill-color);\n",
              "    border-color: transparent;\n",
              "    border-bottom-color: var(--fill-color);\n",
              "    animation:\n",
              "      spin 1s steps(1) infinite;\n",
              "  }\n",
              "\n",
              "  @keyframes spin {\n",
              "    0% {\n",
              "      border-color: transparent;\n",
              "      border-bottom-color: var(--fill-color);\n",
              "      border-left-color: var(--fill-color);\n",
              "    }\n",
              "    20% {\n",
              "      border-color: transparent;\n",
              "      border-left-color: var(--fill-color);\n",
              "      border-top-color: var(--fill-color);\n",
              "    }\n",
              "    30% {\n",
              "      border-color: transparent;\n",
              "      border-left-color: var(--fill-color);\n",
              "      border-top-color: var(--fill-color);\n",
              "      border-right-color: var(--fill-color);\n",
              "    }\n",
              "    40% {\n",
              "      border-color: transparent;\n",
              "      border-right-color: var(--fill-color);\n",
              "      border-top-color: var(--fill-color);\n",
              "    }\n",
              "    60% {\n",
              "      border-color: transparent;\n",
              "      border-right-color: var(--fill-color);\n",
              "    }\n",
              "    80% {\n",
              "      border-color: transparent;\n",
              "      border-right-color: var(--fill-color);\n",
              "      border-bottom-color: var(--fill-color);\n",
              "    }\n",
              "    90% {\n",
              "      border-color: transparent;\n",
              "      border-bottom-color: var(--fill-color);\n",
              "    }\n",
              "  }\n",
              "</style>\n",
              "\n",
              "  <script>\n",
              "    async function quickchart(key) {\n",
              "      const quickchartButtonEl =\n",
              "        document.querySelector('#' + key + ' button');\n",
              "      quickchartButtonEl.disabled = true;  // To prevent multiple clicks.\n",
              "      quickchartButtonEl.classList.add('colab-df-spinner');\n",
              "      try {\n",
              "        const charts = await google.colab.kernel.invokeFunction(\n",
              "            'suggestCharts', [key], {});\n",
              "      } catch (error) {\n",
              "        console.error('Error during call to suggestCharts:', error);\n",
              "      }\n",
              "      quickchartButtonEl.classList.remove('colab-df-spinner');\n",
              "      quickchartButtonEl.classList.add('colab-df-quickchart-complete');\n",
              "    }\n",
              "    (() => {\n",
              "      let quickchartButtonEl =\n",
              "        document.querySelector('#df-6069abf9-42ed-4ee5-acd4-6499538b90c8 button');\n",
              "      quickchartButtonEl.style.display =\n",
              "        google.colab.kernel.accessAllowed ? 'block' : 'none';\n",
              "    })();\n",
              "  </script>\n",
              "</div>\n",
              "\n",
              "    </div>\n",
              "  </div>\n"
            ],
            "application/vnd.google.colaboratory.intrinsic+json": {
              "type": "dataframe",
              "variable_name": "df",
              "summary": "{\n  \"name\": \"df\",\n  \"rows\": 336,\n  \"fields\": [\n    {\n      \"column\": \"numero_processo\",\n      \"properties\": {\n        \"dtype\": \"number\",\n        \"std\": 109956,\n        \"min\": 68,\n        \"max\": 304561,\n        \"num_unique_values\": 289,\n        \"samples\": [\n          1678,\n          2686,\n          301399\n        ],\n        \"semantic_type\": \"\",\n        \"description\": \"\"\n      }\n    },\n    {\n      \"column\": \"ano_processo\",\n      \"properties\": {\n        \"dtype\": \"number\",\n        \"std\": 0,\n        \"min\": 2021,\n        \"max\": 2024,\n        \"num_unique_values\": 4,\n        \"samples\": [\n          2022,\n          2024,\n          2021\n        ],\n        \"semantic_type\": \"\",\n        \"description\": \"\"\n      }\n    },\n    {\n      \"column\": \"codigo_tipo_processo\",\n      \"properties\": {\n        \"dtype\": \"category\",\n        \"num_unique_values\": 15,\n        \"samples\": [\n          \"FIN\",\n          \"AOP\",\n          \"APR\"\n        ],\n        \"semantic_type\": \"\",\n        \"description\": \"\"\n      }\n    },\n    {\n      \"column\": \"assunto\",\n      \"properties\": {\n        \"dtype\": \"category\",\n        \"num_unique_values\": 113,\n        \"samples\": [\n          \"APURA\\u00c7\\u00c3O DE RESPONSABILIDADE, REFERENTE AO PROCESSO N.\\u00ba 6376/2015-TC                                                                                                                                                                                           \",\n          \"xxx                                                                                                                                                                                                                                                            \",\n          \"REPRESENTA\\u00c7\\u00c3O PARA APURAR VIABILIDADE DO EDITAL DE LICITA\\u00c7\\u00c3O CONCORR\\u00caNCIA N\\u00b0 03/2021-URBANA.                                                                                                                                                                   \"\n        ],\n        \"semantic_type\": \"\",\n        \"description\": \"\"\n      }\n    },\n    {\n      \"column\": \"setor\",\n      \"properties\": {\n        \"dtype\": \"category\",\n        \"num_unique_values\": 3,\n        \"samples\": [\n          \"secpc\",\n          \"secsc\",\n          \"secss\"\n        ],\n        \"semantic_type\": \"\",\n        \"description\": \"\"\n      }\n    },\n    {\n      \"column\": \"resumo\",\n      \"properties\": {\n        \"dtype\": \"category\",\n        \"num_unique_values\": 6,\n        \"samples\": [\n          \"AC\\u00d3RD\\u00c3O PADR\\u00c3O\",\n          \"...\",\n          \"EMENTA: RELAT\\u00d3RIO DE AUDITORIA FINANCEIRA. ENCAMINHAMENTO \\u00c0 UNIDADE DE GERENCIAMENTO DO PROJETO PARA ADO\\u00c7\\u00c3O DAS RECOMENDA\\u00c7\\u00d5ES, COM POSTERIOR REMESSA AO BANCO MUNDIAL, PARA APRECIA\\u00c7\\u00c3O E ADO\\u00c7\\u00c3O DAS MEDIDAS DE ESTILO.\"\n        ],\n        \"semantic_type\": \"\",\n        \"description\": \"\"\n      }\n    },\n    {\n      \"column\": \"data_resumo\",\n      \"properties\": {\n        \"dtype\": \"object\",\n        \"num_unique_values\": 138,\n        \"samples\": [\n          \"2024-10-21\",\n          \"2024-05-27\",\n          \"2024-01-11\"\n        ],\n        \"semantic_type\": \"\",\n        \"description\": \"\"\n      }\n    },\n    {\n      \"column\": \"arquivo\",\n      \"properties\": {\n        \"dtype\": \"string\",\n        \"num_unique_values\": 336,\n        \"samples\": [\n          \"secsc_200042_2023_0025.pdf\",\n          \"secpc_003381_2021_0023.pdf\",\n          \"secsc_004010_2023_0014.pdf\"\n        ],\n        \"semantic_type\": \"\",\n        \"description\": \"\"\n      }\n    },\n    {\n      \"column\": \"texto\",\n      \"properties\": {\n        \"dtype\": \"object\",\n        \"semantic_type\": \"\",\n        \"description\": \"\"\n      }\n    }\n  ]\n}"
            }
          },
          "metadata": {},
          "execution_count": 113
        }
      ]
    },
    {
      "cell_type": "markdown",
      "source": [
        "O texto vem separado em uma lista, cujos índices representam páginas do pdf. Nós agrupamos a string a seguir."
      ],
      "metadata": {
        "id": "1KU7epO84j6K"
      }
    },
    {
      "cell_type": "code",
      "source": [
        "df['texto'] = df['texto'].apply(lambda x: ''.join(x))"
      ],
      "metadata": {
        "id": "B7a41JrXjK9H"
      },
      "execution_count": 93,
      "outputs": []
    },
    {
      "cell_type": "code",
      "source": [
        "df.iloc[0]"
      ],
      "metadata": {
        "colab": {
          "base_uri": "https://localhost:8080/",
          "height": 304
        },
        "id": "WSnrWAo3nVTL",
        "outputId": "b78c398a-3319-4f07-e03f-42ece1683b8c"
      },
      "execution_count": 94,
      "outputs": [
        {
          "output_type": "execute_result",
          "data": {
            "text/plain": [
              "codigo_tipo_processo                                                  LRF\n",
              "assunto                 PRESTAÇÃO DE CONTAS DE ACORDO COM A RESOLUÇÃO ...\n",
              "setor                                                               secsc\n",
              "resumo                                                     ACÓRDÃO PADRÃO\n",
              "data_resumo                                                    2024-03-13\n",
              "arquivo                                        secsc_701359_2012_0038.pdf\n",
              "texto                   Processo Nº 701359 / 2012 - TC (701359/2012-PM...\n",
              "Name: 82, dtype: object"
            ],
            "text/html": [
              "<div>\n",
              "<style scoped>\n",
              "    .dataframe tbody tr th:only-of-type {\n",
              "        vertical-align: middle;\n",
              "    }\n",
              "\n",
              "    .dataframe tbody tr th {\n",
              "        vertical-align: top;\n",
              "    }\n",
              "\n",
              "    .dataframe thead th {\n",
              "        text-align: right;\n",
              "    }\n",
              "</style>\n",
              "<table border=\"1\" class=\"dataframe\">\n",
              "  <thead>\n",
              "    <tr style=\"text-align: right;\">\n",
              "      <th></th>\n",
              "      <th>82</th>\n",
              "    </tr>\n",
              "  </thead>\n",
              "  <tbody>\n",
              "    <tr>\n",
              "      <th>codigo_tipo_processo</th>\n",
              "      <td>LRF</td>\n",
              "    </tr>\n",
              "    <tr>\n",
              "      <th>assunto</th>\n",
              "      <td>PRESTAÇÃO DE CONTAS DE ACORDO COM A RESOLUÇÃO ...</td>\n",
              "    </tr>\n",
              "    <tr>\n",
              "      <th>setor</th>\n",
              "      <td>secsc</td>\n",
              "    </tr>\n",
              "    <tr>\n",
              "      <th>resumo</th>\n",
              "      <td>ACÓRDÃO PADRÃO</td>\n",
              "    </tr>\n",
              "    <tr>\n",
              "      <th>data_resumo</th>\n",
              "      <td>2024-03-13</td>\n",
              "    </tr>\n",
              "    <tr>\n",
              "      <th>arquivo</th>\n",
              "      <td>secsc_701359_2012_0038.pdf</td>\n",
              "    </tr>\n",
              "    <tr>\n",
              "      <th>texto</th>\n",
              "      <td>Processo Nº 701359 / 2012 - TC (701359/2012-PM...</td>\n",
              "    </tr>\n",
              "  </tbody>\n",
              "</table>\n",
              "</div><br><label><b>dtype:</b> object</label>"
            ]
          },
          "metadata": {},
          "execution_count": 94
        }
      ]
    },
    {
      "cell_type": "code",
      "source": [
        "print(df.iloc[0].texto)"
      ],
      "metadata": {
        "colab": {
          "base_uri": "https://localhost:8080/"
        },
        "id": "7P17lFz_jbj_",
        "outputId": "db4b35cb-d677-40e0-ff0d-09b0e439bd94"
      },
      "execution_count": 95,
      "outputs": [
        {
          "output_type": "stream",
          "name": "stdout",
          "text": [
            "Processo Nº 701359 / 2012 - TC (701359/2012-PMLDANTA)\n",
            "SESSÃO ORDINÁRIA 00007ª, DE 12 DE MARÇO DE 2024 - 2ª CÂMARA.\n",
            "Interessado(s):   PREF.MUN.LAGOA D´ANTA                                                                                                                                                                                                                                          \n",
            "  \n",
            "Assunto:  PRESTAÇÃO DE CONTAS DE ACORDO COM A RESOLUÇÃO 022/2011 REF. AO \n",
            "BIMESTRE: 01/2012\n",
            "Responsável(is):  JOÃO PAULO GUEDES LOPES, PREFEITO - CPF:05559622451 José Batista \n",
            "Delgado - CPF:18200567400\n",
            "Relator(a):  PAULO ROBERTO CHA VES ALVES\n",
            "EMENTA: ANÁLISE DA GESTÃO FISCAL – EXERCÍCIO 2012. PREFEITURA \n",
            "MUNICIPAL DE LAGOA D´ANTA. PROCESSO DE PRESTAÇÃO DE CONTAS \n",
            "INSTAURADO NA VIGÊNCIA DA LCE Nº 464/2012 E PARALISADO POR MAIS \n",
            "DE TRÊS ANOS, PENDENTE DE JULGAMENTO OU DESPACHO . \n",
            "RECONHECIMENTO DA PRESCRIÇÃO TRIENAL INTERCORRENTE DA \n",
            "PRETENSÃO PUNITIV A. INTELIGÊNCIA DO ART. 111, PARÁGRAFO ÚNICO , \n",
            "DA LCE Nº 464/2012. ARQUIV AMENTO QUE SE IMPÕE.\n",
            "ACÓRDÃO No. 48/2024 - TC\n",
            "               Vistos, relatados e discutidos estes autos, consonância com o posicionamento da \n",
            "Diretoria de Administração Municipal - DAM e do Ministério Público de Contas, ACORDAM \n",
            "os Conselheiros, nos termos do voto proferido pelo Conselheiro Relator, julgar pelo \n",
            "reconhecimento da incidência da Prescrição Intercorrente sobre a pretensão punitiva desta \n",
            "Corte de Contas, nos termos do artigo 111, parágrafo único, da Lei Complementar Estadual nº \n",
            "464/2012, com o conseqüente arquivamento dos presentes autos.\n",
            "Ainda, no sentido de que se recomende à Secretaria de Controle Externo – SECEX desta \n",
            "Corte de Contas, que adote procedimentos com vistas a impedir a consumação de prescrição \n",
            "nas Unidades Técnicas a ela vinculadas.\n",
            "Por fim, não estando presentes quaisquer das hipóteses do art. 47, parágrafo único, da LCE nº \n",
            "464/2012, resta desnecessária qualquer intimação postal, sendo suficiente a publicação do \n",
            "Acórdão respectivo no Diário Oficial eletrônico desta Corte.\n",
            "ATA da Sessão Ordinária nº 00007/2024 de 12/03/2024\n",
            "Presentes: A Excelentíssima Sra. Conselheira Presidente Maria Adélia Sales e os Conselheiros:  Paulo \n",
            "Roberto Chaves Alves, Carlos Thompson Costa Fernandes e  Antonio Ed Souza Santana\n",
            "Decisão tomada: Por unanimidade.\n",
            "Representante do MP: O(A) Procurador(a)  Thiago Martins Guterres.\n",
            "Sala das Sessões, 12 de Março de 2024.\n",
            "PAULO ROBERTO CHA VES ALVES\n",
            "Conselheiro(a) Relator(a) \n",
            "RelAcordao.rpt\n",
            "Av. Presidente Getúlio Vargas, 690 - Ed. Dr. Múcio Vilar Ribeiro Dantas\n",
            "CEP 59012-360 - Petrópolis, Natal/RN\n",
            "www.tce.rn.gov.b\n"
          ]
        }
      ]
    },
    {
      "cell_type": "code",
      "source": [
        "df_lic = df[df['codigo_tipo_processo'] == 'CTV']"
      ],
      "metadata": {
        "id": "YneOwFMbjHBn"
      },
      "execution_count": 103,
      "outputs": []
    },
    {
      "cell_type": "code",
      "source": [
        "df_lic.iloc[0]"
      ],
      "metadata": {
        "colab": {
          "base_uri": "https://localhost:8080/",
          "height": 304
        },
        "id": "doiWkguJsHTe",
        "outputId": "eda7e1f2-e310-48b8-c49c-6b9d633067f3"
      },
      "execution_count": 104,
      "outputs": [
        {
          "output_type": "execute_result",
          "data": {
            "text/plain": [
              "codigo_tipo_processo                                                  CTV\n",
              "assunto                 CARTA CONVITE Nº 06/2001 (02 VOL)             ...\n",
              "setor                                                               secss\n",
              "resumo                                                     ACÓRDÃO PADRÃO\n",
              "data_resumo                                                    2024-05-13\n",
              "arquivo                                        secss_002372_2002_0057.pdf\n",
              "texto                   Processo Nº 002372 / 2002 - TC (015265/2001-SE...\n",
              "Name: 457, dtype: object"
            ],
            "text/html": [
              "<div>\n",
              "<style scoped>\n",
              "    .dataframe tbody tr th:only-of-type {\n",
              "        vertical-align: middle;\n",
              "    }\n",
              "\n",
              "    .dataframe tbody tr th {\n",
              "        vertical-align: top;\n",
              "    }\n",
              "\n",
              "    .dataframe thead th {\n",
              "        text-align: right;\n",
              "    }\n",
              "</style>\n",
              "<table border=\"1\" class=\"dataframe\">\n",
              "  <thead>\n",
              "    <tr style=\"text-align: right;\">\n",
              "      <th></th>\n",
              "      <th>457</th>\n",
              "    </tr>\n",
              "  </thead>\n",
              "  <tbody>\n",
              "    <tr>\n",
              "      <th>codigo_tipo_processo</th>\n",
              "      <td>CTV</td>\n",
              "    </tr>\n",
              "    <tr>\n",
              "      <th>assunto</th>\n",
              "      <td>CARTA CONVITE Nº 06/2001 (02 VOL)             ...</td>\n",
              "    </tr>\n",
              "    <tr>\n",
              "      <th>setor</th>\n",
              "      <td>secss</td>\n",
              "    </tr>\n",
              "    <tr>\n",
              "      <th>resumo</th>\n",
              "      <td>ACÓRDÃO PADRÃO</td>\n",
              "    </tr>\n",
              "    <tr>\n",
              "      <th>data_resumo</th>\n",
              "      <td>2024-05-13</td>\n",
              "    </tr>\n",
              "    <tr>\n",
              "      <th>arquivo</th>\n",
              "      <td>secss_002372_2002_0057.pdf</td>\n",
              "    </tr>\n",
              "    <tr>\n",
              "      <th>texto</th>\n",
              "      <td>Processo Nº 002372 / 2002 - TC (015265/2001-SE...</td>\n",
              "    </tr>\n",
              "  </tbody>\n",
              "</table>\n",
              "</div><br><label><b>dtype:</b> object</label>"
            ]
          },
          "metadata": {},
          "execution_count": 104
        }
      ]
    },
    {
      "cell_type": "code",
      "source": [
        "len(df_lic)"
      ],
      "metadata": {
        "colab": {
          "base_uri": "https://localhost:8080/"
        },
        "id": "sa9ZOsImsSs4",
        "outputId": "e91f9458-39a2-4e53-a70c-421e65f3a4c9"
      },
      "execution_count": 105,
      "outputs": [
        {
          "output_type": "execute_result",
          "data": {
            "text/plain": [
              "4"
            ]
          },
          "metadata": {},
          "execution_count": 105
        }
      ]
    },
    {
      "cell_type": "code",
      "source": [
        "print(df_lic.iloc[3].texto)"
      ],
      "metadata": {
        "colab": {
          "base_uri": "https://localhost:8080/"
        },
        "id": "zLZJ5SmzsJlp",
        "outputId": "f5eeb566-4a37-4915-a458-0d8f0db67694"
      },
      "execution_count": 108,
      "outputs": [
        {
          "output_type": "stream",
          "name": "stdout",
          "text": [
            "Processo Nº 007731 / 2001 - TC (004720/2000-DATANORTE)\n",
            "SESSÃO ORDINÁRIA 00032ª, DE 10 DE SETEMBRO DE 2024 - 2ª CÂMARA.\n",
            "Interessado(s):   COMP.PROCES.DADOS DO RN                                                                                                                                                                                                                                        \n",
            "  \n",
            "Assunto:  CARTA CONVITE 001/2001 (02 VOLUMES)\n",
            "Relator(a):  PAULO ROBERTO CHA VES ALVES\n",
            "EMENTA: CONSTITUCIONAL. ADMINISTRATIVO. RESSARCIMENTO AO \n",
            "ERÁRIO E MULTA. TRANSCURSO DE MAIS DE CINCO ANOS DESDE A \n",
            "DECISÃO. AUSÊNCIA DE CITAÇÃO PARA PAGAMENTO. PRESCRIÇÃO DA \n",
            "PRETENSÃO EXECUTÓRIA DAS MULTAS. CONSTITUIÇÃO DE PROCESSO \n",
            "AUTÔNOMO PARA EXECUÇÃO DO RESSARCIMENTO.\n",
            "ACÓRDÃO No. 229/2024 - TC\n",
            "               Vistos, relatados e discutidos estes autos, em consonância com o Ministério Público \n",
            "de Contas, ACORDAM os Conselheiros, nos termos do voto proferido pelo Conselheiro \n",
            "Relator, julgar no sentido de:\n",
            "a) determinar à Diretoria de Atos e Execuções que certifique o trânsito em julgado do \n",
            "Acórdão nº 113/2006 – TC; \n",
            "b) reconhecer a prescrição da pretensão executória deste Tribunal de Contas sobre a \n",
            "penalidade de multa imposta no Acórdão nº 33/2004-TC, com o consequente registro da \n",
            "decisão no Cadastro Geral de Acompanhamento de Decisões (CGAD) \n",
            "c) constituir processo autônomo para execução do ressarcimento ao erário, nos termos do art . \n",
            "22 e seguintes da Resolução nº 13/2015 – TC;\n",
            "d) arquivamento dos presentes autos.\n",
            "ATA da Sessão Ordinária nº 00032/2024 de 10/09/2024\n",
            "Presentes: o Excelentíssimo Sr. Conselheiro Presidente Antonio Ed Souza Santana e o Excelentíssimo Sr . \n",
            "Conselheiro Paulo Roberto Chaves Alves.\n",
            "Decisão tomada: Por unanimidade.\n",
            "Representante do MP: O Procurador Othon Moreno de Medeiros Alves.\n",
            "Sala das Sessões, 10 de Setembro de 2024.\n",
            "PAULO ROBERTO CHA VES ALVES\n",
            "Conselheiro(a) Relator(a) \n",
            "RelAcordao.rpt\n",
            "Av. Presidente Getúlio Vargas, 690 - Ed. Dr. Múcio Vilar Ribeiro Dantas\n",
            "CEP 59012-360 - Petrópolis, Natal/RN\n",
            "www.tce.rn.gov.b\n"
          ]
        }
      ]
    },
    {
      "cell_type": "markdown",
      "source": [
        "# LLMs\n",
        "\n",
        "Nessa seção configuramos os modelos de LLM que vamos utilizar nas seções seguintes"
      ],
      "metadata": {
        "id": "BbA3buJTZUn9"
      }
    },
    {
      "cell_type": "code",
      "source": [
        "from langchain.llms import OpenAI\n",
        "llm = OpenAI(temperature=0.9)"
      ],
      "metadata": {
        "id": "GRQCHUGSZVFO"
      },
      "execution_count": null,
      "outputs": []
    },
    {
      "cell_type": "markdown",
      "source": [
        "# Reconhecimento de Entidades Nomeadas\n",
        "\n",
        "O Reconhecimento de Entidades Nomeadas (Named Entity Recognition - NER) é uma técnica fundamental em Processamento de Linguagem Natural (PLN) que visa identificar e classificar automaticamente elementos chave em um texto, como nomes de pessoas, organizações, locais, datas, valores monetários, entre outros. Essa tarefa é essencial para o nosso objetivo, pois é imprescindível detectar os responsáveis citados e outras características da decisão.\n",
        "\n",
        "\n"
      ],
      "metadata": {
        "id": "YZhBZpQTEYKH"
      }
    },
    {
      "cell_type": "code",
      "source": [],
      "metadata": {
        "id": "Hu1faSQ9EZMf"
      },
      "execution_count": null,
      "outputs": []
    },
    {
      "cell_type": "markdown",
      "source": [],
      "metadata": {
        "id": "O4XFoazJZRjN"
      }
    },
    {
      "cell_type": "markdown",
      "source": [],
      "metadata": {
        "id": "uF_VptVlZRQm"
      }
    },
    {
      "cell_type": "code",
      "source": [],
      "metadata": {
        "id": "Lv4vBQAlZQ7y"
      },
      "execution_count": null,
      "outputs": []
    }
  ]
}