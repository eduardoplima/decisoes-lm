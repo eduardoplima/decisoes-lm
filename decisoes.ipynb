{
  "nbformat": 4,
  "nbformat_minor": 0,
  "metadata": {
    "colab": {
      "provenance": [],
      "machine_shape": "hm",
      "gpuType": "L4",
      "authorship_tag": "ABX9TyMrOZnYhyLtCxxgboUqz4EC",
      "include_colab_link": true
    },
    "kernelspec": {
      "name": "python3",
      "display_name": "Python 3"
    },
    "language_info": {
      "name": "python"
    },
    "accelerator": "GPU"
  },
  "cells": [
    {
      "cell_type": "markdown",
      "metadata": {
        "id": "view-in-github",
        "colab_type": "text"
      },
      "source": [
        "<a href=\"https://colab.research.google.com/github/eduardoplima/decisoes-lm/blob/main/decisoes.ipynb\" target=\"_parent\"><img src=\"https://colab.research.google.com/assets/colab-badge.svg\" alt=\"Open In Colab\"/></a>"
      ]
    },
    {
      "cell_type": "markdown",
      "source": [
        "# Uso de LLMs para análise de decisões do Tribunal de Contas do Estado do Rio Grande do Norte\n",
        "\n",
        "Os Tribunais de Contas possuem atribuições constitucionais diversas, que abrangem desde o julgamento de contas públicas à análise de atos de pessoal (tais como admissão e aposentadoria de servidores público). Seu colegiado, composto normalmente por sete conselheiros, tem o poder de determinar multas ou obrigações de fazer a gestores públicos responsáveis por órgãos jurisdicionados que descumpram normas legais ou conformidades operacionais.\n",
        "\n",
        "No caso específico do Tribunal de Contas do Estado do Rio Grande do Norte, sua estrutura funcional, recém modificada, contempla uma diretoria cuja função é a gestão do exame, instrução e encaminhamentos referentes a processos de controle externo. Trata-se da Diretoria de Instrução Processual, cuja subunidade denominada Coordenadoria de Controle de Decisões (CCD) é responsável pelo cadastro, controle e monitoramento das obrigações decorrentes das decisões do TCE/RN e das recomendações de fiscalização e auditoria.\n",
        "\n",
        "Também é da incumbência da CCD o criação do Cadastro Geral de Acompanhamento de Decisões (CGAD), conforme Art. 431 do Regimento Interno do TCE/RN. O referido cadastro inclui:\n",
        "\n",
        "* Cadastro Geral de Multas (CGM), com acompanhamento permanente dos pagamentos\n",
        "diretos ao Tribunal;\n",
        "* Cadastro Geral de Devoluções (CGD), para acompanhamento permanente das condenações para devolução de valores ao Tesouro Estadual e aos Tesouros Municipais;\n",
        "* Cadastro Geral de Recomendações (CGR), para acompanhamento permanente de todas as decisões para obrigação de fazer ou não fazer.\n",
        "* Cadastro Geral de Termos de Ajustamento de Gestão (CGTAG), para acompanhamento dos Termos de Ajustamento de Gestão celebrados pelo Ministério Público junto ao Tribunal.\n",
        "\n",
        "Esse notebook emprega técnicas de Reconhecimento de Entidades Nomeadas, _Word embeddings_ e LLMs para a criação dos cadastros mencionados.\n"
      ],
      "metadata": {
        "id": "G-pPT-brRmm5"
      }
    },
    {
      "cell_type": "code",
      "source": [
        "!pip install langchain_openai langchain_community gdown"
      ],
      "metadata": {
        "id": "biwrcjbQLsbY"
      },
      "execution_count": null,
      "outputs": []
    },
    {
      "cell_type": "code",
      "source": [
        "import os\n",
        "import getpass\n",
        "import gdown\n",
        "\n",
        "import pandas as pd"
      ],
      "metadata": {
        "id": "GPAOm64HLzba"
      },
      "execution_count": 2,
      "outputs": []
    },
    {
      "cell_type": "code",
      "source": [
        "os.environ[\"OPENAI_API_KEY\"] = getpass.getpass(\"OPENAI_API_KEY:\")"
      ],
      "metadata": {
        "colab": {
          "base_uri": "https://localhost:8080/"
        },
        "id": "Xr6kZ5H6cNi8",
        "outputId": "a14ff8c9-bce9-4f7a-a02d-92db86c6f85a"
      },
      "execution_count": 3,
      "outputs": [
        {
          "name": "stdout",
          "output_type": "stream",
          "text": [
            "OPENAI_API_KEY:··········\n"
          ]
        }
      ]
    },
    {
      "cell_type": "markdown",
      "source": [
        "# Dataset\n",
        "\n",
        "O dataset utilizado é composto por decisões exaradas pelo TCE/RN no ano de 2024. Os processos do TCE/RN são compostos por informações. Cada informação representa eventos de um processo, tais como uma petição inicial, um relatório de auditoria, a juntada de um documento, ou, como o caso em tela, a decisão sobre o processo. O conjunto de dados disponível é uma lista de objetos JSON criada a partir da junção das tabelas processo e informação do banco de dados administrativo do TCE/RN. Cada objeto contém os seguintes campos:\n",
        "\n",
        "* `numero_processo`\n",
        "* `ano_processo`\n",
        "* `setor`: o setor de origem da decisão, nesse caso, o gabinete do conselheiro responsável pela decisão;\n",
        "* `codigo_tipo_processo`: o tipo de processo sobre o qual a decisão foi determinada. Um dataframe com as descrições de cada tipo é criado abaixo;\n",
        "* `assunto`: descrição simples do processo;\n",
        "* `resumo`: um resumo da informação de decisão cadastrada;\n",
        "* `texto`: o texto completo de cada decisão, esse campo é obtido por meio da leitura de um arquivo pdf.\n",
        "\n",
        "Foram mantidos no dataset apenas processos referentes a atuações do TCE/RN no controle externo, excluindo-se as decisões referentes a atos de pessoal (aposentadoria, admissão e pensão), assuntos administrativos e \"outros\". Esses assunto são tratados por outras diretorias na estrutura organizacional do TCE/RN (por exemplo, a Diretoria de Atos de Pessoal). Ademais, para esse experimento, só foram escolhidos processos recentes (2021 em diante)."
      ],
      "metadata": {
        "id": "rafnKTlFEXR8"
      }
    },
    {
      "cell_type": "code",
      "source": [
        "url = \"https://raw.githubusercontent.com/eduardoplima/decisoes-lm/refs/heads/main/dataset.json\"\n",
        "output = \"dataset.json\"\n",
        "gdown.download(url, output)\n",
        "\n",
        "url = \"https://raw.githubusercontent.com/eduardoplima/decisoes-lm/refs/heads/main/tipos_processos.csv\"\n",
        "output = \"tipos_processos.csv\"\n",
        "gdown.download(url, output)"
      ],
      "metadata": {
        "colab": {
          "base_uri": "https://localhost:8080/",
          "height": 174
        },
        "id": "DcmLQAKgEX2c",
        "outputId": "c4fc5894-82a5-4577-df7e-d52aaf38bf8d"
      },
      "execution_count": 4,
      "outputs": [
        {
          "output_type": "stream",
          "name": "stderr",
          "text": [
            "Downloading...\n",
            "From: https://raw.githubusercontent.com/eduardoplima/decisoes-lm/refs/heads/main/dataset.json\n",
            "To: /content/dataset.json\n",
            "1.20MB [00:00, 108MB/s]                   \n",
            "Downloading...\n",
            "From: https://raw.githubusercontent.com/eduardoplima/decisoes-lm/refs/heads/main/tipos_processos.csv\n",
            "To: /content/tipos_processos.csv\n",
            "15.7kB [00:00, 19.3MB/s]                   \n"
          ]
        },
        {
          "output_type": "execute_result",
          "data": {
            "text/plain": [
              "'tipos_processos.csv'"
            ],
            "application/vnd.google.colaboratory.intrinsic+json": {
              "type": "string"
            }
          },
          "metadata": {},
          "execution_count": 4
        }
      ]
    },
    {
      "cell_type": "code",
      "source": [
        "tipos = pd.read_csv(\"tipos_processos.csv\")"
      ],
      "metadata": {
        "id": "qqlAOlvtrh54"
      },
      "execution_count": 5,
      "outputs": []
    },
    {
      "cell_type": "code",
      "source": [
        "df = pd.read_json(\"dataset.json\")"
      ],
      "metadata": {
        "id": "2-CAFYzFEYWM"
      },
      "execution_count": 6,
      "outputs": []
    },
    {
      "cell_type": "code",
      "source": [
        "len(df)"
      ],
      "metadata": {
        "colab": {
          "base_uri": "https://localhost:8080/"
        },
        "id": "uENiqsHV3yqO",
        "outputId": "38517eaa-4822-4e93-d96c-3f44426ae947"
      },
      "execution_count": 7,
      "outputs": [
        {
          "output_type": "execute_result",
          "data": {
            "text/plain": [
              "336"
            ]
          },
          "metadata": {},
          "execution_count": 7
        }
      ]
    },
    {
      "cell_type": "code",
      "source": [
        "df.head()"
      ],
      "metadata": {
        "colab": {
          "base_uri": "https://localhost:8080/",
          "height": 206
        },
        "id": "3QYAMvvgpB7d",
        "outputId": "58490688-ca0a-45ef-f237-fe8d6dd68db2"
      },
      "execution_count": 8,
      "outputs": [
        {
          "output_type": "execute_result",
          "data": {
            "text/plain": [
              "   numero_processo  ano_processo codigo_tipo_processo  \\\n",
              "0           200090          2021                  APR   \n",
              "1           200161          2022                  CGE   \n",
              "2              907          2022                  ACO   \n",
              "3             1264          2022                  REP   \n",
              "4             3101          2022                  DEN   \n",
              "\n",
              "                                             assunto  setor          resumo  \\\n",
              "0  INADIMPLÊNCIA NA REMESSA DE SIAI DP NOVO      ...  secpc  ACÓRDÃO PADRÃO   \n",
              "1  INADIMPLÊNCIA NA REMESSA DE CONTAS ANUAIS DE G...  secsc  ACÓRDÃO PADRÃO   \n",
              "2  ACOMPANHAMENTO DE ACUMULAÇÃO DE CARGOS PÚBLICO...  secsc  ACÓRDÃO PADRÃO   \n",
              "3  REPRESENTAÇÃO EM FACE DE CONTRATAÇÕES TEMPORÁR...  secpc  ACÓRDÃO PADRÃO   \n",
              "4  xxx                                           ...  secsc  ACÓRDÃO PADRÃO   \n",
              "\n",
              "  data_resumo                     arquivo  \\\n",
              "0  2024-02-05  secpc_200090_2021_0043.pdf   \n",
              "1  2024-01-17  secsc_200161_2022_0021.pdf   \n",
              "2  2024-02-07  secsc_000907_2022_0041.pdf   \n",
              "3  2024-02-08  secpc_001264_2022_0051.pdf   \n",
              "4  2024-01-25  secsc_003101_2022_0015.pdf   \n",
              "\n",
              "                                               texto  \n",
              "0  [Processo Nº 200090 / 2021 - TC (200090/2021-T...  \n",
              "1  [Processo Nº 200161 / 2022 - TC (200161/2022-C...  \n",
              "2  [Processo Nº 000907 / 2022 - TC (000907/2022-T...  \n",
              "3  [Processo Nº 001264 / 2022 - TC (001264/2022-T...  \n",
              "4  [Processo Nº 003101 / 2022 - TC (003101/2022-T...  "
            ],
            "text/html": [
              "\n",
              "  <div id=\"df-bd528ed5-1161-45a8-9169-fc81f5ffb118\" class=\"colab-df-container\">\n",
              "    <div>\n",
              "<style scoped>\n",
              "    .dataframe tbody tr th:only-of-type {\n",
              "        vertical-align: middle;\n",
              "    }\n",
              "\n",
              "    .dataframe tbody tr th {\n",
              "        vertical-align: top;\n",
              "    }\n",
              "\n",
              "    .dataframe thead th {\n",
              "        text-align: right;\n",
              "    }\n",
              "</style>\n",
              "<table border=\"1\" class=\"dataframe\">\n",
              "  <thead>\n",
              "    <tr style=\"text-align: right;\">\n",
              "      <th></th>\n",
              "      <th>numero_processo</th>\n",
              "      <th>ano_processo</th>\n",
              "      <th>codigo_tipo_processo</th>\n",
              "      <th>assunto</th>\n",
              "      <th>setor</th>\n",
              "      <th>resumo</th>\n",
              "      <th>data_resumo</th>\n",
              "      <th>arquivo</th>\n",
              "      <th>texto</th>\n",
              "    </tr>\n",
              "  </thead>\n",
              "  <tbody>\n",
              "    <tr>\n",
              "      <th>0</th>\n",
              "      <td>200090</td>\n",
              "      <td>2021</td>\n",
              "      <td>APR</td>\n",
              "      <td>INADIMPLÊNCIA NA REMESSA DE SIAI DP NOVO      ...</td>\n",
              "      <td>secpc</td>\n",
              "      <td>ACÓRDÃO PADRÃO</td>\n",
              "      <td>2024-02-05</td>\n",
              "      <td>secpc_200090_2021_0043.pdf</td>\n",
              "      <td>[Processo Nº 200090 / 2021 - TC (200090/2021-T...</td>\n",
              "    </tr>\n",
              "    <tr>\n",
              "      <th>1</th>\n",
              "      <td>200161</td>\n",
              "      <td>2022</td>\n",
              "      <td>CGE</td>\n",
              "      <td>INADIMPLÊNCIA NA REMESSA DE CONTAS ANUAIS DE G...</td>\n",
              "      <td>secsc</td>\n",
              "      <td>ACÓRDÃO PADRÃO</td>\n",
              "      <td>2024-01-17</td>\n",
              "      <td>secsc_200161_2022_0021.pdf</td>\n",
              "      <td>[Processo Nº 200161 / 2022 - TC (200161/2022-C...</td>\n",
              "    </tr>\n",
              "    <tr>\n",
              "      <th>2</th>\n",
              "      <td>907</td>\n",
              "      <td>2022</td>\n",
              "      <td>ACO</td>\n",
              "      <td>ACOMPANHAMENTO DE ACUMULAÇÃO DE CARGOS PÚBLICO...</td>\n",
              "      <td>secsc</td>\n",
              "      <td>ACÓRDÃO PADRÃO</td>\n",
              "      <td>2024-02-07</td>\n",
              "      <td>secsc_000907_2022_0041.pdf</td>\n",
              "      <td>[Processo Nº 000907 / 2022 - TC (000907/2022-T...</td>\n",
              "    </tr>\n",
              "    <tr>\n",
              "      <th>3</th>\n",
              "      <td>1264</td>\n",
              "      <td>2022</td>\n",
              "      <td>REP</td>\n",
              "      <td>REPRESENTAÇÃO EM FACE DE CONTRATAÇÕES TEMPORÁR...</td>\n",
              "      <td>secpc</td>\n",
              "      <td>ACÓRDÃO PADRÃO</td>\n",
              "      <td>2024-02-08</td>\n",
              "      <td>secpc_001264_2022_0051.pdf</td>\n",
              "      <td>[Processo Nº 001264 / 2022 - TC (001264/2022-T...</td>\n",
              "    </tr>\n",
              "    <tr>\n",
              "      <th>4</th>\n",
              "      <td>3101</td>\n",
              "      <td>2022</td>\n",
              "      <td>DEN</td>\n",
              "      <td>xxx                                           ...</td>\n",
              "      <td>secsc</td>\n",
              "      <td>ACÓRDÃO PADRÃO</td>\n",
              "      <td>2024-01-25</td>\n",
              "      <td>secsc_003101_2022_0015.pdf</td>\n",
              "      <td>[Processo Nº 003101 / 2022 - TC (003101/2022-T...</td>\n",
              "    </tr>\n",
              "  </tbody>\n",
              "</table>\n",
              "</div>\n",
              "    <div class=\"colab-df-buttons\">\n",
              "\n",
              "  <div class=\"colab-df-container\">\n",
              "    <button class=\"colab-df-convert\" onclick=\"convertToInteractive('df-bd528ed5-1161-45a8-9169-fc81f5ffb118')\"\n",
              "            title=\"Convert this dataframe to an interactive table.\"\n",
              "            style=\"display:none;\">\n",
              "\n",
              "  <svg xmlns=\"http://www.w3.org/2000/svg\" height=\"24px\" viewBox=\"0 -960 960 960\">\n",
              "    <path d=\"M120-120v-720h720v720H120Zm60-500h600v-160H180v160Zm220 220h160v-160H400v160Zm0 220h160v-160H400v160ZM180-400h160v-160H180v160Zm440 0h160v-160H620v160ZM180-180h160v-160H180v160Zm440 0h160v-160H620v160Z\"/>\n",
              "  </svg>\n",
              "    </button>\n",
              "\n",
              "  <style>\n",
              "    .colab-df-container {\n",
              "      display:flex;\n",
              "      gap: 12px;\n",
              "    }\n",
              "\n",
              "    .colab-df-convert {\n",
              "      background-color: #E8F0FE;\n",
              "      border: none;\n",
              "      border-radius: 50%;\n",
              "      cursor: pointer;\n",
              "      display: none;\n",
              "      fill: #1967D2;\n",
              "      height: 32px;\n",
              "      padding: 0 0 0 0;\n",
              "      width: 32px;\n",
              "    }\n",
              "\n",
              "    .colab-df-convert:hover {\n",
              "      background-color: #E2EBFA;\n",
              "      box-shadow: 0px 1px 2px rgba(60, 64, 67, 0.3), 0px 1px 3px 1px rgba(60, 64, 67, 0.15);\n",
              "      fill: #174EA6;\n",
              "    }\n",
              "\n",
              "    .colab-df-buttons div {\n",
              "      margin-bottom: 4px;\n",
              "    }\n",
              "\n",
              "    [theme=dark] .colab-df-convert {\n",
              "      background-color: #3B4455;\n",
              "      fill: #D2E3FC;\n",
              "    }\n",
              "\n",
              "    [theme=dark] .colab-df-convert:hover {\n",
              "      background-color: #434B5C;\n",
              "      box-shadow: 0px 1px 3px 1px rgba(0, 0, 0, 0.15);\n",
              "      filter: drop-shadow(0px 1px 2px rgba(0, 0, 0, 0.3));\n",
              "      fill: #FFFFFF;\n",
              "    }\n",
              "  </style>\n",
              "\n",
              "    <script>\n",
              "      const buttonEl =\n",
              "        document.querySelector('#df-bd528ed5-1161-45a8-9169-fc81f5ffb118 button.colab-df-convert');\n",
              "      buttonEl.style.display =\n",
              "        google.colab.kernel.accessAllowed ? 'block' : 'none';\n",
              "\n",
              "      async function convertToInteractive(key) {\n",
              "        const element = document.querySelector('#df-bd528ed5-1161-45a8-9169-fc81f5ffb118');\n",
              "        const dataTable =\n",
              "          await google.colab.kernel.invokeFunction('convertToInteractive',\n",
              "                                                    [key], {});\n",
              "        if (!dataTable) return;\n",
              "\n",
              "        const docLinkHtml = 'Like what you see? Visit the ' +\n",
              "          '<a target=\"_blank\" href=https://colab.research.google.com/notebooks/data_table.ipynb>data table notebook</a>'\n",
              "          + ' to learn more about interactive tables.';\n",
              "        element.innerHTML = '';\n",
              "        dataTable['output_type'] = 'display_data';\n",
              "        await google.colab.output.renderOutput(dataTable, element);\n",
              "        const docLink = document.createElement('div');\n",
              "        docLink.innerHTML = docLinkHtml;\n",
              "        element.appendChild(docLink);\n",
              "      }\n",
              "    </script>\n",
              "  </div>\n",
              "\n",
              "\n",
              "<div id=\"df-6745a0d3-ae11-4bc1-9763-ec2415ee831e\">\n",
              "  <button class=\"colab-df-quickchart\" onclick=\"quickchart('df-6745a0d3-ae11-4bc1-9763-ec2415ee831e')\"\n",
              "            title=\"Suggest charts\"\n",
              "            style=\"display:none;\">\n",
              "\n",
              "<svg xmlns=\"http://www.w3.org/2000/svg\" height=\"24px\"viewBox=\"0 0 24 24\"\n",
              "     width=\"24px\">\n",
              "    <g>\n",
              "        <path d=\"M19 3H5c-1.1 0-2 .9-2 2v14c0 1.1.9 2 2 2h14c1.1 0 2-.9 2-2V5c0-1.1-.9-2-2-2zM9 17H7v-7h2v7zm4 0h-2V7h2v10zm4 0h-2v-4h2v4z\"/>\n",
              "    </g>\n",
              "</svg>\n",
              "  </button>\n",
              "\n",
              "<style>\n",
              "  .colab-df-quickchart {\n",
              "      --bg-color: #E8F0FE;\n",
              "      --fill-color: #1967D2;\n",
              "      --hover-bg-color: #E2EBFA;\n",
              "      --hover-fill-color: #174EA6;\n",
              "      --disabled-fill-color: #AAA;\n",
              "      --disabled-bg-color: #DDD;\n",
              "  }\n",
              "\n",
              "  [theme=dark] .colab-df-quickchart {\n",
              "      --bg-color: #3B4455;\n",
              "      --fill-color: #D2E3FC;\n",
              "      --hover-bg-color: #434B5C;\n",
              "      --hover-fill-color: #FFFFFF;\n",
              "      --disabled-bg-color: #3B4455;\n",
              "      --disabled-fill-color: #666;\n",
              "  }\n",
              "\n",
              "  .colab-df-quickchart {\n",
              "    background-color: var(--bg-color);\n",
              "    border: none;\n",
              "    border-radius: 50%;\n",
              "    cursor: pointer;\n",
              "    display: none;\n",
              "    fill: var(--fill-color);\n",
              "    height: 32px;\n",
              "    padding: 0;\n",
              "    width: 32px;\n",
              "  }\n",
              "\n",
              "  .colab-df-quickchart:hover {\n",
              "    background-color: var(--hover-bg-color);\n",
              "    box-shadow: 0 1px 2px rgba(60, 64, 67, 0.3), 0 1px 3px 1px rgba(60, 64, 67, 0.15);\n",
              "    fill: var(--button-hover-fill-color);\n",
              "  }\n",
              "\n",
              "  .colab-df-quickchart-complete:disabled,\n",
              "  .colab-df-quickchart-complete:disabled:hover {\n",
              "    background-color: var(--disabled-bg-color);\n",
              "    fill: var(--disabled-fill-color);\n",
              "    box-shadow: none;\n",
              "  }\n",
              "\n",
              "  .colab-df-spinner {\n",
              "    border: 2px solid var(--fill-color);\n",
              "    border-color: transparent;\n",
              "    border-bottom-color: var(--fill-color);\n",
              "    animation:\n",
              "      spin 1s steps(1) infinite;\n",
              "  }\n",
              "\n",
              "  @keyframes spin {\n",
              "    0% {\n",
              "      border-color: transparent;\n",
              "      border-bottom-color: var(--fill-color);\n",
              "      border-left-color: var(--fill-color);\n",
              "    }\n",
              "    20% {\n",
              "      border-color: transparent;\n",
              "      border-left-color: var(--fill-color);\n",
              "      border-top-color: var(--fill-color);\n",
              "    }\n",
              "    30% {\n",
              "      border-color: transparent;\n",
              "      border-left-color: var(--fill-color);\n",
              "      border-top-color: var(--fill-color);\n",
              "      border-right-color: var(--fill-color);\n",
              "    }\n",
              "    40% {\n",
              "      border-color: transparent;\n",
              "      border-right-color: var(--fill-color);\n",
              "      border-top-color: var(--fill-color);\n",
              "    }\n",
              "    60% {\n",
              "      border-color: transparent;\n",
              "      border-right-color: var(--fill-color);\n",
              "    }\n",
              "    80% {\n",
              "      border-color: transparent;\n",
              "      border-right-color: var(--fill-color);\n",
              "      border-bottom-color: var(--fill-color);\n",
              "    }\n",
              "    90% {\n",
              "      border-color: transparent;\n",
              "      border-bottom-color: var(--fill-color);\n",
              "    }\n",
              "  }\n",
              "</style>\n",
              "\n",
              "  <script>\n",
              "    async function quickchart(key) {\n",
              "      const quickchartButtonEl =\n",
              "        document.querySelector('#' + key + ' button');\n",
              "      quickchartButtonEl.disabled = true;  // To prevent multiple clicks.\n",
              "      quickchartButtonEl.classList.add('colab-df-spinner');\n",
              "      try {\n",
              "        const charts = await google.colab.kernel.invokeFunction(\n",
              "            'suggestCharts', [key], {});\n",
              "      } catch (error) {\n",
              "        console.error('Error during call to suggestCharts:', error);\n",
              "      }\n",
              "      quickchartButtonEl.classList.remove('colab-df-spinner');\n",
              "      quickchartButtonEl.classList.add('colab-df-quickchart-complete');\n",
              "    }\n",
              "    (() => {\n",
              "      let quickchartButtonEl =\n",
              "        document.querySelector('#df-6745a0d3-ae11-4bc1-9763-ec2415ee831e button');\n",
              "      quickchartButtonEl.style.display =\n",
              "        google.colab.kernel.accessAllowed ? 'block' : 'none';\n",
              "    })();\n",
              "  </script>\n",
              "</div>\n",
              "\n",
              "    </div>\n",
              "  </div>\n"
            ],
            "application/vnd.google.colaboratory.intrinsic+json": {
              "type": "dataframe",
              "variable_name": "df",
              "summary": "{\n  \"name\": \"df\",\n  \"rows\": 336,\n  \"fields\": [\n    {\n      \"column\": \"numero_processo\",\n      \"properties\": {\n        \"dtype\": \"number\",\n        \"std\": 109956,\n        \"min\": 68,\n        \"max\": 304561,\n        \"num_unique_values\": 289,\n        \"samples\": [\n          1678,\n          2686,\n          301399\n        ],\n        \"semantic_type\": \"\",\n        \"description\": \"\"\n      }\n    },\n    {\n      \"column\": \"ano_processo\",\n      \"properties\": {\n        \"dtype\": \"number\",\n        \"std\": 0,\n        \"min\": 2021,\n        \"max\": 2024,\n        \"num_unique_values\": 4,\n        \"samples\": [\n          2022,\n          2024,\n          2021\n        ],\n        \"semantic_type\": \"\",\n        \"description\": \"\"\n      }\n    },\n    {\n      \"column\": \"codigo_tipo_processo\",\n      \"properties\": {\n        \"dtype\": \"category\",\n        \"num_unique_values\": 15,\n        \"samples\": [\n          \"FIN\",\n          \"AOP\",\n          \"APR\"\n        ],\n        \"semantic_type\": \"\",\n        \"description\": \"\"\n      }\n    },\n    {\n      \"column\": \"assunto\",\n      \"properties\": {\n        \"dtype\": \"category\",\n        \"num_unique_values\": 113,\n        \"samples\": [\n          \"APURA\\u00c7\\u00c3O DE RESPONSABILIDADE, REFERENTE AO PROCESSO N.\\u00ba 6376/2015-TC                                                                                                                                                                                           \",\n          \"xxx                                                                                                                                                                                                                                                            \",\n          \"REPRESENTA\\u00c7\\u00c3O PARA APURAR VIABILIDADE DO EDITAL DE LICITA\\u00c7\\u00c3O CONCORR\\u00caNCIA N\\u00b0 03/2021-URBANA.                                                                                                                                                                   \"\n        ],\n        \"semantic_type\": \"\",\n        \"description\": \"\"\n      }\n    },\n    {\n      \"column\": \"setor\",\n      \"properties\": {\n        \"dtype\": \"category\",\n        \"num_unique_values\": 3,\n        \"samples\": [\n          \"secpc\",\n          \"secsc\",\n          \"secss\"\n        ],\n        \"semantic_type\": \"\",\n        \"description\": \"\"\n      }\n    },\n    {\n      \"column\": \"resumo\",\n      \"properties\": {\n        \"dtype\": \"category\",\n        \"num_unique_values\": 6,\n        \"samples\": [\n          \"AC\\u00d3RD\\u00c3O PADR\\u00c3O\",\n          \"...\",\n          \"EMENTA: RELAT\\u00d3RIO DE AUDITORIA FINANCEIRA. ENCAMINHAMENTO \\u00c0 UNIDADE DE GERENCIAMENTO DO PROJETO PARA ADO\\u00c7\\u00c3O DAS RECOMENDA\\u00c7\\u00d5ES, COM POSTERIOR REMESSA AO BANCO MUNDIAL, PARA APRECIA\\u00c7\\u00c3O E ADO\\u00c7\\u00c3O DAS MEDIDAS DE ESTILO.\"\n        ],\n        \"semantic_type\": \"\",\n        \"description\": \"\"\n      }\n    },\n    {\n      \"column\": \"data_resumo\",\n      \"properties\": {\n        \"dtype\": \"object\",\n        \"num_unique_values\": 138,\n        \"samples\": [\n          \"2024-10-21\",\n          \"2024-05-27\",\n          \"2024-01-11\"\n        ],\n        \"semantic_type\": \"\",\n        \"description\": \"\"\n      }\n    },\n    {\n      \"column\": \"arquivo\",\n      \"properties\": {\n        \"dtype\": \"string\",\n        \"num_unique_values\": 336,\n        \"samples\": [\n          \"secsc_200042_2023_0025.pdf\",\n          \"secpc_003381_2021_0023.pdf\",\n          \"secsc_004010_2023_0014.pdf\"\n        ],\n        \"semantic_type\": \"\",\n        \"description\": \"\"\n      }\n    },\n    {\n      \"column\": \"texto\",\n      \"properties\": {\n        \"dtype\": \"object\",\n        \"semantic_type\": \"\",\n        \"description\": \"\"\n      }\n    }\n  ]\n}"
            }
          },
          "metadata": {},
          "execution_count": 8
        }
      ]
    },
    {
      "cell_type": "markdown",
      "source": [
        "O texto vem separado em uma lista, cujos índices representam páginas do pdf. Nós agrupamos a string a seguir."
      ],
      "metadata": {
        "id": "1KU7epO84j6K"
      }
    },
    {
      "cell_type": "code",
      "source": [
        "df['texto'] = df['texto'].apply(lambda x: ''.join(x))"
      ],
      "metadata": {
        "id": "B7a41JrXjK9H"
      },
      "execution_count": 9,
      "outputs": []
    },
    {
      "cell_type": "markdown",
      "source": [
        "Em uma análise preliminar percebe-se que as decisões seguem padrões bem diferentes. Por exemplo, abaixo se vê uma determinação de multa. Não há padronização nos campos, ou sequer uma indicação da categoria da decisão."
      ],
      "metadata": {
        "id": "AeNzR6vcUBkN"
      }
    },
    {
      "cell_type": "code",
      "source": [
        "print(df.iloc[15].texto)"
      ],
      "metadata": {
        "colab": {
          "base_uri": "https://localhost:8080/"
        },
        "id": "7P17lFz_jbj_",
        "outputId": "893c5c8f-0806-4d58-8da9-47b36a798e80"
      },
      "execution_count": 14,
      "outputs": [
        {
          "output_type": "stream",
          "name": "stdout",
          "text": [
            "Processo Nº 200158 / 2021 - TC (200158/2021-TC)\n",
            "SESSÃO ORDINÁRIA 00046ª, DE 19 DE DEZEMBRO DE 2023 - 2ª CÂMARA.\n",
            "Interessado(s):   URBANA - COMPANHIA DE SERVIÇOS URBANOS DE NATAL, POR SEU ATUAL \n",
            "GESTOR - CPF:08498701000104\n",
            "  \n",
            "Assunto:  INADIMPLÊNCIA NA REMESSA DE CONTAS ANUAIS DE GESTÃO\n",
            "Responsável(is):  Jonny Araujo da Costa - CPF:20119178400 Joseildes Medeiros da Silva - \n",
            "CPF:22127909453\n",
            "Relator(a):  MARIA ADÉLIA SALES\n",
            "EMENTA: ATRASO NA PRESTAÇÃO DAS CONTAS ANUAIS DE GESTÃO . \n",
            "PREJUÍZOS DIRETOS À ATIVIDADE FISCALIZATÓRIA DESTA CORTE . \n",
            "DEFESA INCONSISTENTE. ATRASO CONFIGURADO. IRREGULARIDADE DA \n",
            "MATÉRIA, NOS TERMOS DO ART. 75, I, DA LCE Nº 464/2012. MULTA AO \n",
            "GESTOR RESPONSÁVEL QUE SE ENCONTRA V A OBRIGADO A APRESENTAR \n",
            "AS CONTAS NA DATA DO SEU VENCIMENTO, NOS MOLDES DO ART. 107, II, \n",
            "“A” E “B”, DA LCE Nº 464/2012 C/C ART. 21, I, “B” E § 2º, DA RESOLUÇÃO Nº \n",
            "012/2016-TCE.\n",
            "ACÓRDÃO No. 340/2023 - TC\n",
            "               Vistos, relatados e discutidos estes autos,  concordando com o Corpo Instrutivo e \n",
            "com o parecer Ministerial, ACORDAM os Conselheiros, nos termos do voto proferido pela \n",
            "Conselheira Relatora, julgar pela irregularidade da matéria, nos termos do art. 75, inciso I, da \n",
            "Lei Orgânica do TCE /RN, com aplicação da penalidade pecuniária cabível em virtude da \n",
            "apresentação intempestiva das contas, no valor de R$ 3.200,00 (três mil e duzentos reais ), nos \n",
            "termos do art. 107, II, “a” e “b”, da Lei Complementar Estadual nº 464/2012, c/c o disposto no \n",
            "art. 21, I, “b”, e § 2º, da Resolução nº 012/2016-TCE/RN, sob a responsabilidade do gestor , \n",
            "Sr. Joseildes Medeiros da Silva. \n",
            "Frise-se que a conduta do gestor, ante o atraso do envio de documentação a esta Corte, não \n",
            "configura ato doloso de improbidade administrativa a que se refere o art. 1º, inciso I, alínea \n",
            "“g”, da Lei Complementar nº 64/90, tendo em conta a incidência da Súmula 29 – TCE/RN. \n",
            "As multas deverão ser recolhidas após o trânsito em julgado da decisão, sob pena de execução \n",
            "na forma do art. 118 da Lei Complementar Estadual de n .º 464/12 c/c art. 334 e seguintes do \n",
            "Regimento Interno desta Corte e arts. 25 a 31 da Resolução de nº 13/2015.\n",
            "Sala das Sessões, 19 de Dezembro de 2023.\n",
            "ATA da Sessão Ordinária nº 00046/2023 de 19/12/2023\n",
            "Presentes: A Excelentíssima Sra. Conselheira Presidente Maria Adélia Sales e os Conselheiros: Paulo \n",
            "Roberto Chaves Alves,  Carlos Thompson Costa Fernandes e o Conselheiro Substituto  Antonio Ed \n",
            "Souza Santana\n",
            "Decisão tomada: Por unanimidade.\n",
            "Representante do MP: O(A) Procurador(a) Thiago Martins Guterres.\n",
            "MARIA ADÉLIA SALES\n",
            "RelAcordao.rpt\n",
            "Av. Presidente Getúlio Vargas, 690 - Ed. Dr. Múcio Vilar Ribeiro Dantas\n",
            "CEP 59012-360 - Petrópolis, Natal/RN\n",
            "www.tce.rn.gov.bConselheiro(a) Relator(a) \n",
            "RelAcordao.rpt\n",
            "Av. Presidente Getúlio Vargas, 690 - Ed. Dr. Múcio Vilar Ribeiro Dantas\n",
            "CEP 59012-360 - Petrópolis, Natal/RN\n",
            "www.tce.rn.gov.b\n"
          ]
        }
      ]
    },
    {
      "cell_type": "markdown",
      "source": [
        "Abaixo um exemplo de obrigação."
      ],
      "metadata": {
        "id": "SlZvyIHnUBCt"
      }
    },
    {
      "cell_type": "code",
      "source": [
        "print(df.iloc[20].texto)"
      ],
      "metadata": {
        "colab": {
          "base_uri": "https://localhost:8080/"
        },
        "id": "54hDROodUAxL",
        "outputId": "c6baf376-df39-4bef-d1b0-b15a93f76876"
      },
      "execution_count": 15,
      "outputs": [
        {
          "output_type": "stream",
          "name": "stdout",
          "text": [
            "Processo Nº 001231 / 2023 - TC (001231/2023-TC)\n",
            "SESSÃO ORDINÁRIA 00004ª, DE 15 DE FEVEREIRO DE 2024 - 1ª CÂMARA.\n",
            "Interessado(s):   PREFEITURA MUNICIPAL DE NÍSIA FLORESTA/RN                                                                                                                                                                                                                      \n",
            "  \n",
            "Assunto:  DENÚNCIA\n",
            "Relator(a):  MARCO ANTÔNIO DE MORAES RÊGO MONTENEGRO\n",
            "EMENTA: DENÚNCIA. AUSÊNCIA DE LASTRO PROBATÓRIO MÍNIMO PARA \n",
            "O DESENVOLVIMENTO REGULAR DO PROCESSO.  ADMISSIBILIDADE \n",
            "PREJUDICADA. INTELIGÊNCIA DO ARTIGO 80, § 1º, DA LOTCE . \n",
            "ARQUIV AMENTO DO PRESENTE FEITO.\n",
            "ACÓRDÃO No. 40/2024 - TC\n",
            "               Vistos, relatados e discutidos estes autos, em consonância ao posicionamento do \n",
            "Corpo técnico e do Ministério Público de Contas, ACORDAM os Conselheiros, nos termos \n",
            "do voto proposto pelo Conselheiro Relator, julgar a inadmissibilidade da presente denúncia e \n",
            "o seu conseqüente arquivamento, com fulcro nos art. 12 do Provimento 002/2020 – \n",
            "CORREG/TCE, aprovado pela Resolução 016/2020 – TCE e artigo 80, § 1º, da LOTCE. \n",
            "E ainda, Pela expedição de RECOMENDAÇÃO, nos termos do art. 301, III da Resolução \n",
            "009/2012 (RITCE/RN) c/c art. 13, II da Resolução 16/2020 –TCE/RN, ao Executivo \n",
            "Municipal de Nísia Floresta /RN, com cópia para o respectivo órgão de controle interno, ou \n",
            "setor responsável pelas publicações oficiais, lastreada na Constituição Federal de 88/ Art. 37, \n",
            "a fim de que promova e deixe claro os seguintes comportamentos em suas postagens:\n",
            "a) As atividades e ações oficiais por meio da rede social devem seguir os imperativos do \n",
            "mencionado § 1º do artigo 37, no sentido de ostentarem natureza educativa e informativa , \n",
            "requerendo do agente, o máximo de cuidado e bom senso ao utilizar -se de tal meio de \n",
            "comunicação;\n",
            "b) Não repassar informações oficiais de maneira antecipada, deturpar informações ou fazer \n",
            "uso de informações oficiais para promoção pessoal;\n",
            "c) Quanto as postagens feitas utilizando -se a ferramenta Collab do Instagram, que sejam \n",
            "excluídas, com o fito de não confundir o eleitor /cidadão acerca da titularidade do conteúdo \n",
            "produzido, sabendo-se que primeiro o conteúdo deve ser postado e produzido pelo perfil \n",
            "oficial do município e só então pode o Prefeito respostar no seu Perfil Pessoal, pois, embora \n",
            "sabendo que a legislação não aborda esse detalhe, tendo em vista novel conceito sobre \n",
            "publicidade, considera-se, a nosso sentir, uma boa prática adotada tanto pelo gestor, como \n",
            "pelo município.\n",
            "RelAcordao.rpt\n",
            "Av. Presidente Getúlio Vargas, 690 - Ed. Dr. Múcio Vilar Ribeiro Dantas\n",
            "CEP 59012-360 - Petrópolis, Natal/RN\n",
            "www.tce.rn.gov.bATA da Sessão Ordinária nº 00004/2024 de 15/02/2024\n",
            "Presentes: o Excelentíssimo Sr. Conselheiro Presidente em substituição legal  Tarcísio Costa e os \n",
            "Conselheiros:  Marco Antônio de Moraes Rêgo Montenegro (em Substituição Legal ), Francisco Potiguar \n",
            "Cavalcanti Júnior e  a Conselheira Substituta Ana Paula de Oliveira Gomes.\n",
            "Decisão tomada: Por unanimidade.\n",
            "Representante do MP: O(A) Procurador(a)  Othon Moreno de Medeiros Alves.\n",
            "Sala das Sessões, 15 de Fevereiro de 2024.\n",
            "MARCO ANTÔNIO DE MORAES RÊGO MONTENEGRO\n",
            "Conselheiro(a) Relator(a) \n",
            "RelAcordao.rpt\n",
            "Av. Presidente Getúlio Vargas, 690 - Ed. Dr. Múcio Vilar Ribeiro Dantas\n",
            "CEP 59012-360 - Petrópolis, Natal/RN\n",
            "www.tce.rn.gov.b\n"
          ]
        }
      ]
    },
    {
      "cell_type": "markdown",
      "source": [
        "Por fim, abaixo vemos um exemplo de Termo de Ajustamento de Gestão. O instrumento também cria uma obrigação."
      ],
      "metadata": {
        "id": "rf4KBqT1iCrZ"
      }
    },
    {
      "cell_type": "code",
      "source": [
        "print(df[df.codigo_tipo_processo == 'TAG'].iloc[0].texto)"
      ],
      "metadata": {
        "colab": {
          "base_uri": "https://localhost:8080/"
        },
        "id": "fJstNvEVh3Ae",
        "outputId": "510eb2c0-fb68-4965-fc76-90de8781689b"
      },
      "execution_count": 19,
      "outputs": [
        {
          "output_type": "stream",
          "name": "stdout",
          "text": [
            "Processo Nº 002056 / 2023 - TC (002056/2023-TC)\n",
            "SESSÃO ORDINÁRIA 00055ª, DE 06 DE AGOSTO DE 2024 - PLENO.\n",
            "Interessado(s):   MINISTÉRIO PÚBLICO DE CONTAS DO RN                                                                                                                                                                                                                             \n",
            "  \n",
            "Assunto:  TERMO DE AJUSTAMENTO DE GESTÃO 001/2023\n",
            "Relator(a):  PAULO ROBERTO CHA VES ALVES\n",
            "EMENTA: TERMO DE AJUSTAMENTO DE GESTÃO. HOMOLOGAÇÃO. \n",
            "DEFERIMENTO. \n",
            "1. TERMO DE AJUSTAMENTO DE GESTÃO COM ESCOPO DE REALIZAÇÃO \n",
            "DE CONCURSO PÚBLICO PARA CRIAÇÃO E PROVIMENTO DE 180 (CENTO E \n",
            "OITENTA) CARGOS EFETIVOS NO IDEMA, EM SUBSTITUIÇÃO A AGENTES \n",
            "VINCULADOS DE FORMA PRECÁRIA POR MEIO DE BOLSA DE PESQUISA.\n",
            "2. PREENCHIMENTO DOS REQUISITOS EXIGIDOS PELA LEI ORGÂNICA E \n",
            "REGIMENTO INTERNO. HOMOLOGAÇÃO NOS TERMOS DO ART. 122, §3º, DA \n",
            "LEI COMPLEMENTAR Nº 464/2012.\n",
            "ACÓRDÃO No. 328/2024 - TC\n",
            "               Vistos, relatados e discutidos estes autos, com fulcro no art. 122, §3º, da Lei \n",
            "Complementar nº 464/2012, ACORDAM os Conselheiros, nos termos do voto proferido pelo \n",
            "Conselheiro Relator, julgar pela HOMOLOGAÇÃO do  TERMO DE AJUSTAMENTO DE \n",
            "GESTÃO nº 001/2023 e seus Aditivos (1º ao 4º), cujo inteiro teor deverá ser publicado no \n",
            "Diário Eletrônico do TCE.\n",
            "Ainda, pelo encaminhamento dos autos à SECRETARIA DE CONTROLE EXTERNO – \n",
            "SECEX, para atendimento ao disposto no art. 355 do RITCE, após o que deverá o caderno ser \n",
            "direcionado ao MINISTÉRIO PÚBLICO DE CONTAS para acompanhamento e fiscalização do \n",
            "seu cumprimento, em atenção ao pactuado na cláusula 3ª do referido TAG.\n",
            "ATA da Sessão Ordinária nº 00055/2024 de 06/08/2024\n",
            "Presentes: o Excelentíssimo Sr. Conselheiro Presidente Antônio Gilberto de Oliveira Jales, os \n",
            "Conselheiros: Paulo Roberto Chaves Alves, Renato Costa Dias, Carlos Thompson Costa Fernandes , \n",
            "Francisco Potiguar Cavalcanti Júnior, Antonio Ed Souza Santana, George Montenegro Soares e os \n",
            "Conselheiros Substitutos Marco Antônio de Moraes Rêgo Montenegro e Ana Paula de Oliveira Gomes.\n",
            "Decisão tomada: Por unanimidade.\n",
            "Representante do MP: O Procurador Geral Adjunto Carlos Roberto Galvão Barros.\n",
            "Sala das Sessões, 06 de Agosto de 2024.\n",
            "PAULO ROBERTO CHA VES ALVES\n",
            "Conselheiro(a) Relator(a) \n",
            "RelAcordao.rpt\n",
            "Av. Presidente Getúlio Vargas, 690 - Ed. Dr. Múcio Vilar Ribeiro Dantas\n",
            "CEP 59012-360 - Petrópolis, Natal/RN\n",
            "www.tce.rn.gov.b\n"
          ]
        }
      ]
    },
    {
      "cell_type": "code",
      "source": [],
      "metadata": {
        "colab": {
          "base_uri": "https://localhost:8080/"
        },
        "id": "9oaaQh1chwGN",
        "outputId": "da01e6fb-19f7-4b1b-e635-7485894afe68"
      },
      "execution_count": 17,
      "outputs": [
        {
          "output_type": "execute_result",
          "data": {
            "text/plain": [
              "array(['ACO', 'AGE', 'AOP', 'APR', 'AUD', 'CFM', 'CGE', 'DEN', 'EXE',\n",
              "       'FIN', 'MON', 'PFA', 'REL', 'REP', 'TAG'], dtype=object)"
            ]
          },
          "metadata": {},
          "execution_count": 17
        }
      ]
    },
    {
      "cell_type": "markdown",
      "source": [
        "# LLMs\n",
        "\n",
        "Nessa seção configuramos os modelos de LLM que vamos utilizar nas seções seguintes"
      ],
      "metadata": {
        "id": "BbA3buJTZUn9"
      }
    },
    {
      "cell_type": "code",
      "source": [
        "from langchain_openai import OpenAI\n",
        "llm = OpenAI()"
      ],
      "metadata": {
        "id": "GRQCHUGSZVFO"
      },
      "execution_count": 13,
      "outputs": []
    },
    {
      "cell_type": "markdown",
      "source": [
        "# Classificação de Texto e Reconhecimento de Entidades Nomeadas\n",
        "\n",
        "O Reconhecimento de Entidades Nomeadas (Named Entity Recognition - NER) é uma técnica fundamental em Processamento de Linguagem Natural (PLN) que visa identificar e classificar automaticamente elementos chave em um texto, como nomes de pessoas, organizações, locais, datas, valores monetários, entre outros. Essa tarefa é essencial para o nosso objetivo, pois é imprescindível detectar os responsáveis citados e outras características da decisão.\n",
        "\n",
        "A análise preliminar demonstrou a necessidade de primeiro definir se há uma multa ou obrigação envolvida na decisão. Após isso, devemos extrair os elementos pertinentes. Desse modo, vamos utilizar uma estratégia de agentes, onde cada um será responsável por tarefas diferentes na nossa linha de produção. Primeiro definimos o tipo do nosso texto e depois extraímos os elementos correspondentes a nossa classificação\n"
      ],
      "metadata": {
        "id": "YZhBZpQTEYKH"
      }
    },
    {
      "cell_type": "code",
      "source": [
        "def is_multa_obrigação(texto):\n",
        ""
      ],
      "metadata": {
        "id": "Hu1faSQ9EZMf"
      },
      "execution_count": null,
      "outputs": []
    },
    {
      "cell_type": "markdown",
      "source": [],
      "metadata": {
        "id": "O4XFoazJZRjN"
      }
    },
    {
      "cell_type": "markdown",
      "source": [],
      "metadata": {
        "id": "uF_VptVlZRQm"
      }
    },
    {
      "cell_type": "code",
      "source": [],
      "metadata": {
        "id": "Lv4vBQAlZQ7y"
      },
      "execution_count": null,
      "outputs": []
    }
  ]
}