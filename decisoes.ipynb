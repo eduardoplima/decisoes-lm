{
  "nbformat": 4,
  "nbformat_minor": 0,
  "metadata": {
    "colab": {
      "provenance": [],
      "machine_shape": "hm",
      "gpuType": "L4",
      "authorship_tag": "ABX9TyN1uGJJKLxXbXr+kt72sd9O",
      "include_colab_link": true
    },
    "kernelspec": {
      "name": "python3",
      "display_name": "Python 3"
    },
    "language_info": {
      "name": "python"
    },
    "accelerator": "GPU"
  },
  "cells": [
    {
      "cell_type": "markdown",
      "metadata": {
        "id": "view-in-github",
        "colab_type": "text"
      },
      "source": [
        "<a href=\"https://colab.research.google.com/github/eduardoplima/decisoes-lm/blob/main/decisoes.ipynb\" target=\"_parent\"><img src=\"https://colab.research.google.com/assets/colab-badge.svg\" alt=\"Open In Colab\"/></a>"
      ]
    },
    {
      "cell_type": "markdown",
      "source": [
        "# Uso de LLMs para análise de decisões do Tribunal de Contas do Estado do Rio Grande do Norte\n",
        "\n",
        "Os Tribunais de Contas possuem atribuições constitucionais diversas, que abrangem desde o julgamento de contas públicas à análise de atos de pessoal (tais como admissão e aposentadoria de servidores público). Seu colegiado, composto normalmente por sete conselheiros, tem o poder de determinar multas ou obrigações de fazer a gestores públicos responsáveis por órgãos jurisdicionados que descumpram normas legais ou conformidades operacionais.\n",
        "\n",
        "No caso específico do Tribunal de Contas do Estado do Rio Grande do Norte, sua estrutura funcional, recém modificada, contempla uma diretoria cuja função é a gestão do exame, instrução e encaminhamentos referentes a processos de controle externo. Trata-se da Diretoria de Instrução Processual, cuja subunidade denominada Coordenadoria de Controle de Decisões (CCD) é responsável pelo cadastro, controle e monitoramento das obrigações decorrentes das decisões do TCE/RN e das recomendações de fiscalização e auditoria.\n",
        "\n",
        "Também é da incumbência da CCD o criação do Cadastro Geral de Acompanhamento de Decisões (CGAD), conforme Art. 431 do Regimento Interno do TCE/RN. O referido cadastro inclui:\n",
        "\n",
        "* Cadastro Geral de Multas (CGM), com acompanhamento permanente dos pagamentos\n",
        "diretos ao Tribunal;\n",
        "* Cadastro Geral de Devoluções (CGD), para acompanhamento permanente das condenações para devolução de valores ao Tesouro Estadual e aos Tesouros Municipais;\n",
        "* Cadastro Geral de Recomendações (CGR), para acompanhamento permanente de todas as decisões para obrigação de fazer ou não fazer.\n",
        "* Cadastro Geral de Termos de Ajustamento de Gestão (CGTAG), para acompanhamento dos Termos de Ajustamento de Gestão celebrados pelo Ministério Público junto ao Tribunal.\n",
        "\n",
        "Esse notebook emprega técnicas de Reconhecimento de Entidades Nomeadas, _Word embeddings_ e LLMs para a criação dos cadastros mencionados.\n"
      ],
      "metadata": {
        "id": "G-pPT-brRmm5"
      }
    },
    {
      "cell_type": "code",
      "source": [
        "!pip install langchain_openai langchain_community gdown langgraph >> /dev/null"
      ],
      "metadata": {
        "id": "biwrcjbQLsbY"
      },
      "execution_count": null,
      "outputs": []
    },
    {
      "cell_type": "code",
      "source": [
        "import os\n",
        "import getpass\n",
        "import gdown\n",
        "\n",
        "import pandas as pd\n",
        "\n",
        "from langchain.prompts import PromptTemplate, ChatPromptTemplate, FewShotChatMessagePromptTemplate\n",
        "from langchain_openai import OpenAI, ChatOpenAI"
      ],
      "metadata": {
        "id": "GPAOm64HLzba"
      },
      "execution_count": null,
      "outputs": []
    },
    {
      "cell_type": "code",
      "source": [
        "os.environ[\"OPENAI_API_KEY\"] = getpass.getpass(\"OPENAI_API_KEY:\")"
      ],
      "metadata": {
        "colab": {
          "base_uri": "https://localhost:8080/"
        },
        "id": "Xr6kZ5H6cNi8",
        "outputId": "02e40402-3425-48dd-adf1-97c584d094d0"
      },
      "execution_count": null,
      "outputs": [
        {
          "name": "stdout",
          "output_type": "stream",
          "text": [
            "OPENAI_API_KEY:··········\n"
          ]
        }
      ]
    },
    {
      "cell_type": "markdown",
      "source": [
        "# Dataset\n",
        "\n",
        "O dataset utilizado é composto por decisões exaradas pelo TCE/RN no ano de 2024. Os processos do TCE/RN são compostos por informações. Cada informação representa eventos de um processo, tais como uma petição inicial, um relatório de auditoria, a juntada de um documento, ou, como o caso em tela, a decisão sobre o processo. O conjunto de dados disponível é uma lista de objetos JSON criada a partir da junção das tabelas processo e informação do banco de dados administrativo do TCE/RN. Cada objeto contém os seguintes campos:\n",
        "\n",
        "* `numero_processo`\n",
        "* `ano_processo`\n",
        "* `setor`: o setor de origem da decisão, nesse caso, o gabinete do conselheiro responsável pela decisão;\n",
        "* `codigo_tipo_processo`: o tipo de processo sobre o qual a decisão foi determinada. Um dataframe com as descrições de cada tipo é criado abaixo;\n",
        "* `assunto`: descrição simples do processo;\n",
        "* `resumo`: um resumo da informação de decisão cadastrada;\n",
        "* `texto`: o texto completo de cada decisão, esse campo é obtido por meio da leitura de um arquivo pdf.\n",
        "\n",
        "Foram mantidos no dataset apenas processos referentes a atuações do TCE/RN no controle externo, excluindo-se as decisões referentes a atos de pessoal (aposentadoria, admissão e pensão), assuntos administrativos e \"outros\". Esses assunto são tratados por outras diretorias na estrutura organizacional do TCE/RN (por exemplo, a Diretoria de Atos de Pessoal). Ademais, para esse experimento, só foram escolhidos processos recentes (2021 em diante)."
      ],
      "metadata": {
        "id": "rafnKTlFEXR8"
      }
    },
    {
      "cell_type": "code",
      "source": [
        "url = \"https://raw.githubusercontent.com/eduardoplima/decisoes-lm/refs/heads/main/dataset.json\"\n",
        "output = \"dataset.json\"\n",
        "gdown.download(url, output)\n",
        "\n",
        "url = \"https://raw.githubusercontent.com/eduardoplima/decisoes-lm/refs/heads/main/tipos_processos.csv\"\n",
        "output = \"tipos_processos.csv\"\n",
        "gdown.download(url, output)"
      ],
      "metadata": {
        "colab": {
          "base_uri": "https://localhost:8080/",
          "height": 174
        },
        "id": "DcmLQAKgEX2c",
        "outputId": "1356ac72-edaa-42ba-80de-b2031da10190"
      },
      "execution_count": null,
      "outputs": [
        {
          "output_type": "stream",
          "name": "stderr",
          "text": [
            "Downloading...\n",
            "From: https://raw.githubusercontent.com/eduardoplima/decisoes-lm/refs/heads/main/dataset.json\n",
            "To: /content/dataset.json\n",
            "1.20MB [00:00, 104MB/s]                   \n",
            "Downloading...\n",
            "From: https://raw.githubusercontent.com/eduardoplima/decisoes-lm/refs/heads/main/tipos_processos.csv\n",
            "To: /content/tipos_processos.csv\n",
            "15.7kB [00:00, 11.3MB/s]                   \n"
          ]
        },
        {
          "output_type": "execute_result",
          "data": {
            "text/plain": [
              "'tipos_processos.csv'"
            ],
            "application/vnd.google.colaboratory.intrinsic+json": {
              "type": "string"
            }
          },
          "metadata": {},
          "execution_count": 4
        }
      ]
    },
    {
      "cell_type": "code",
      "source": [
        "tipos = pd.read_csv(\"tipos_processos.csv\")"
      ],
      "metadata": {
        "id": "qqlAOlvtrh54"
      },
      "execution_count": null,
      "outputs": []
    },
    {
      "cell_type": "code",
      "source": [
        "df = pd.read_json(\"dataset.json\")"
      ],
      "metadata": {
        "id": "2-CAFYzFEYWM"
      },
      "execution_count": null,
      "outputs": []
    },
    {
      "cell_type": "code",
      "source": [
        "len(df)"
      ],
      "metadata": {
        "colab": {
          "base_uri": "https://localhost:8080/"
        },
        "id": "uENiqsHV3yqO",
        "outputId": "bcd1e115-a843-4551-99c1-54f9bc7ce62d"
      },
      "execution_count": null,
      "outputs": [
        {
          "output_type": "execute_result",
          "data": {
            "text/plain": [
              "336"
            ]
          },
          "metadata": {},
          "execution_count": 7
        }
      ]
    },
    {
      "cell_type": "code",
      "source": [
        "df.head()"
      ],
      "metadata": {
        "colab": {
          "base_uri": "https://localhost:8080/",
          "height": 206
        },
        "id": "3QYAMvvgpB7d",
        "outputId": "bd779f77-9619-4932-9842-9ceafadbde84"
      },
      "execution_count": null,
      "outputs": [
        {
          "output_type": "execute_result",
          "data": {
            "text/plain": [
              "   numero_processo  ano_processo codigo_tipo_processo  \\\n",
              "0           200090          2021                  APR   \n",
              "1           200161          2022                  CGE   \n",
              "2              907          2022                  ACO   \n",
              "3             1264          2022                  REP   \n",
              "4             3101          2022                  DEN   \n",
              "\n",
              "                                             assunto  setor          resumo  \\\n",
              "0  INADIMPLÊNCIA NA REMESSA DE SIAI DP NOVO      ...  secpc  ACÓRDÃO PADRÃO   \n",
              "1  INADIMPLÊNCIA NA REMESSA DE CONTAS ANUAIS DE G...  secsc  ACÓRDÃO PADRÃO   \n",
              "2  ACOMPANHAMENTO DE ACUMULAÇÃO DE CARGOS PÚBLICO...  secsc  ACÓRDÃO PADRÃO   \n",
              "3  REPRESENTAÇÃO EM FACE DE CONTRATAÇÕES TEMPORÁR...  secpc  ACÓRDÃO PADRÃO   \n",
              "4  xxx                                           ...  secsc  ACÓRDÃO PADRÃO   \n",
              "\n",
              "  data_resumo                     arquivo  \\\n",
              "0  2024-02-05  secpc_200090_2021_0043.pdf   \n",
              "1  2024-01-17  secsc_200161_2022_0021.pdf   \n",
              "2  2024-02-07  secsc_000907_2022_0041.pdf   \n",
              "3  2024-02-08  secpc_001264_2022_0051.pdf   \n",
              "4  2024-01-25  secsc_003101_2022_0015.pdf   \n",
              "\n",
              "                                               texto  \n",
              "0  [Processo Nº 200090 / 2021 - TC (200090/2021-T...  \n",
              "1  [Processo Nº 200161 / 2022 - TC (200161/2022-C...  \n",
              "2  [Processo Nº 000907 / 2022 - TC (000907/2022-T...  \n",
              "3  [Processo Nº 001264 / 2022 - TC (001264/2022-T...  \n",
              "4  [Processo Nº 003101 / 2022 - TC (003101/2022-T...  "
            ],
            "text/html": [
              "\n",
              "  <div id=\"df-8685c268-a079-4622-ba2c-bc77415e093d\" class=\"colab-df-container\">\n",
              "    <div>\n",
              "<style scoped>\n",
              "    .dataframe tbody tr th:only-of-type {\n",
              "        vertical-align: middle;\n",
              "    }\n",
              "\n",
              "    .dataframe tbody tr th {\n",
              "        vertical-align: top;\n",
              "    }\n",
              "\n",
              "    .dataframe thead th {\n",
              "        text-align: right;\n",
              "    }\n",
              "</style>\n",
              "<table border=\"1\" class=\"dataframe\">\n",
              "  <thead>\n",
              "    <tr style=\"text-align: right;\">\n",
              "      <th></th>\n",
              "      <th>numero_processo</th>\n",
              "      <th>ano_processo</th>\n",
              "      <th>codigo_tipo_processo</th>\n",
              "      <th>assunto</th>\n",
              "      <th>setor</th>\n",
              "      <th>resumo</th>\n",
              "      <th>data_resumo</th>\n",
              "      <th>arquivo</th>\n",
              "      <th>texto</th>\n",
              "    </tr>\n",
              "  </thead>\n",
              "  <tbody>\n",
              "    <tr>\n",
              "      <th>0</th>\n",
              "      <td>200090</td>\n",
              "      <td>2021</td>\n",
              "      <td>APR</td>\n",
              "      <td>INADIMPLÊNCIA NA REMESSA DE SIAI DP NOVO      ...</td>\n",
              "      <td>secpc</td>\n",
              "      <td>ACÓRDÃO PADRÃO</td>\n",
              "      <td>2024-02-05</td>\n",
              "      <td>secpc_200090_2021_0043.pdf</td>\n",
              "      <td>[Processo Nº 200090 / 2021 - TC (200090/2021-T...</td>\n",
              "    </tr>\n",
              "    <tr>\n",
              "      <th>1</th>\n",
              "      <td>200161</td>\n",
              "      <td>2022</td>\n",
              "      <td>CGE</td>\n",
              "      <td>INADIMPLÊNCIA NA REMESSA DE CONTAS ANUAIS DE G...</td>\n",
              "      <td>secsc</td>\n",
              "      <td>ACÓRDÃO PADRÃO</td>\n",
              "      <td>2024-01-17</td>\n",
              "      <td>secsc_200161_2022_0021.pdf</td>\n",
              "      <td>[Processo Nº 200161 / 2022 - TC (200161/2022-C...</td>\n",
              "    </tr>\n",
              "    <tr>\n",
              "      <th>2</th>\n",
              "      <td>907</td>\n",
              "      <td>2022</td>\n",
              "      <td>ACO</td>\n",
              "      <td>ACOMPANHAMENTO DE ACUMULAÇÃO DE CARGOS PÚBLICO...</td>\n",
              "      <td>secsc</td>\n",
              "      <td>ACÓRDÃO PADRÃO</td>\n",
              "      <td>2024-02-07</td>\n",
              "      <td>secsc_000907_2022_0041.pdf</td>\n",
              "      <td>[Processo Nº 000907 / 2022 - TC (000907/2022-T...</td>\n",
              "    </tr>\n",
              "    <tr>\n",
              "      <th>3</th>\n",
              "      <td>1264</td>\n",
              "      <td>2022</td>\n",
              "      <td>REP</td>\n",
              "      <td>REPRESENTAÇÃO EM FACE DE CONTRATAÇÕES TEMPORÁR...</td>\n",
              "      <td>secpc</td>\n",
              "      <td>ACÓRDÃO PADRÃO</td>\n",
              "      <td>2024-02-08</td>\n",
              "      <td>secpc_001264_2022_0051.pdf</td>\n",
              "      <td>[Processo Nº 001264 / 2022 - TC (001264/2022-T...</td>\n",
              "    </tr>\n",
              "    <tr>\n",
              "      <th>4</th>\n",
              "      <td>3101</td>\n",
              "      <td>2022</td>\n",
              "      <td>DEN</td>\n",
              "      <td>xxx                                           ...</td>\n",
              "      <td>secsc</td>\n",
              "      <td>ACÓRDÃO PADRÃO</td>\n",
              "      <td>2024-01-25</td>\n",
              "      <td>secsc_003101_2022_0015.pdf</td>\n",
              "      <td>[Processo Nº 003101 / 2022 - TC (003101/2022-T...</td>\n",
              "    </tr>\n",
              "  </tbody>\n",
              "</table>\n",
              "</div>\n",
              "    <div class=\"colab-df-buttons\">\n",
              "\n",
              "  <div class=\"colab-df-container\">\n",
              "    <button class=\"colab-df-convert\" onclick=\"convertToInteractive('df-8685c268-a079-4622-ba2c-bc77415e093d')\"\n",
              "            title=\"Convert this dataframe to an interactive table.\"\n",
              "            style=\"display:none;\">\n",
              "\n",
              "  <svg xmlns=\"http://www.w3.org/2000/svg\" height=\"24px\" viewBox=\"0 -960 960 960\">\n",
              "    <path d=\"M120-120v-720h720v720H120Zm60-500h600v-160H180v160Zm220 220h160v-160H400v160Zm0 220h160v-160H400v160ZM180-400h160v-160H180v160Zm440 0h160v-160H620v160ZM180-180h160v-160H180v160Zm440 0h160v-160H620v160Z\"/>\n",
              "  </svg>\n",
              "    </button>\n",
              "\n",
              "  <style>\n",
              "    .colab-df-container {\n",
              "      display:flex;\n",
              "      gap: 12px;\n",
              "    }\n",
              "\n",
              "    .colab-df-convert {\n",
              "      background-color: #E8F0FE;\n",
              "      border: none;\n",
              "      border-radius: 50%;\n",
              "      cursor: pointer;\n",
              "      display: none;\n",
              "      fill: #1967D2;\n",
              "      height: 32px;\n",
              "      padding: 0 0 0 0;\n",
              "      width: 32px;\n",
              "    }\n",
              "\n",
              "    .colab-df-convert:hover {\n",
              "      background-color: #E2EBFA;\n",
              "      box-shadow: 0px 1px 2px rgba(60, 64, 67, 0.3), 0px 1px 3px 1px rgba(60, 64, 67, 0.15);\n",
              "      fill: #174EA6;\n",
              "    }\n",
              "\n",
              "    .colab-df-buttons div {\n",
              "      margin-bottom: 4px;\n",
              "    }\n",
              "\n",
              "    [theme=dark] .colab-df-convert {\n",
              "      background-color: #3B4455;\n",
              "      fill: #D2E3FC;\n",
              "    }\n",
              "\n",
              "    [theme=dark] .colab-df-convert:hover {\n",
              "      background-color: #434B5C;\n",
              "      box-shadow: 0px 1px 3px 1px rgba(0, 0, 0, 0.15);\n",
              "      filter: drop-shadow(0px 1px 2px rgba(0, 0, 0, 0.3));\n",
              "      fill: #FFFFFF;\n",
              "    }\n",
              "  </style>\n",
              "\n",
              "    <script>\n",
              "      const buttonEl =\n",
              "        document.querySelector('#df-8685c268-a079-4622-ba2c-bc77415e093d button.colab-df-convert');\n",
              "      buttonEl.style.display =\n",
              "        google.colab.kernel.accessAllowed ? 'block' : 'none';\n",
              "\n",
              "      async function convertToInteractive(key) {\n",
              "        const element = document.querySelector('#df-8685c268-a079-4622-ba2c-bc77415e093d');\n",
              "        const dataTable =\n",
              "          await google.colab.kernel.invokeFunction('convertToInteractive',\n",
              "                                                    [key], {});\n",
              "        if (!dataTable) return;\n",
              "\n",
              "        const docLinkHtml = 'Like what you see? Visit the ' +\n",
              "          '<a target=\"_blank\" href=https://colab.research.google.com/notebooks/data_table.ipynb>data table notebook</a>'\n",
              "          + ' to learn more about interactive tables.';\n",
              "        element.innerHTML = '';\n",
              "        dataTable['output_type'] = 'display_data';\n",
              "        await google.colab.output.renderOutput(dataTable, element);\n",
              "        const docLink = document.createElement('div');\n",
              "        docLink.innerHTML = docLinkHtml;\n",
              "        element.appendChild(docLink);\n",
              "      }\n",
              "    </script>\n",
              "  </div>\n",
              "\n",
              "\n",
              "<div id=\"df-51aa0a67-b3a2-40f9-b83f-04d159771ed9\">\n",
              "  <button class=\"colab-df-quickchart\" onclick=\"quickchart('df-51aa0a67-b3a2-40f9-b83f-04d159771ed9')\"\n",
              "            title=\"Suggest charts\"\n",
              "            style=\"display:none;\">\n",
              "\n",
              "<svg xmlns=\"http://www.w3.org/2000/svg\" height=\"24px\"viewBox=\"0 0 24 24\"\n",
              "     width=\"24px\">\n",
              "    <g>\n",
              "        <path d=\"M19 3H5c-1.1 0-2 .9-2 2v14c0 1.1.9 2 2 2h14c1.1 0 2-.9 2-2V5c0-1.1-.9-2-2-2zM9 17H7v-7h2v7zm4 0h-2V7h2v10zm4 0h-2v-4h2v4z\"/>\n",
              "    </g>\n",
              "</svg>\n",
              "  </button>\n",
              "\n",
              "<style>\n",
              "  .colab-df-quickchart {\n",
              "      --bg-color: #E8F0FE;\n",
              "      --fill-color: #1967D2;\n",
              "      --hover-bg-color: #E2EBFA;\n",
              "      --hover-fill-color: #174EA6;\n",
              "      --disabled-fill-color: #AAA;\n",
              "      --disabled-bg-color: #DDD;\n",
              "  }\n",
              "\n",
              "  [theme=dark] .colab-df-quickchart {\n",
              "      --bg-color: #3B4455;\n",
              "      --fill-color: #D2E3FC;\n",
              "      --hover-bg-color: #434B5C;\n",
              "      --hover-fill-color: #FFFFFF;\n",
              "      --disabled-bg-color: #3B4455;\n",
              "      --disabled-fill-color: #666;\n",
              "  }\n",
              "\n",
              "  .colab-df-quickchart {\n",
              "    background-color: var(--bg-color);\n",
              "    border: none;\n",
              "    border-radius: 50%;\n",
              "    cursor: pointer;\n",
              "    display: none;\n",
              "    fill: var(--fill-color);\n",
              "    height: 32px;\n",
              "    padding: 0;\n",
              "    width: 32px;\n",
              "  }\n",
              "\n",
              "  .colab-df-quickchart:hover {\n",
              "    background-color: var(--hover-bg-color);\n",
              "    box-shadow: 0 1px 2px rgba(60, 64, 67, 0.3), 0 1px 3px 1px rgba(60, 64, 67, 0.15);\n",
              "    fill: var(--button-hover-fill-color);\n",
              "  }\n",
              "\n",
              "  .colab-df-quickchart-complete:disabled,\n",
              "  .colab-df-quickchart-complete:disabled:hover {\n",
              "    background-color: var(--disabled-bg-color);\n",
              "    fill: var(--disabled-fill-color);\n",
              "    box-shadow: none;\n",
              "  }\n",
              "\n",
              "  .colab-df-spinner {\n",
              "    border: 2px solid var(--fill-color);\n",
              "    border-color: transparent;\n",
              "    border-bottom-color: var(--fill-color);\n",
              "    animation:\n",
              "      spin 1s steps(1) infinite;\n",
              "  }\n",
              "\n",
              "  @keyframes spin {\n",
              "    0% {\n",
              "      border-color: transparent;\n",
              "      border-bottom-color: var(--fill-color);\n",
              "      border-left-color: var(--fill-color);\n",
              "    }\n",
              "    20% {\n",
              "      border-color: transparent;\n",
              "      border-left-color: var(--fill-color);\n",
              "      border-top-color: var(--fill-color);\n",
              "    }\n",
              "    30% {\n",
              "      border-color: transparent;\n",
              "      border-left-color: var(--fill-color);\n",
              "      border-top-color: var(--fill-color);\n",
              "      border-right-color: var(--fill-color);\n",
              "    }\n",
              "    40% {\n",
              "      border-color: transparent;\n",
              "      border-right-color: var(--fill-color);\n",
              "      border-top-color: var(--fill-color);\n",
              "    }\n",
              "    60% {\n",
              "      border-color: transparent;\n",
              "      border-right-color: var(--fill-color);\n",
              "    }\n",
              "    80% {\n",
              "      border-color: transparent;\n",
              "      border-right-color: var(--fill-color);\n",
              "      border-bottom-color: var(--fill-color);\n",
              "    }\n",
              "    90% {\n",
              "      border-color: transparent;\n",
              "      border-bottom-color: var(--fill-color);\n",
              "    }\n",
              "  }\n",
              "</style>\n",
              "\n",
              "  <script>\n",
              "    async function quickchart(key) {\n",
              "      const quickchartButtonEl =\n",
              "        document.querySelector('#' + key + ' button');\n",
              "      quickchartButtonEl.disabled = true;  // To prevent multiple clicks.\n",
              "      quickchartButtonEl.classList.add('colab-df-spinner');\n",
              "      try {\n",
              "        const charts = await google.colab.kernel.invokeFunction(\n",
              "            'suggestCharts', [key], {});\n",
              "      } catch (error) {\n",
              "        console.error('Error during call to suggestCharts:', error);\n",
              "      }\n",
              "      quickchartButtonEl.classList.remove('colab-df-spinner');\n",
              "      quickchartButtonEl.classList.add('colab-df-quickchart-complete');\n",
              "    }\n",
              "    (() => {\n",
              "      let quickchartButtonEl =\n",
              "        document.querySelector('#df-51aa0a67-b3a2-40f9-b83f-04d159771ed9 button');\n",
              "      quickchartButtonEl.style.display =\n",
              "        google.colab.kernel.accessAllowed ? 'block' : 'none';\n",
              "    })();\n",
              "  </script>\n",
              "</div>\n",
              "\n",
              "    </div>\n",
              "  </div>\n"
            ],
            "application/vnd.google.colaboratory.intrinsic+json": {
              "type": "dataframe",
              "variable_name": "df",
              "summary": "{\n  \"name\": \"df\",\n  \"rows\": 336,\n  \"fields\": [\n    {\n      \"column\": \"numero_processo\",\n      \"properties\": {\n        \"dtype\": \"number\",\n        \"std\": 109956,\n        \"min\": 68,\n        \"max\": 304561,\n        \"num_unique_values\": 289,\n        \"samples\": [\n          1678,\n          2686,\n          301399\n        ],\n        \"semantic_type\": \"\",\n        \"description\": \"\"\n      }\n    },\n    {\n      \"column\": \"ano_processo\",\n      \"properties\": {\n        \"dtype\": \"number\",\n        \"std\": 0,\n        \"min\": 2021,\n        \"max\": 2024,\n        \"num_unique_values\": 4,\n        \"samples\": [\n          2022,\n          2024,\n          2021\n        ],\n        \"semantic_type\": \"\",\n        \"description\": \"\"\n      }\n    },\n    {\n      \"column\": \"codigo_tipo_processo\",\n      \"properties\": {\n        \"dtype\": \"category\",\n        \"num_unique_values\": 15,\n        \"samples\": [\n          \"FIN\",\n          \"AOP\",\n          \"APR\"\n        ],\n        \"semantic_type\": \"\",\n        \"description\": \"\"\n      }\n    },\n    {\n      \"column\": \"assunto\",\n      \"properties\": {\n        \"dtype\": \"category\",\n        \"num_unique_values\": 113,\n        \"samples\": [\n          \"APURA\\u00c7\\u00c3O DE RESPONSABILIDADE, REFERENTE AO PROCESSO N.\\u00ba 6376/2015-TC                                                                                                                                                                                           \",\n          \"xxx                                                                                                                                                                                                                                                            \",\n          \"REPRESENTA\\u00c7\\u00c3O PARA APURAR VIABILIDADE DO EDITAL DE LICITA\\u00c7\\u00c3O CONCORR\\u00caNCIA N\\u00b0 03/2021-URBANA.                                                                                                                                                                   \"\n        ],\n        \"semantic_type\": \"\",\n        \"description\": \"\"\n      }\n    },\n    {\n      \"column\": \"setor\",\n      \"properties\": {\n        \"dtype\": \"category\",\n        \"num_unique_values\": 3,\n        \"samples\": [\n          \"secpc\",\n          \"secsc\",\n          \"secss\"\n        ],\n        \"semantic_type\": \"\",\n        \"description\": \"\"\n      }\n    },\n    {\n      \"column\": \"resumo\",\n      \"properties\": {\n        \"dtype\": \"category\",\n        \"num_unique_values\": 6,\n        \"samples\": [\n          \"AC\\u00d3RD\\u00c3O PADR\\u00c3O\",\n          \"...\",\n          \"EMENTA: RELAT\\u00d3RIO DE AUDITORIA FINANCEIRA. ENCAMINHAMENTO \\u00c0 UNIDADE DE GERENCIAMENTO DO PROJETO PARA ADO\\u00c7\\u00c3O DAS RECOMENDA\\u00c7\\u00d5ES, COM POSTERIOR REMESSA AO BANCO MUNDIAL, PARA APRECIA\\u00c7\\u00c3O E ADO\\u00c7\\u00c3O DAS MEDIDAS DE ESTILO.\"\n        ],\n        \"semantic_type\": \"\",\n        \"description\": \"\"\n      }\n    },\n    {\n      \"column\": \"data_resumo\",\n      \"properties\": {\n        \"dtype\": \"object\",\n        \"num_unique_values\": 138,\n        \"samples\": [\n          \"2024-10-21\",\n          \"2024-05-27\",\n          \"2024-01-11\"\n        ],\n        \"semantic_type\": \"\",\n        \"description\": \"\"\n      }\n    },\n    {\n      \"column\": \"arquivo\",\n      \"properties\": {\n        \"dtype\": \"string\",\n        \"num_unique_values\": 336,\n        \"samples\": [\n          \"secsc_200042_2023_0025.pdf\",\n          \"secpc_003381_2021_0023.pdf\",\n          \"secsc_004010_2023_0014.pdf\"\n        ],\n        \"semantic_type\": \"\",\n        \"description\": \"\"\n      }\n    },\n    {\n      \"column\": \"texto\",\n      \"properties\": {\n        \"dtype\": \"object\",\n        \"semantic_type\": \"\",\n        \"description\": \"\"\n      }\n    }\n  ]\n}"
            }
          },
          "metadata": {},
          "execution_count": 8
        }
      ]
    },
    {
      "cell_type": "markdown",
      "source": [
        "O texto vem separado em uma lista, cujos índices representam páginas do pdf. Nós agrupamos a string a seguir."
      ],
      "metadata": {
        "id": "1KU7epO84j6K"
      }
    },
    {
      "cell_type": "code",
      "source": [
        "df['texto'] = df['texto'].apply(lambda x: ''.join(x))"
      ],
      "metadata": {
        "id": "B7a41JrXjK9H"
      },
      "execution_count": null,
      "outputs": []
    },
    {
      "cell_type": "markdown",
      "source": [
        "Em uma análise preliminar percebe-se que as decisões seguem padrões bem diferentes. Por exemplo, abaixo se vê uma determinação de multa. Não há padronização nos campos, ou sequer uma indicação da categoria da decisão."
      ],
      "metadata": {
        "id": "AeNzR6vcUBkN"
      }
    },
    {
      "cell_type": "code",
      "source": [
        "print(df.iloc[15].texto)"
      ],
      "metadata": {
        "colab": {
          "base_uri": "https://localhost:8080/"
        },
        "id": "7P17lFz_jbj_",
        "outputId": "f4f64639-dee2-40aa-9df3-1ef7fbc2a500"
      },
      "execution_count": null,
      "outputs": [
        {
          "output_type": "stream",
          "name": "stdout",
          "text": [
            "Processo Nº 200158 / 2021 - TC (200158/2021-TC)\n",
            "SESSÃO ORDINÁRIA 00046ª, DE 19 DE DEZEMBRO DE 2023 - 2ª CÂMARA.\n",
            "Interessado(s):   URBANA - COMPANHIA DE SERVIÇOS URBANOS DE NATAL, POR SEU ATUAL \n",
            "GESTOR - CPF:08498701000104\n",
            "  \n",
            "Assunto:  INADIMPLÊNCIA NA REMESSA DE CONTAS ANUAIS DE GESTÃO\n",
            "Responsável(is):  Jonny Araujo da Costa - CPF:20119178400 Joseildes Medeiros da Silva - \n",
            "CPF:22127909453\n",
            "Relator(a):  MARIA ADÉLIA SALES\n",
            "EMENTA: ATRASO NA PRESTAÇÃO DAS CONTAS ANUAIS DE GESTÃO . \n",
            "PREJUÍZOS DIRETOS À ATIVIDADE FISCALIZATÓRIA DESTA CORTE . \n",
            "DEFESA INCONSISTENTE. ATRASO CONFIGURADO. IRREGULARIDADE DA \n",
            "MATÉRIA, NOS TERMOS DO ART. 75, I, DA LCE Nº 464/2012. MULTA AO \n",
            "GESTOR RESPONSÁVEL QUE SE ENCONTRA V A OBRIGADO A APRESENTAR \n",
            "AS CONTAS NA DATA DO SEU VENCIMENTO, NOS MOLDES DO ART. 107, II, \n",
            "“A” E “B”, DA LCE Nº 464/2012 C/C ART. 21, I, “B” E § 2º, DA RESOLUÇÃO Nº \n",
            "012/2016-TCE.\n",
            "ACÓRDÃO No. 340/2023 - TC\n",
            "               Vistos, relatados e discutidos estes autos,  concordando com o Corpo Instrutivo e \n",
            "com o parecer Ministerial, ACORDAM os Conselheiros, nos termos do voto proferido pela \n",
            "Conselheira Relatora, julgar pela irregularidade da matéria, nos termos do art. 75, inciso I, da \n",
            "Lei Orgânica do TCE /RN, com aplicação da penalidade pecuniária cabível em virtude da \n",
            "apresentação intempestiva das contas, no valor de R$ 3.200,00 (três mil e duzentos reais ), nos \n",
            "termos do art. 107, II, “a” e “b”, da Lei Complementar Estadual nº 464/2012, c/c o disposto no \n",
            "art. 21, I, “b”, e § 2º, da Resolução nº 012/2016-TCE/RN, sob a responsabilidade do gestor , \n",
            "Sr. Joseildes Medeiros da Silva. \n",
            "Frise-se que a conduta do gestor, ante o atraso do envio de documentação a esta Corte, não \n",
            "configura ato doloso de improbidade administrativa a que se refere o art. 1º, inciso I, alínea \n",
            "“g”, da Lei Complementar nº 64/90, tendo em conta a incidência da Súmula 29 – TCE/RN. \n",
            "As multas deverão ser recolhidas após o trânsito em julgado da decisão, sob pena de execução \n",
            "na forma do art. 118 da Lei Complementar Estadual de n .º 464/12 c/c art. 334 e seguintes do \n",
            "Regimento Interno desta Corte e arts. 25 a 31 da Resolução de nº 13/2015.\n",
            "Sala das Sessões, 19 de Dezembro de 2023.\n",
            "ATA da Sessão Ordinária nº 00046/2023 de 19/12/2023\n",
            "Presentes: A Excelentíssima Sra. Conselheira Presidente Maria Adélia Sales e os Conselheiros: Paulo \n",
            "Roberto Chaves Alves,  Carlos Thompson Costa Fernandes e o Conselheiro Substituto  Antonio Ed \n",
            "Souza Santana\n",
            "Decisão tomada: Por unanimidade.\n",
            "Representante do MP: O(A) Procurador(a) Thiago Martins Guterres.\n",
            "MARIA ADÉLIA SALES\n",
            "RelAcordao.rpt\n",
            "Av. Presidente Getúlio Vargas, 690 - Ed. Dr. Múcio Vilar Ribeiro Dantas\n",
            "CEP 59012-360 - Petrópolis, Natal/RN\n",
            "www.tce.rn.gov.bConselheiro(a) Relator(a) \n",
            "RelAcordao.rpt\n",
            "Av. Presidente Getúlio Vargas, 690 - Ed. Dr. Múcio Vilar Ribeiro Dantas\n",
            "CEP 59012-360 - Petrópolis, Natal/RN\n",
            "www.tce.rn.gov.b\n"
          ]
        }
      ]
    },
    {
      "cell_type": "markdown",
      "source": [
        "Abaixo um exemplo de obrigação."
      ],
      "metadata": {
        "id": "SlZvyIHnUBCt"
      }
    },
    {
      "cell_type": "code",
      "source": [
        "print(df.iloc[20].texto)"
      ],
      "metadata": {
        "colab": {
          "base_uri": "https://localhost:8080/"
        },
        "id": "54hDROodUAxL",
        "outputId": "15ad3461-c2dc-4da4-84b3-41b311e5c8e7"
      },
      "execution_count": null,
      "outputs": [
        {
          "output_type": "stream",
          "name": "stdout",
          "text": [
            "Processo Nº 001231 / 2023 - TC (001231/2023-TC)\n",
            "SESSÃO ORDINÁRIA 00004ª, DE 15 DE FEVEREIRO DE 2024 - 1ª CÂMARA.\n",
            "Interessado(s):   PREFEITURA MUNICIPAL DE NÍSIA FLORESTA/RN                                                                                                                                                                                                                      \n",
            "  \n",
            "Assunto:  DENÚNCIA\n",
            "Relator(a):  MARCO ANTÔNIO DE MORAES RÊGO MONTENEGRO\n",
            "EMENTA: DENÚNCIA. AUSÊNCIA DE LASTRO PROBATÓRIO MÍNIMO PARA \n",
            "O DESENVOLVIMENTO REGULAR DO PROCESSO.  ADMISSIBILIDADE \n",
            "PREJUDICADA. INTELIGÊNCIA DO ARTIGO 80, § 1º, DA LOTCE . \n",
            "ARQUIV AMENTO DO PRESENTE FEITO.\n",
            "ACÓRDÃO No. 40/2024 - TC\n",
            "               Vistos, relatados e discutidos estes autos, em consonância ao posicionamento do \n",
            "Corpo técnico e do Ministério Público de Contas, ACORDAM os Conselheiros, nos termos \n",
            "do voto proposto pelo Conselheiro Relator, julgar a inadmissibilidade da presente denúncia e \n",
            "o seu conseqüente arquivamento, com fulcro nos art. 12 do Provimento 002/2020 – \n",
            "CORREG/TCE, aprovado pela Resolução 016/2020 – TCE e artigo 80, § 1º, da LOTCE. \n",
            "E ainda, Pela expedição de RECOMENDAÇÃO, nos termos do art. 301, III da Resolução \n",
            "009/2012 (RITCE/RN) c/c art. 13, II da Resolução 16/2020 –TCE/RN, ao Executivo \n",
            "Municipal de Nísia Floresta /RN, com cópia para o respectivo órgão de controle interno, ou \n",
            "setor responsável pelas publicações oficiais, lastreada na Constituição Federal de 88/ Art. 37, \n",
            "a fim de que promova e deixe claro os seguintes comportamentos em suas postagens:\n",
            "a) As atividades e ações oficiais por meio da rede social devem seguir os imperativos do \n",
            "mencionado § 1º do artigo 37, no sentido de ostentarem natureza educativa e informativa , \n",
            "requerendo do agente, o máximo de cuidado e bom senso ao utilizar -se de tal meio de \n",
            "comunicação;\n",
            "b) Não repassar informações oficiais de maneira antecipada, deturpar informações ou fazer \n",
            "uso de informações oficiais para promoção pessoal;\n",
            "c) Quanto as postagens feitas utilizando -se a ferramenta Collab do Instagram, que sejam \n",
            "excluídas, com o fito de não confundir o eleitor /cidadão acerca da titularidade do conteúdo \n",
            "produzido, sabendo-se que primeiro o conteúdo deve ser postado e produzido pelo perfil \n",
            "oficial do município e só então pode o Prefeito respostar no seu Perfil Pessoal, pois, embora \n",
            "sabendo que a legislação não aborda esse detalhe, tendo em vista novel conceito sobre \n",
            "publicidade, considera-se, a nosso sentir, uma boa prática adotada tanto pelo gestor, como \n",
            "pelo município.\n",
            "RelAcordao.rpt\n",
            "Av. Presidente Getúlio Vargas, 690 - Ed. Dr. Múcio Vilar Ribeiro Dantas\n",
            "CEP 59012-360 - Petrópolis, Natal/RN\n",
            "www.tce.rn.gov.bATA da Sessão Ordinária nº 00004/2024 de 15/02/2024\n",
            "Presentes: o Excelentíssimo Sr. Conselheiro Presidente em substituição legal  Tarcísio Costa e os \n",
            "Conselheiros:  Marco Antônio de Moraes Rêgo Montenegro (em Substituição Legal ), Francisco Potiguar \n",
            "Cavalcanti Júnior e  a Conselheira Substituta Ana Paula de Oliveira Gomes.\n",
            "Decisão tomada: Por unanimidade.\n",
            "Representante do MP: O(A) Procurador(a)  Othon Moreno de Medeiros Alves.\n",
            "Sala das Sessões, 15 de Fevereiro de 2024.\n",
            "MARCO ANTÔNIO DE MORAES RÊGO MONTENEGRO\n",
            "Conselheiro(a) Relator(a) \n",
            "RelAcordao.rpt\n",
            "Av. Presidente Getúlio Vargas, 690 - Ed. Dr. Múcio Vilar Ribeiro Dantas\n",
            "CEP 59012-360 - Petrópolis, Natal/RN\n",
            "www.tce.rn.gov.b\n"
          ]
        }
      ]
    },
    {
      "cell_type": "markdown",
      "source": [
        "Por fim, abaixo vemos um exemplo de Termo de Ajustamento de Gestão. O instrumento também cria uma obrigação."
      ],
      "metadata": {
        "id": "rf4KBqT1iCrZ"
      }
    },
    {
      "cell_type": "code",
      "source": [
        "print(df[df.codigo_tipo_processo == 'TAG'].iloc[0].texto)"
      ],
      "metadata": {
        "colab": {
          "base_uri": "https://localhost:8080/"
        },
        "id": "fJstNvEVh3Ae",
        "outputId": "a4ace14c-e97e-43df-fb35-f6d76718a633"
      },
      "execution_count": null,
      "outputs": [
        {
          "output_type": "stream",
          "name": "stdout",
          "text": [
            "Processo Nº 002056 / 2023 - TC (002056/2023-TC)\n",
            "SESSÃO ORDINÁRIA 00055ª, DE 06 DE AGOSTO DE 2024 - PLENO.\n",
            "Interessado(s):   MINISTÉRIO PÚBLICO DE CONTAS DO RN                                                                                                                                                                                                                             \n",
            "  \n",
            "Assunto:  TERMO DE AJUSTAMENTO DE GESTÃO 001/2023\n",
            "Relator(a):  PAULO ROBERTO CHA VES ALVES\n",
            "EMENTA: TERMO DE AJUSTAMENTO DE GESTÃO. HOMOLOGAÇÃO. \n",
            "DEFERIMENTO. \n",
            "1. TERMO DE AJUSTAMENTO DE GESTÃO COM ESCOPO DE REALIZAÇÃO \n",
            "DE CONCURSO PÚBLICO PARA CRIAÇÃO E PROVIMENTO DE 180 (CENTO E \n",
            "OITENTA) CARGOS EFETIVOS NO IDEMA, EM SUBSTITUIÇÃO A AGENTES \n",
            "VINCULADOS DE FORMA PRECÁRIA POR MEIO DE BOLSA DE PESQUISA.\n",
            "2. PREENCHIMENTO DOS REQUISITOS EXIGIDOS PELA LEI ORGÂNICA E \n",
            "REGIMENTO INTERNO. HOMOLOGAÇÃO NOS TERMOS DO ART. 122, §3º, DA \n",
            "LEI COMPLEMENTAR Nº 464/2012.\n",
            "ACÓRDÃO No. 328/2024 - TC\n",
            "               Vistos, relatados e discutidos estes autos, com fulcro no art. 122, §3º, da Lei \n",
            "Complementar nº 464/2012, ACORDAM os Conselheiros, nos termos do voto proferido pelo \n",
            "Conselheiro Relator, julgar pela HOMOLOGAÇÃO do  TERMO DE AJUSTAMENTO DE \n",
            "GESTÃO nº 001/2023 e seus Aditivos (1º ao 4º), cujo inteiro teor deverá ser publicado no \n",
            "Diário Eletrônico do TCE.\n",
            "Ainda, pelo encaminhamento dos autos à SECRETARIA DE CONTROLE EXTERNO – \n",
            "SECEX, para atendimento ao disposto no art. 355 do RITCE, após o que deverá o caderno ser \n",
            "direcionado ao MINISTÉRIO PÚBLICO DE CONTAS para acompanhamento e fiscalização do \n",
            "seu cumprimento, em atenção ao pactuado na cláusula 3ª do referido TAG.\n",
            "ATA da Sessão Ordinária nº 00055/2024 de 06/08/2024\n",
            "Presentes: o Excelentíssimo Sr. Conselheiro Presidente Antônio Gilberto de Oliveira Jales, os \n",
            "Conselheiros: Paulo Roberto Chaves Alves, Renato Costa Dias, Carlos Thompson Costa Fernandes , \n",
            "Francisco Potiguar Cavalcanti Júnior, Antonio Ed Souza Santana, George Montenegro Soares e os \n",
            "Conselheiros Substitutos Marco Antônio de Moraes Rêgo Montenegro e Ana Paula de Oliveira Gomes.\n",
            "Decisão tomada: Por unanimidade.\n",
            "Representante do MP: O Procurador Geral Adjunto Carlos Roberto Galvão Barros.\n",
            "Sala das Sessões, 06 de Agosto de 2024.\n",
            "PAULO ROBERTO CHA VES ALVES\n",
            "Conselheiro(a) Relator(a) \n",
            "RelAcordao.rpt\n",
            "Av. Presidente Getúlio Vargas, 690 - Ed. Dr. Múcio Vilar Ribeiro Dantas\n",
            "CEP 59012-360 - Petrópolis, Natal/RN\n",
            "www.tce.rn.gov.b\n"
          ]
        }
      ]
    },
    {
      "cell_type": "markdown",
      "source": [
        "# LLMs\n",
        "\n",
        "Nessa seção configuramos os modelos de LLM que vamos utilizar nas seções seguintes"
      ],
      "metadata": {
        "id": "BbA3buJTZUn9"
      }
    },
    {
      "cell_type": "code",
      "source": [
        "llm = ChatOpenAI(temperature=0, model_name='gpt-4o')"
      ],
      "metadata": {
        "id": "GRQCHUGSZVFO"
      },
      "execution_count": null,
      "outputs": []
    },
    {
      "cell_type": "code",
      "source": [
        "print(llm)"
      ],
      "metadata": {
        "colab": {
          "base_uri": "https://localhost:8080/"
        },
        "id": "Y8CadzIJdkS6",
        "outputId": "d626eaa8-12bc-4e4f-af25-619f66d0f0e2"
      },
      "execution_count": null,
      "outputs": [
        {
          "output_type": "stream",
          "name": "stdout",
          "text": [
            "client=<openai.resources.chat.completions.Completions object at 0x79b526956020> async_client=<openai.resources.chat.completions.AsyncCompletions object at 0x79b526998850> root_client=<openai.OpenAI object at 0x79b525b0f6d0> root_async_client=<openai.AsyncOpenAI object at 0x79b526956800> model_name='gpt-4o' temperature=0.0 model_kwargs={} openai_api_key=SecretStr('**********')\n"
          ]
        }
      ]
    },
    {
      "cell_type": "markdown",
      "source": [
        "# Classificação de Texto\n",
        "\n",
        "A classificação de textos é uma tarefa fundamental no campo do Processamento de Linguagem Natural (PLN), onde o objetivo é categorizar automaticamente documentos ou trechos de texto em classes predefinidas. Essa tarefa é amplamente aplicada em diversos contextos, como análise de sentimentos, categorização de notícias, detecção de spam, e sistemas de recomendação.\n",
        "\n",
        "A análise preliminar demonstrou a necessidade de primeiro definir se há uma multa ou obrigação envolvida na decisão. Após isso, devemos extrair os elementos pertinentes. Desse modo, vamos utilizar LLMs para cada uma das tarefas diferentes na nossa linha de produção. Primeiro definimos o tipo do nosso texto e depois extraímos os elementos correspondentes a nossa classificação.\n",
        "\n",
        "Iremos utilizar uma estratégia Few Shot Learning para a classificação.\n"
      ],
      "metadata": {
        "id": "YZhBZpQTEYKH"
      }
    },
    {
      "cell_type": "code",
      "source": [
        "def classify_decision(state):\n",
        "  examples = [\n",
        "      {\n",
        "          \"input\": \"\"\"\n",
        "          - Adoção das providências cabíveis no tocante aos indícios de impropriedades /irregularidades\n",
        "  elencadas na tabela 19 do Relatório (transcritas acima ), com fundamento no art. 2º, inciso III, da\n",
        "  Resolução nº 012/2023-TCE, notadamente para que a Secretaria de Controle Externo analise a\n",
        "  capacidade operacional desta Corte com vistas ao acompanhamento e /ou à abertura de processo\n",
        "  autônomo, respeitadas a conveniência e oportunidade, referente aos itens 4.2 (Divergência dos\n",
        "  dados do planejamento do Projeto, Inconsistência dos saldos da conta bens móveis entre os\n",
        "  registros do SIGEF - Sistema Integrado de Planejamento e Gestão Fiscal - e SMI - Sistema de\n",
        "  Monitoramento e Informações do Projeto - e deficiências na elaboração das notas explicativas ),\n",
        "  5.5.1.1 (Inventário físico ), 5.6.1.1 ( Falhas/deficiências construtivas do Hospital Regional da\n",
        "  Mulher Parteira Maria Correia) e 5.6.1.3 (Pendências de legalização das obras da Biblioteca\n",
        "  Câmara Cascudo e da Sede do Serviço Nacional de Emprego – SINE).\"\"\",\n",
        "          \"output\": \"DETERMINACAO\"}, {\n",
        "          \"input\": \"\"\"( a.i) promovam, no prazo de 120 (cento e vinte dias) úteis, contados a partir da intimação da\n",
        "  presente Decisão, a apuração dos fatos e se verifique a constitucionalidade e legalidade dos\n",
        "  vínculos funcionais de cada servidor que figura nos Anexos nºs. 01 e 02 contidos nos Eventos\n",
        "  nºs. 04 e 05, além de outros que porventura sejam informados pela DDP em cumprimento ao\n",
        "  item b, por meio da instauração de processos administrativos disciplinares individuais ,\n",
        "  regulados pela Lei que trata do Estatuto Jurídico dos Servidores do respectivo Município ,\n",
        "  com observância dos princípios do contraditório, ampla defesa e devido processo legal;\n",
        "    ( a.ii) comprovem neste feito, em 05 dias úteis após ultimado o prazo de definição dos PAD\n",
        "  ´s, as conclusões de todos os processos administrativos instaurados, no tocante à eliminação\n",
        "  de tríplice vínculo funcional identificado e de enquadramento das eventuais acumulações\n",
        "  dúplices nas hipóteses permitidas pela Constituição Federal, com a respectiva\n",
        "  compatibilidade de horários, sob pena de, não cumprindo tais obrigações nos prazos antes\n",
        "  referidos, incidir em multa diária e pessoal ao gestor, no valor de R$ 500,00, com espeque no\n",
        "  art. 110 da LCE nº 464/2012 c/c o art. 326 do RITCE, cabendo à Diretoria de Despesa com\n",
        "  Pessoal monitorar o cumprimento da presente Decisão;\"\"\",\n",
        "          \"output\": \"DETERMINACAO\"}, {\n",
        "          \"input\": \"\"\"Vistos, relatados e discutidos estes autos, em consonância ao posicionamento do\n",
        "  Corpo técnico e do Ministério Público de Contas, ACORDAM os Conselheiros, nos termos\n",
        "  do voto proposto pelo Conselheiro Relator, julgar a inadmissibilidade da presente denúncia e\n",
        "  o seu conseqüente arquivamento, com fulcro nos art. 12 do Provimento 002/2020 –\n",
        "  CORREG/TCE, aprovado pela Resolução 016/2020 – TCE e artigo 80, § 1º, da LOTCE.\n",
        "  E ainda, Pela expedição de RECOMENDAÇÃO, nos termos do art. 301, III da Resolução\n",
        "  009/2012 (RITCE/RN) c/c art. 13, II da Resolução 16/2020 –TCE/RN, ao Executivo\n",
        "  Municipal de Nísia Floresta /RN, com cópia para o respectivo órgão de controle interno, ou\n",
        "  setor responsável pelas publicações oficiais, lastreada na Constituição Federal de 88/ Art. 37,\n",
        "  a fim de que promova e deixe claro os seguintes comportamentos em suas postagens\"\"\",\n",
        "          \"output\": \"DETERMINACAO\"},{\n",
        "          \"input\": \"\"\"Vistos, relatados e discutidos estes autos, concordando com o proposto pelo Corpo\n",
        "  Técnico e pelo órgão Ministerial de Contas, ACORDAM os Conselheiros, nos termos do voto\n",
        "  proferido pelo Conselheiro Relator, julgar pela irregularidade da matéria, nos termos do art .\n",
        "  75, inciso I, da Lei Complementar nº 464/2012, condenando o gestor responsável, Sr. Thiago\n",
        "  Meira Mangueira, ao pagamento de multa no valor de R$ 18.774,51 (dezoito mil setecentos e\n",
        "  setenta e quatro reais e cinquenta e um centavos ), conforme previsto no art. 21, inciso I ,\n",
        "  alínea ‘a’ e § 1º, da Resolução nº 012/2016-TCE c /c o art. 107, inciso II, alínea “a” da Lei\n",
        "  Complementar nº 464/2012. \"\"\",\n",
        "          \"output\": \"DETERMINACAO\"},\n",
        "          {\n",
        "              \"input\": \"\"\"Vistos, relatados e discutidos estes autos, acolhendo os fundamentos do parecer\n",
        "  ministerial, com substrato no art. 209 V da norma regimental, ACORDAM os Conselheiros ,\n",
        "  nos termos do voto proposto pela Conselheira Relatora, julgar pelo ARQUIVAMENTO dos\n",
        "  autos.\"\"\",\n",
        "              \"output\": \"OUTROS\",\n",
        "          },\n",
        "          {\n",
        "              \"input\": \"\"\"Vistos, relatados e discutidos estes autos, ACORDAM os Conselheiros,  com o\n",
        "  impedimento do Conselheiro Presidente Renato Costa Dias, nos termos do voto profposto\n",
        "  pela Conselheira Relatora, haja vista os fundamentos fático -jurídicos explanados no excerto\n",
        "  antecedente, comprovado documentalmente o adimplemento substancial do plano de\n",
        "  redimensionamento/adequação do sistema de ensino natalense, julgar pela EXTINÇÃO do\n",
        "  FEITO nos termos do art. 71 da Lei Complementar (estadual) c/c art. 22 §1° da LINDB e art .\n",
        "  209 V da regra regimental.\"\"\",\n",
        "              \"output\": \"OUTROS\",\n",
        "          },\n",
        "          {\n",
        "              \"input\": \"\"\"Vistos, relatados e discutidos estes autos, em consonância com o posicionamento da\n",
        "  Diretoria de Administração Municipal – DAM e do Ministério Público de Contas ,\n",
        "  ACORDAM os Conselheiros, nos termos do voto proferido pelo Conselheiro Relator, julgar\n",
        "  pelo reconhecimento da incidência da Prescrição Intercorrente sobre a pretensão punitiva e\n",
        "  ressarcitória desta Corte de Contas, nos termos do artigo 111, parágrafo único, da Lei\n",
        "  Complementar Estadual nº 464/2012, com o consequente arquivamento dos presentes autos.\n",
        "  E ainda, pelo envio de cópia das principais peças dos autos ao Ministério Público Estadual ,\n",
        "  para conhecimento e atuação no âmbito de sua competência.\"\"\",\n",
        "              \"output\": \"OUTROS\",\n",
        "          },\n",
        "          {\n",
        "              \"input\": \"\"\"Vistos, relatados e discutidos estes autos, em dissonância com o Ministério Público\n",
        "  de Contas, ACORDAM os Conselheiros, nos termos do voto proferido pelo Conselheiro\n",
        "  Relator, julgar pela extinção do feito, sem julgamento de mérito, com o consequente\n",
        "  ARQUIV AMENTO dos autos, em virtude da incompatibilidade entre a emissão de parecer\n",
        "  prévio pela aprovação com ressalvas das contas de governo e a instauração de apuração de\n",
        "  responsabilidade para aplicação de sanções.\"\"\",\n",
        "              \"output\": \"OUTROS\",\n",
        "          }\n",
        "  ]\n",
        "\n",
        "  example_prompt = ChatPromptTemplate.from_messages([\n",
        "        (\"human\", '''\n",
        "         {input} '''),\n",
        "        (\"ai\", \"{output}\"),\n",
        "    ])\n",
        "\n",
        "  few_shot_prompt = FewShotChatMessagePromptTemplate(\n",
        "    example_prompt=example_prompt,\n",
        "    examples=examples,)\n",
        "\n",
        "  final_prompt = ChatPromptTemplate.from_messages(\n",
        "    [\n",
        "        (\"system\", \"\"\"Você é um classificador de decisões de um tribunal de contas.\n",
        "         Sua tarefa é definir se uma decisão trata de uma multa ou obrigação\n",
        "         de fazer.\n",
        "\n",
        "         Responda com DETERMINACAO se o texto contiver o termo \"multa\" e alguma recomendação ou obrigação de fazer\n",
        "         Responda com OUTROS se o texto tratar de arquivamento, extinção do feito ou prescrição da matéria, ou outro assunto que não seja DETERMINACAO\n",
        "\n",
        "         Responda APENAS com DETERMINACAO ou OUTROS.\"\"\"),\n",
        "        few_shot_prompt,\n",
        "        (\"human\", \"{input}\"),])\n",
        "\n",
        "  chain = final_prompt | llm\n",
        "  decision_type = chain.invoke({\"input\": state[\"messages\"]}).content\n",
        "  state['messages'] = state['messages'] + [decision_type]\n",
        "  return state\n"
      ],
      "metadata": {
        "id": "Go290Tk_nRzW"
      },
      "execution_count": null,
      "outputs": []
    },
    {
      "cell_type": "markdown",
      "source": [
        "Realizamos alguns testes para verificar a eficácia do modelo. Nos casos apresentados, o modelo acerta a categoria de decisão."
      ],
      "metadata": {
        "id": "cYljfjVSMHFi"
      }
    },
    {
      "cell_type": "code",
      "source": [
        "classify_decision({'messages': [df.iloc[1].texto]})"
      ],
      "metadata": {
        "id": "gYPE4VN3zvsh"
      },
      "execution_count": null,
      "outputs": []
    },
    {
      "cell_type": "code",
      "source": [
        "print(df.iloc[1].texto)"
      ],
      "metadata": {
        "colab": {
          "base_uri": "https://localhost:8080/"
        },
        "id": "ShQiEgOw1s3Z",
        "outputId": "8e0a44c3-9efb-4ee2-fea5-7f990ab1704a"
      },
      "execution_count": null,
      "outputs": [
        {
          "output_type": "stream",
          "name": "stdout",
          "text": [
            "Processo Nº 200161 / 2022 - TC (200161/2022-CPRSASSU)\n",
            "SESSÃO ORDINÁRIA 00046ª, DE 19 DE DEZEMBRO DE 2023 - 2ª CÂMARA.\n",
            "Interessado(s):   CONSORCIO PUBLICO REGIONAL DE SANEAMENTO BASICO DO V ALE DO \n",
            "RN, POR SEU ATUAL GESTOR - CPF:18578201000136\n",
            "  \n",
            "Assunto:  INADIMPLÊNCIA NA REMESSA DE CONTAS ANUAIS DE GESTÃO\n",
            "Responsável(is):  THIAGO MEIRA MANGUEIRA - CPF:03181889458\n",
            "Relator(a):  PAULO ROBERTO CHA VES ALVES\n",
            "EMENTA: CONTAS DE GESTÃO DO EXERCÍCIO DE 2021.OMISSÃO NA \n",
            "ENTREGA. REVELIA IRREGULARIDADE DAS CONTAS COM APLICAÇÃO DE \n",
            "MULTA E FIXAÇÃO DE OBRIGAÇÃO DE FAZER.\n",
            "ACÓRDÃO No. 337/2023 - TC\n",
            "               Vistos, relatados e discutidos estes autos, concordando com o proposto pelo Corpo \n",
            "Técnico e pelo órgão Ministerial de Contas, ACORDAM os Conselheiros, nos termos do voto \n",
            "proferido pelo Conselheiro Relator, julgar pela irregularidade da matéria, nos termos do art . \n",
            "75, inciso I, da Lei Complementar nº 464/2012, condenando o gestor responsável, Sr. Thiago \n",
            "Meira Mangueira, ao pagamento de multa no valor de R$ 18.774,51 (dezoito mil setecentos e \n",
            "setenta e quatro reais e cinquenta e um centavos ), conforme previsto no art. 21, inciso I , \n",
            "alínea ‘a’ e § 1º, da Resolução nº 012/2016-TCE c /c o art. 107, inciso II, alínea “a” da Lei \n",
            "Complementar nº 464/2012. \n",
            "Ainda, pela fixação de obrigação de fazer, determinando o prazo de 45 (quarenta e cinco) dias \n",
            "para que a atual gestão do Consórcio Público Regional de Saneamento Básico do Vale do \n",
            "Assu, entregue, através do sistema SIAI, as informações omitidas do exercício de 2021, sob \n",
            "pena da aplicação de multa de R$ 100,00 (cem reais) por dia de atraso ao atual gestor (a) nos \n",
            "termos do art. 110, caput, Lei Complementar nº 464/2012. \n",
            "Por fim, pela suspensão da emissão da Certidão de Adimplência do referido jurisdicionado \n",
            "junto ao TCE /RN, enquanto permanecer a situação omissiva na prestação de contas do \n",
            "exercício de 2021.\n",
            "Sala das Sessões, 19 de Dezembro de 2023.\n",
            "ATA da Sessão Ordinária nº 00046/2023 de 19/12/2023\n",
            "Presentes: A Excelentíssima Sra. Conselheira Presidente Maria Adélia Sales e os Conselheiros: Paulo \n",
            "Roberto Chaves Alves,  Carlos Thompson Costa Fernandes e o Conselheiro Substituto  Antonio Ed \n",
            "Souza Santana\n",
            "Decisão tomada: Por unanimidade.\n",
            "Representante do MP: O(A) Procurador(a) Thiago Martins Guterres.\n",
            "PAULO ROBERTO CHA VES ALVES\n",
            "Conselheiro(a) Relator(a) \n",
            "RelAcordao.rpt\n",
            "Av. Presidente Getúlio Vargas, 690 - Ed. Dr. Múcio Vilar Ribeiro Dantas\n",
            "CEP 59012-360 - Petrópolis, Natal/RN\n",
            "www.tce.rn.gov.bRelAcordao.rpt\n",
            "Av. Presidente Getúlio Vargas, 690 - Ed. Dr. Múcio Vilar Ribeiro Dantas\n",
            "CEP 59012-360 - Petrópolis, Natal/RN\n",
            "www.tce.rn.gov.b\n"
          ]
        }
      ]
    },
    {
      "cell_type": "code",
      "source": [
        "classify_decision({'messages': [df.iloc[0].texto]})"
      ],
      "metadata": {
        "colab": {
          "base_uri": "https://localhost:8080/"
        },
        "id": "CXanL-MAMNdv",
        "outputId": "b9f51912-900b-4929-d478-77426abd1abe"
      },
      "execution_count": null,
      "outputs": [
        {
          "output_type": "execute_result",
          "data": {
            "text/plain": [
              "{'messages': ['Processo Nº 200090 / 2021 - TC (200090/2021-TC)\\nSESSÃO ORDINÁRIA 00002ª, DE 01 DE FEVEREIRO DE 2024 - 1ª CÂMARA.\\nInteressado(s):   PREFEITURA MUNICIPAL DE IELMO MARINHO, POR SEU GESTOR ATUAL - \\nCPF:08004525000107\\n  \\nAssunto:  INADIMPLÊNCIA NA REMESSA DE SIAI DP NOVO\\nApuração de responsabilidade.\\nResponsável(is):  ROSSANE MARQUES LIMA PATRIOTA - CPF:06557099400\\nRelator(a):  ANA PAULA DE OLIVEIRA GOMES\\nEMENTA: APURAÇÃO DE RESPONSABILIDADE. PRESTAÇÃO DE \\nINFORMAÇÕES. QUITAÇÃO DA RESPONSÁVEL. ARQUIVAMENTO DO \\nFEITO.\\nACÓRDÃO No. 15/2024 - TC\\n               Vistos, relatados e discutidos estes autos, ACORDAM os Conselheiros, nos termos \\ndo voto proposto pela Conselheira Relatora, haja vista o teor do parecer 23/2023, com \\nfundamento no art. 73 da LC 464/2012 c/c art. 22 §§ 1° e 2° da LINDB, julgar  pela aprovação \\nda matéria, quitação do responsável e arquivamento do caderno. Precedente utilizado : \\nprocesso 200094/2021 – acórdão 21/2023.\\nFinalmente, pela ampla divulgação do que for decidido pelo órgão fracionário em atenção à \\nefetividade do direito fundamental individual de acesso à informação (art. 5º XXXIII da Lei \\nPolítica vigente).\\nSala das Sessões, 01 de Fevereiro de 2024.\\nATA da Sessão Ordinária nº 00002/2024 de 01/02/2024\\nPresentes: o Excelentíssimo Sr. Conselheiro Presidente Renato Costa Dias e os Conselheiros:  Tarcísio \\nCosta, Francisco Potiguar Cavalcanti Júnior, os Conselheiros Substitutos Marco Antônio de Moraes Rêgo \\nMontenegro e  Ana Paula de Oliveira Gomes\\nDecisão tomada: Por unanimidade.\\nRepresentante do MP: O Procurador  Ricart César Coelho dos Santos.\\nANA PAULA DE OLIVEIRA GOMES\\nConselheiro(a) Relator(a) \\nRelAcordao.rpt\\nAv. Presidente Getúlio Vargas, 690 - Ed. Dr. Múcio Vilar Ribeiro Dantas\\nCEP 59012-360 - Petrópolis, Natal/RN\\nwww.tce.rn.gov.b',\n",
              "  'OUTROS']}"
            ]
          },
          "metadata": {},
          "execution_count": 89
        }
      ]
    },
    {
      "cell_type": "code",
      "source": [
        "print(df.iloc[0].texto)"
      ],
      "metadata": {
        "id": "Lv4vBQAlZQ7y",
        "colab": {
          "base_uri": "https://localhost:8080/"
        },
        "outputId": "476ddf8e-feda-437a-bc39-7e9552e4924e"
      },
      "execution_count": null,
      "outputs": [
        {
          "output_type": "stream",
          "name": "stdout",
          "text": [
            "Processo Nº 200090 / 2021 - TC (200090/2021-TC)\n",
            "SESSÃO ORDINÁRIA 00002ª, DE 01 DE FEVEREIRO DE 2024 - 1ª CÂMARA.\n",
            "Interessado(s):   PREFEITURA MUNICIPAL DE IELMO MARINHO, POR SEU GESTOR ATUAL - \n",
            "CPF:08004525000107\n",
            "  \n",
            "Assunto:  INADIMPLÊNCIA NA REMESSA DE SIAI DP NOVO\n",
            "Apuração de responsabilidade.\n",
            "Responsável(is):  ROSSANE MARQUES LIMA PATRIOTA - CPF:06557099400\n",
            "Relator(a):  ANA PAULA DE OLIVEIRA GOMES\n",
            "EMENTA: APURAÇÃO DE RESPONSABILIDADE. PRESTAÇÃO DE \n",
            "INFORMAÇÕES. QUITAÇÃO DA RESPONSÁVEL. ARQUIVAMENTO DO \n",
            "FEITO.\n",
            "ACÓRDÃO No. 15/2024 - TC\n",
            "               Vistos, relatados e discutidos estes autos, ACORDAM os Conselheiros, nos termos \n",
            "do voto proposto pela Conselheira Relatora, haja vista o teor do parecer 23/2023, com \n",
            "fundamento no art. 73 da LC 464/2012 c/c art. 22 §§ 1° e 2° da LINDB, julgar  pela aprovação \n",
            "da matéria, quitação do responsável e arquivamento do caderno. Precedente utilizado : \n",
            "processo 200094/2021 – acórdão 21/2023.\n",
            "Finalmente, pela ampla divulgação do que for decidido pelo órgão fracionário em atenção à \n",
            "efetividade do direito fundamental individual de acesso à informação (art. 5º XXXIII da Lei \n",
            "Política vigente).\n",
            "Sala das Sessões, 01 de Fevereiro de 2024.\n",
            "ATA da Sessão Ordinária nº 00002/2024 de 01/02/2024\n",
            "Presentes: o Excelentíssimo Sr. Conselheiro Presidente Renato Costa Dias e os Conselheiros:  Tarcísio \n",
            "Costa, Francisco Potiguar Cavalcanti Júnior, os Conselheiros Substitutos Marco Antônio de Moraes Rêgo \n",
            "Montenegro e  Ana Paula de Oliveira Gomes\n",
            "Decisão tomada: Por unanimidade.\n",
            "Representante do MP: O Procurador  Ricart César Coelho dos Santos.\n",
            "ANA PAULA DE OLIVEIRA GOMES\n",
            "Conselheiro(a) Relator(a) \n",
            "RelAcordao.rpt\n",
            "Av. Presidente Getúlio Vargas, 690 - Ed. Dr. Múcio Vilar Ribeiro Dantas\n",
            "CEP 59012-360 - Petrópolis, Natal/RN\n",
            "www.tce.rn.gov.b\n"
          ]
        }
      ]
    },
    {
      "cell_type": "markdown",
      "source": [
        "# Extração de dados\n",
        "\n",
        "Reconhecidas as categorias, temos que extrair as informações úteis para o cadastro de multas e o cadastro de recomendações. Primeiro criamos um classe de dados para essas informações e depois utilizamos nosso modelo para extraí-las.\n",
        "\n",
        "Aqui ressaltamos que uma decisão pode conter várias determinações, e cada uma pode ser uma multa ou uma obrigação. Desse modo, inicialmente, é necessário identificar as determinações de uma decisão para então extrair as informações úteis."
      ],
      "metadata": {
        "id": "0OG3GK9lfxGW"
      }
    },
    {
      "cell_type": "code",
      "source": [
        "from typing import Optional, List\n",
        "\n",
        "from pydantic import BaseModel, Field\n",
        "\n",
        "class Multa(BaseModel):\n",
        "  \"\"\"Determinação de multa, com valor e responsável\"\"\"\n",
        "  responsavel: str = Field(description=\"Nome do responsável pela multa\")\n",
        "  valor: float = Field(description=\"Valor da multa\")\n",
        "\n",
        "class Obrigacao(BaseModel):\n",
        "  \"\"\"Determinação de obrigação, com valor e responsável\"\"\"\n",
        "  responsavel: str = Field(description=\"Nome do órgão ou gestor responsável pela obrigação\")\n",
        "  descricao: str = Field(description=\"Texto descritivo da obrigação\")\n",
        "\n",
        "class Decisao(BaseModel):\n",
        "  \"\"\"Decisão processual do TCE/RN\"\"\"\n",
        "  determinacao: List[Optional[Multa | Obrigacao]] = Field(description=\"Determinação de multa ou obrigação\")\n",
        "\n"
      ],
      "metadata": {
        "id": "y9qvSFiffu0O"
      },
      "execution_count": null,
      "outputs": []
    },
    {
      "cell_type": "code",
      "source": [
        "def identify_decision(state):\n",
        "  prompt = PromptTemplate.from_template(\"\"\"\n",
        "  Você é um agente que identifica listas de determinações em textos de decisões. Seu objetivo\n",
        "  é extrair um conjunto de textos de uma lista que contém obrigações ou imposições de multas. Se não houver\n",
        "  determinações, responda apenas com \"N/D\"\n",
        "\n",
        "  Decisão : {input}\n",
        "\n",
        "  Sua resposta:\n",
        "  \"\"\")\n",
        "\n",
        "  structured_llm = llm.with_structured_output(schema=Decisao)\n",
        "  chain = prompt | structured_llm\n",
        "  response = chain.invoke(state['messages'])\n",
        "  state['messages'] = state['messages'] + [response]\n",
        "  return state"
      ],
      "metadata": {
        "id": "SLK3iFwV71Kv"
      },
      "execution_count": null,
      "outputs": []
    },
    {
      "cell_type": "code",
      "source": [
        "d = identify_decision({'messages': [df.iloc[1].texto]})"
      ],
      "metadata": {
        "id": "o74PrKVn8dVg"
      },
      "execution_count": null,
      "outputs": []
    },
    {
      "cell_type": "code",
      "source": [
        "'determinacao' in d['messages'][-1].__dict__"
      ],
      "metadata": {
        "colab": {
          "base_uri": "https://localhost:8080/"
        },
        "id": "mz1zgPr0xXkQ",
        "outputId": "8d84e481-405d-48fd-fc68-729d8f46a142"
      },
      "execution_count": null,
      "outputs": [
        {
          "output_type": "execute_result",
          "data": {
            "text/plain": [
              "True"
            ]
          },
          "metadata": {},
          "execution_count": 126
        }
      ]
    },
    {
      "cell_type": "code",
      "source": [
        "d['messages'][-1].determinacao[0]"
      ],
      "metadata": {
        "colab": {
          "base_uri": "https://localhost:8080/"
        },
        "id": "p-vM4jbazBxT",
        "outputId": "0f98748b-a49b-4900-ea3e-c594fa43046a"
      },
      "execution_count": null,
      "outputs": [
        {
          "output_type": "execute_result",
          "data": {
            "text/plain": [
              "Multa(responsavel='Thiago Meira Mangueira', valor=18774.51)"
            ]
          },
          "metadata": {},
          "execution_count": 150
        }
      ]
    },
    {
      "cell_type": "code",
      "source": [
        "print(df.iloc[1].texto)"
      ],
      "metadata": {
        "colab": {
          "base_uri": "https://localhost:8080/"
        },
        "id": "CQa5Xgl41H_s",
        "outputId": "0025106f-1189-43bb-bbca-235507918bdb"
      },
      "execution_count": null,
      "outputs": [
        {
          "output_type": "stream",
          "name": "stdout",
          "text": [
            "Processo Nº 200161 / 2022 - TC (200161/2022-CPRSASSU)\n",
            "SESSÃO ORDINÁRIA 00046ª, DE 19 DE DEZEMBRO DE 2023 - 2ª CÂMARA.\n",
            "Interessado(s):   CONSORCIO PUBLICO REGIONAL DE SANEAMENTO BASICO DO V ALE DO \n",
            "RN, POR SEU ATUAL GESTOR - CPF:18578201000136\n",
            "  \n",
            "Assunto:  INADIMPLÊNCIA NA REMESSA DE CONTAS ANUAIS DE GESTÃO\n",
            "Responsável(is):  THIAGO MEIRA MANGUEIRA - CPF:03181889458\n",
            "Relator(a):  PAULO ROBERTO CHA VES ALVES\n",
            "EMENTA: CONTAS DE GESTÃO DO EXERCÍCIO DE 2021.OMISSÃO NA \n",
            "ENTREGA. REVELIA IRREGULARIDADE DAS CONTAS COM APLICAÇÃO DE \n",
            "MULTA E FIXAÇÃO DE OBRIGAÇÃO DE FAZER.\n",
            "ACÓRDÃO No. 337/2023 - TC\n",
            "               Vistos, relatados e discutidos estes autos, concordando com o proposto pelo Corpo \n",
            "Técnico e pelo órgão Ministerial de Contas, ACORDAM os Conselheiros, nos termos do voto \n",
            "proferido pelo Conselheiro Relator, julgar pela irregularidade da matéria, nos termos do art . \n",
            "75, inciso I, da Lei Complementar nº 464/2012, condenando o gestor responsável, Sr. Thiago \n",
            "Meira Mangueira, ao pagamento de multa no valor de R$ 18.774,51 (dezoito mil setecentos e \n",
            "setenta e quatro reais e cinquenta e um centavos ), conforme previsto no art. 21, inciso I , \n",
            "alínea ‘a’ e § 1º, da Resolução nº 012/2016-TCE c /c o art. 107, inciso II, alínea “a” da Lei \n",
            "Complementar nº 464/2012. \n",
            "Ainda, pela fixação de obrigação de fazer, determinando o prazo de 45 (quarenta e cinco) dias \n",
            "para que a atual gestão do Consórcio Público Regional de Saneamento Básico do Vale do \n",
            "Assu, entregue, através do sistema SIAI, as informações omitidas do exercício de 2021, sob \n",
            "pena da aplicação de multa de R$ 100,00 (cem reais) por dia de atraso ao atual gestor (a) nos \n",
            "termos do art. 110, caput, Lei Complementar nº 464/2012. \n",
            "Por fim, pela suspensão da emissão da Certidão de Adimplência do referido jurisdicionado \n",
            "junto ao TCE /RN, enquanto permanecer a situação omissiva na prestação de contas do \n",
            "exercício de 2021.\n",
            "Sala das Sessões, 19 de Dezembro de 2023.\n",
            "ATA da Sessão Ordinária nº 00046/2023 de 19/12/2023\n",
            "Presentes: A Excelentíssima Sra. Conselheira Presidente Maria Adélia Sales e os Conselheiros: Paulo \n",
            "Roberto Chaves Alves,  Carlos Thompson Costa Fernandes e o Conselheiro Substituto  Antonio Ed \n",
            "Souza Santana\n",
            "Decisão tomada: Por unanimidade.\n",
            "Representante do MP: O(A) Procurador(a) Thiago Martins Guterres.\n",
            "PAULO ROBERTO CHA VES ALVES\n",
            "Conselheiro(a) Relator(a) \n",
            "RelAcordao.rpt\n",
            "Av. Presidente Getúlio Vargas, 690 - Ed. Dr. Múcio Vilar Ribeiro Dantas\n",
            "CEP 59012-360 - Petrópolis, Natal/RN\n",
            "www.tce.rn.gov.bRelAcordao.rpt\n",
            "Av. Presidente Getúlio Vargas, 690 - Ed. Dr. Múcio Vilar Ribeiro Dantas\n",
            "CEP 59012-360 - Petrópolis, Natal/RN\n",
            "www.tce.rn.gov.b\n"
          ]
        }
      ]
    },
    {
      "cell_type": "markdown",
      "source": [
        "É possível ver que o LLM é bem-sucedido na extração de informações estruturadas de decisões. O próximo passo é verificar as informações e complementá-las com bases de dados externas."
      ],
      "metadata": {
        "id": "TCgMd6QG1TcZ"
      }
    },
    {
      "cell_type": "markdown",
      "source": [
        "# Tool Calling\n",
        "\n",
        "O TCE/RN possui bancos de dados sensíveis referentes a informações de pessoas físicas e jurídicas, tais como bCPF e bCNPJ (oriundos da plataforma bCadastros disponibilizada pelo SERPRO), assim como DETRAN e IPTU (úteis para a verificação de existência de bens em caso de devedores inadimplentes). Dessa forma, em uma implementação final, nosso agente será capaz de fornecer informações complementares à saída do nosso agente. Por enquanto, iremos _mockar_ a busca por CPF reconhecimento em uma decisão por multa. A função será então chamada via `tool calling` por nosso modelo."
      ],
      "metadata": {
        "id": "uDUosbzOMPNU"
      }
    },
    {
      "cell_type": "code",
      "source": [
        "from langchain_core.tools import StructuredTool\n",
        "\n",
        "def search_pessoa(nome):\n",
        "  \"\"\"Procura dados de uma pessoa\"\"\"\n",
        "  return {\n",
        "    'nome': nome,\n",
        "    'endereço': 'Av Tal, Bairro Bem Ali, nº 1',\n",
        "    'telefone': '84123456789'\n",
        "  }\n",
        "\n",
        "search_pessoa_tool = StructuredTool.from_function(func=search_pessoa, parse_docstring=True, )\n"
      ],
      "metadata": {
        "id": "C95oMYzHMPsR"
      },
      "execution_count": null,
      "outputs": []
    },
    {
      "cell_type": "code",
      "source": [
        "search_pessoa_tool.to_json()"
      ],
      "metadata": {
        "colab": {
          "base_uri": "https://localhost:8080/"
        },
        "id": "W_vgIqga8B-f",
        "outputId": "9c5a25ce-b466-4b4e-fe50-932e6162dc64"
      },
      "execution_count": null,
      "outputs": [
        {
          "output_type": "execute_result",
          "data": {
            "text/plain": [
              "{'lc': 1,\n",
              " 'type': 'not_implemented',\n",
              " 'id': ['langchain_core', 'tools', 'structured', 'StructuredTool'],\n",
              " 'repr': \"StructuredTool(name='search_pessoa', description='Procura dados de uma pessoa', args_schema=<class 'langchain_core.utils.pydantic.search_pessoa'>, func=<function search_pessoa at 0x79b525b6bf40>)\",\n",
              " 'name': 'search_pessoa'}"
            ]
          },
          "metadata": {},
          "execution_count": 27
        }
      ]
    },
    {
      "cell_type": "code",
      "source": [
        "llm_with_tools = llm.bind_tools([search_pessoa_tool])"
      ],
      "metadata": {
        "id": "kGkbX4RZ8Cd2"
      },
      "execution_count": null,
      "outputs": []
    },
    {
      "cell_type": "code",
      "source": [
        "response = identify_decision({'messages': df.iloc[1].texto})"
      ],
      "metadata": {
        "id": "VjtkuGLr8SfW"
      },
      "execution_count": null,
      "outputs": []
    },
    {
      "cell_type": "code",
      "source": [
        "response['determinacoes'].determinacao[0]"
      ],
      "metadata": {
        "colab": {
          "base_uri": "https://localhost:8080/"
        },
        "id": "Fs9h40Zs8uTW",
        "outputId": "33d05502-b8d3-44b6-f096-14c2e40e980d"
      },
      "execution_count": null,
      "outputs": [
        {
          "output_type": "execute_result",
          "data": {
            "text/plain": [
              "Multa(responsavel='Thiago Meira Mangueira', valor=18774.51)"
            ]
          },
          "metadata": {},
          "execution_count": 55
        }
      ]
    },
    {
      "cell_type": "code",
      "source": [
        "response = llm_with_tools.invoke(str(response['determinacoes'].determinacao[0].responsavel))"
      ],
      "metadata": {
        "id": "Ny4iifYS8MjF"
      },
      "execution_count": null,
      "outputs": []
    },
    {
      "cell_type": "code",
      "source": [
        "response.tool_calls"
      ],
      "metadata": {
        "colab": {
          "base_uri": "https://localhost:8080/"
        },
        "id": "P3Pvy7yS_g8X",
        "outputId": "c7750074-c7af-419e-c3aa-d49e92f2e5d7"
      },
      "execution_count": null,
      "outputs": [
        {
          "output_type": "execute_result",
          "data": {
            "text/plain": [
              "[{'name': 'search_pessoa',\n",
              "  'args': {'nome': 'Thiago Meira Mangueira'},\n",
              "  'id': 'call_cvJQGz0DTeyzAvEib6Cb1x69',\n",
              "  'type': 'tool_call'}]"
            ]
          },
          "metadata": {},
          "execution_count": 57
        }
      ]
    },
    {
      "cell_type": "markdown",
      "source": [
        "# Criação de um agente\n",
        "\n",
        "Criadas as funções que extraem as informações pertinentes, esses componentes podem ser agrupados em um agente. Nos trechos de códigos a seguir vemos a construção de um agente por meio da ferramenta langgraph. Cada função apresentada de forma separada é unida em um grafo, cujo resultado final é o texto devidamente classificado, com suas determinações e pessoas envolvidadas identificadas."
      ],
      "metadata": {
        "id": "SDiNy1I_U7Xk"
      }
    },
    {
      "cell_type": "code",
      "source": [
        "texto = df.iloc[1].texto"
      ],
      "metadata": {
        "id": "2xMBATYgU7J6"
      },
      "execution_count": null,
      "outputs": []
    },
    {
      "cell_type": "code",
      "source": [
        "print(texto)"
      ],
      "metadata": {
        "colab": {
          "base_uri": "https://localhost:8080/"
        },
        "id": "HY_YuydewPN5",
        "outputId": "ecd95d1f-9699-4b3d-dec9-6bd72a2d54e1"
      },
      "execution_count": null,
      "outputs": [
        {
          "output_type": "stream",
          "name": "stdout",
          "text": [
            "Processo Nº 200161 / 2022 - TC (200161/2022-CPRSASSU)\n",
            "SESSÃO ORDINÁRIA 00046ª, DE 19 DE DEZEMBRO DE 2023 - 2ª CÂMARA.\n",
            "Interessado(s):   CONSORCIO PUBLICO REGIONAL DE SANEAMENTO BASICO DO V ALE DO \n",
            "RN, POR SEU ATUAL GESTOR - CPF:18578201000136\n",
            "  \n",
            "Assunto:  INADIMPLÊNCIA NA REMESSA DE CONTAS ANUAIS DE GESTÃO\n",
            "Responsável(is):  THIAGO MEIRA MANGUEIRA - CPF:03181889458\n",
            "Relator(a):  PAULO ROBERTO CHA VES ALVES\n",
            "EMENTA: CONTAS DE GESTÃO DO EXERCÍCIO DE 2021.OMISSÃO NA \n",
            "ENTREGA. REVELIA IRREGULARIDADE DAS CONTAS COM APLICAÇÃO DE \n",
            "MULTA E FIXAÇÃO DE OBRIGAÇÃO DE FAZER.\n",
            "ACÓRDÃO No. 337/2023 - TC\n",
            "               Vistos, relatados e discutidos estes autos, concordando com o proposto pelo Corpo \n",
            "Técnico e pelo órgão Ministerial de Contas, ACORDAM os Conselheiros, nos termos do voto \n",
            "proferido pelo Conselheiro Relator, julgar pela irregularidade da matéria, nos termos do art . \n",
            "75, inciso I, da Lei Complementar nº 464/2012, condenando o gestor responsável, Sr. Thiago \n",
            "Meira Mangueira, ao pagamento de multa no valor de R$ 18.774,51 (dezoito mil setecentos e \n",
            "setenta e quatro reais e cinquenta e um centavos ), conforme previsto no art. 21, inciso I , \n",
            "alínea ‘a’ e § 1º, da Resolução nº 012/2016-TCE c /c o art. 107, inciso II, alínea “a” da Lei \n",
            "Complementar nº 464/2012. \n",
            "Ainda, pela fixação de obrigação de fazer, determinando o prazo de 45 (quarenta e cinco) dias \n",
            "para que a atual gestão do Consórcio Público Regional de Saneamento Básico do Vale do \n",
            "Assu, entregue, através do sistema SIAI, as informações omitidas do exercício de 2021, sob \n",
            "pena da aplicação de multa de R$ 100,00 (cem reais) por dia de atraso ao atual gestor (a) nos \n",
            "termos do art. 110, caput, Lei Complementar nº 464/2012. \n",
            "Por fim, pela suspensão da emissão da Certidão de Adimplência do referido jurisdicionado \n",
            "junto ao TCE /RN, enquanto permanecer a situação omissiva na prestação de contas do \n",
            "exercício de 2021.\n",
            "Sala das Sessões, 19 de Dezembro de 2023.\n",
            "ATA da Sessão Ordinária nº 00046/2023 de 19/12/2023\n",
            "Presentes: A Excelentíssima Sra. Conselheira Presidente Maria Adélia Sales e os Conselheiros: Paulo \n",
            "Roberto Chaves Alves,  Carlos Thompson Costa Fernandes e o Conselheiro Substituto  Antonio Ed \n",
            "Souza Santana\n",
            "Decisão tomada: Por unanimidade.\n",
            "Representante do MP: O(A) Procurador(a) Thiago Martins Guterres.\n",
            "PAULO ROBERTO CHA VES ALVES\n",
            "Conselheiro(a) Relator(a) \n",
            "RelAcordao.rpt\n",
            "Av. Presidente Getúlio Vargas, 690 - Ed. Dr. Múcio Vilar Ribeiro Dantas\n",
            "CEP 59012-360 - Petrópolis, Natal/RN\n",
            "www.tce.rn.gov.bRelAcordao.rpt\n",
            "Av. Presidente Getúlio Vargas, 690 - Ed. Dr. Múcio Vilar Ribeiro Dantas\n",
            "CEP 59012-360 - Petrópolis, Natal/RN\n",
            "www.tce.rn.gov.b\n"
          ]
        }
      ]
    },
    {
      "cell_type": "code",
      "source": [
        "from langgraph.prebuilt  import ToolNode\n",
        "\n",
        "tool_node = ToolNode([search_pessoa_tool])"
      ],
      "metadata": {
        "id": "taL2OKBDxVlX"
      },
      "execution_count": null,
      "outputs": []
    },
    {
      "cell_type": "code",
      "source": [
        "import operator\n",
        "from typing import Annotated, Sequence, TypedDict\n",
        "from langchain_core.messages import BaseMessage\n",
        "\n",
        "class AgentState(TypedDict):\n",
        "    messages: Annotated[Sequence[BaseMessage], operator.add]"
      ],
      "metadata": {
        "id": "9wz8UOpMwPGI"
      },
      "execution_count": null,
      "outputs": []
    },
    {
      "cell_type": "code",
      "source": [
        "from langchain_core.messages import ToolMessage\n",
        "from langgraph.prebuilt import ToolInvocation\n",
        "\n",
        "def should_continue_classify(state):\n",
        "    if not state['messages'][-1]:\n",
        "        return \"end\"\n",
        "    else:\n",
        "        return \"continue\"\n",
        "\n",
        "def should_continue_identify(state):\n",
        "    if not state['messages'][-1] == 'DETERMINACAO':\n",
        "        return \"end\"\n",
        "    else:\n",
        "        return \"continue\"\n",
        "\n",
        "def call_model(state):\n",
        "    messages = state[\"messages\"]\n",
        "    response = llm_with_tools.invoke(messages)\n",
        "    return response\n",
        "\n",
        "def call_tool(state):\n",
        "  print(state['messages'][-1].__dict__.keys())\n",
        "  if 'determinacao' in state['messages'][-1].__dict__.keys():\n",
        "    for determinacao in state['messages'][-1].determinacao:\n",
        "      if not determinacao.responsavel:\n",
        "        continue\n",
        "      response = llm_with_tools.invoke(str(determinacao.responsavel))\n",
        "      print(response)\n",
        "      response = tool_node.invoke({'messages': [response]})\n",
        "      state['messages'] = state['messages'] + [response['messages']]\n",
        "      return state\n"
      ],
      "metadata": {
        "id": "X-KbeCPewO9O"
      },
      "execution_count": null,
      "outputs": []
    },
    {
      "cell_type": "code",
      "source": [
        "from langgraph.graph import END, StateGraph, START\n",
        "\n",
        "workflow = StateGraph(AgentState)\n",
        "workflow.add_node(\"classify\", classify_decision)\n",
        "workflow.add_node(\"identify\", identify_decision)\n",
        "workflow.add_node(\"search\", call_tool)\n",
        "workflow.add_edge(START, \"classify\")\n",
        "workflow.add_edge(\"search\", END)\n",
        "\n",
        "workflow.add_conditional_edges(\n",
        "    \"classify\",\n",
        "    should_continue_classify,\n",
        "    {\n",
        "        \"continue\": \"identify\",\n",
        "        \"end\": END,\n",
        "    },\n",
        ")\n",
        "\n",
        "workflow.add_conditional_edges(\n",
        "    \"identify\",\n",
        "    should_continue_classify,\n",
        "    {\n",
        "        \"continue\": \"search\",\n",
        "        \"end\": END,\n",
        "    },\n",
        ")\n",
        "\n",
        "app = workflow.compile()"
      ],
      "metadata": {
        "id": "TS43n5HRydlA"
      },
      "execution_count": null,
      "outputs": []
    },
    {
      "cell_type": "code",
      "source": [
        "from IPython.display import Image, display\n",
        "from langchain_core.runnables.graph import CurveStyle\n",
        "\n",
        "try:\n",
        "    graph_image = app.get_graph(xray=True).draw_mermaid_png(curve_style=CurveStyle.NATURAL)\n",
        "    display(Image(graph_image))\n",
        "except Exception as e:\n",
        "    print(e)"
      ],
      "metadata": {
        "colab": {
          "base_uri": "https://localhost:8080/",
          "height": 497
        },
        "id": "qmqK4Hu7AFJY",
        "outputId": "a0c4be3a-cec5-4910-d82d-fa4e0896a4a2"
      },
      "execution_count": null,
      "outputs": [
        {
          "output_type": "display_data",
          "data": {
            "image/png": "[encoded data removed]",
            "text/plain": [
              "<IPython.core.display.Image object>"
            ]
          },
          "metadata": {}
        }
      ]
    },
    {
      "cell_type": "code",
      "source": [
        "inputs = {\"messages\": [df.iloc[1].texto]}\n",
        "result = app.invoke(inputs)"
      ],
      "metadata": {
        "id": "CbW5tXRwAfmq"
      },
      "execution_count": null,
      "outputs": []
    },
    {
      "cell_type": "code",
      "source": [
        "result"
      ],
      "metadata": {
        "colab": {
          "base_uri": "https://localhost:8080/"
        },
        "id": "nRtUEGUIujjc",
        "outputId": "0d2cb083-0e08-4814-fc27-81231df3a729"
      },
      "execution_count": null,
      "outputs": [
        {
          "output_type": "execute_result",
          "data": {
            "text/plain": [
              "{'messages': ['Processo Nº 200161 / 2022 - TC (200161/2022-CPRSASSU)\\nSESSÃO ORDINÁRIA 00046ª, DE 19 DE DEZEMBRO DE 2023 - 2ª CÂMARA.\\nInteressado(s):   CONSORCIO PUBLICO REGIONAL DE SANEAMENTO BASICO DO V ALE DO \\nRN, POR SEU ATUAL GESTOR - CPF:18578201000136\\n  \\nAssunto:  INADIMPLÊNCIA NA REMESSA DE CONTAS ANUAIS DE GESTÃO\\nResponsável(is):  THIAGO MEIRA MANGUEIRA - CPF:03181889458\\nRelator(a):  PAULO ROBERTO CHA VES ALVES\\nEMENTA: CONTAS DE GESTÃO DO EXERCÍCIO DE 2021.OMISSÃO NA \\nENTREGA. REVELIA IRREGULARIDADE DAS CONTAS COM APLICAÇÃO DE \\nMULTA E FIXAÇÃO DE OBRIGAÇÃO DE FAZER.\\nACÓRDÃO No. 337/2023 - TC\\n               Vistos, relatados e discutidos estes autos, concordando com o proposto pelo Corpo \\nTécnico e pelo órgão Ministerial de Contas, ACORDAM os Conselheiros, nos termos do voto \\nproferido pelo Conselheiro Relator, julgar pela irregularidade da matéria, nos termos do art . \\n75, inciso I, da Lei Complementar nº 464/2012, condenando o gestor responsável, Sr. Thiago \\nMeira Mangueira, ao pagamento de multa no valor de R$ 18.774,51 (dezoito mil setecentos e \\nsetenta e quatro reais e cinquenta e um centavos ), conforme previsto no art. 21, inciso I , \\nalínea ‘a’ e § 1º, da Resolução nº 012/2016-TCE c /c o art. 107, inciso II, alínea “a” da Lei \\nComplementar nº 464/2012. \\nAinda, pela fixação de obrigação de fazer, determinando o prazo de 45 (quarenta e cinco) dias \\npara que a atual gestão do Consórcio Público Regional de Saneamento Básico do Vale do \\nAssu, entregue, através do sistema SIAI, as informações omitidas do exercício de 2021, sob \\npena da aplicação de multa de R$ 100,00 (cem reais) por dia de atraso ao atual gestor (a) nos \\ntermos do art. 110, caput, Lei Complementar nº 464/2012. \\nPor fim, pela suspensão da emissão da Certidão de Adimplência do referido jurisdicionado \\njunto ao TCE /RN, enquanto permanecer a situação omissiva na prestação de contas do \\nexercício de 2021.\\nSala das Sessões, 19 de Dezembro de 2023.\\nATA da Sessão Ordinária nº 00046/2023 de 19/12/2023\\nPresentes: A Excelentíssima Sra. Conselheira Presidente Maria Adélia Sales e os Conselheiros: Paulo \\nRoberto Chaves Alves,  Carlos Thompson Costa Fernandes e o Conselheiro Substituto  Antonio Ed \\nSouza Santana\\nDecisão tomada: Por unanimidade.\\nRepresentante do MP: O(A) Procurador(a) Thiago Martins Guterres.\\nPAULO ROBERTO CHA VES ALVES\\nConselheiro(a) Relator(a) \\nRelAcordao.rpt\\nAv. Presidente Getúlio Vargas, 690 - Ed. Dr. Múcio Vilar Ribeiro Dantas\\nCEP 59012-360 - Petrópolis, Natal/RN\\nwww.tce.rn.gov.bRelAcordao.rpt\\nAv. Presidente Getúlio Vargas, 690 - Ed. Dr. Múcio Vilar Ribeiro Dantas\\nCEP 59012-360 - Petrópolis, Natal/RN\\nwww.tce.rn.gov.b',\n",
              "  'Processo Nº 200161 / 2022 - TC (200161/2022-CPRSASSU)\\nSESSÃO ORDINÁRIA 00046ª, DE 19 DE DEZEMBRO DE 2023 - 2ª CÂMARA.\\nInteressado(s):   CONSORCIO PUBLICO REGIONAL DE SANEAMENTO BASICO DO V ALE DO \\nRN, POR SEU ATUAL GESTOR - CPF:18578201000136\\n  \\nAssunto:  INADIMPLÊNCIA NA REMESSA DE CONTAS ANUAIS DE GESTÃO\\nResponsável(is):  THIAGO MEIRA MANGUEIRA - CPF:03181889458\\nRelator(a):  PAULO ROBERTO CHA VES ALVES\\nEMENTA: CONTAS DE GESTÃO DO EXERCÍCIO DE 2021.OMISSÃO NA \\nENTREGA. REVELIA IRREGULARIDADE DAS CONTAS COM APLICAÇÃO DE \\nMULTA E FIXAÇÃO DE OBRIGAÇÃO DE FAZER.\\nACÓRDÃO No. 337/2023 - TC\\n               Vistos, relatados e discutidos estes autos, concordando com o proposto pelo Corpo \\nTécnico e pelo órgão Ministerial de Contas, ACORDAM os Conselheiros, nos termos do voto \\nproferido pelo Conselheiro Relator, julgar pela irregularidade da matéria, nos termos do art . \\n75, inciso I, da Lei Complementar nº 464/2012, condenando o gestor responsável, Sr. Thiago \\nMeira Mangueira, ao pagamento de multa no valor de R$ 18.774,51 (dezoito mil setecentos e \\nsetenta e quatro reais e cinquenta e um centavos ), conforme previsto no art. 21, inciso I , \\nalínea ‘a’ e § 1º, da Resolução nº 012/2016-TCE c /c o art. 107, inciso II, alínea “a” da Lei \\nComplementar nº 464/2012. \\nAinda, pela fixação de obrigação de fazer, determinando o prazo de 45 (quarenta e cinco) dias \\npara que a atual gestão do Consórcio Público Regional de Saneamento Básico do Vale do \\nAssu, entregue, através do sistema SIAI, as informações omitidas do exercício de 2021, sob \\npena da aplicação de multa de R$ 100,00 (cem reais) por dia de atraso ao atual gestor (a) nos \\ntermos do art. 110, caput, Lei Complementar nº 464/2012. \\nPor fim, pela suspensão da emissão da Certidão de Adimplência do referido jurisdicionado \\njunto ao TCE /RN, enquanto permanecer a situação omissiva na prestação de contas do \\nexercício de 2021.\\nSala das Sessões, 19 de Dezembro de 2023.\\nATA da Sessão Ordinária nº 00046/2023 de 19/12/2023\\nPresentes: A Excelentíssima Sra. Conselheira Presidente Maria Adélia Sales e os Conselheiros: Paulo \\nRoberto Chaves Alves,  Carlos Thompson Costa Fernandes e o Conselheiro Substituto  Antonio Ed \\nSouza Santana\\nDecisão tomada: Por unanimidade.\\nRepresentante do MP: O(A) Procurador(a) Thiago Martins Guterres.\\nPAULO ROBERTO CHA VES ALVES\\nConselheiro(a) Relator(a) \\nRelAcordao.rpt\\nAv. Presidente Getúlio Vargas, 690 - Ed. Dr. Múcio Vilar Ribeiro Dantas\\nCEP 59012-360 - Petrópolis, Natal/RN\\nwww.tce.rn.gov.bRelAcordao.rpt\\nAv. Presidente Getúlio Vargas, 690 - Ed. Dr. Múcio Vilar Ribeiro Dantas\\nCEP 59012-360 - Petrópolis, Natal/RN\\nwww.tce.rn.gov.b',\n",
              "  'DETERMINACAO',\n",
              "  'Processo Nº 200161 / 2022 - TC (200161/2022-CPRSASSU)\\nSESSÃO ORDINÁRIA 00046ª, DE 19 DE DEZEMBRO DE 2023 - 2ª CÂMARA.\\nInteressado(s):   CONSORCIO PUBLICO REGIONAL DE SANEAMENTO BASICO DO V ALE DO \\nRN, POR SEU ATUAL GESTOR - CPF:18578201000136\\n  \\nAssunto:  INADIMPLÊNCIA NA REMESSA DE CONTAS ANUAIS DE GESTÃO\\nResponsável(is):  THIAGO MEIRA MANGUEIRA - CPF:03181889458\\nRelator(a):  PAULO ROBERTO CHA VES ALVES\\nEMENTA: CONTAS DE GESTÃO DO EXERCÍCIO DE 2021.OMISSÃO NA \\nENTREGA. REVELIA IRREGULARIDADE DAS CONTAS COM APLICAÇÃO DE \\nMULTA E FIXAÇÃO DE OBRIGAÇÃO DE FAZER.\\nACÓRDÃO No. 337/2023 - TC\\n               Vistos, relatados e discutidos estes autos, concordando com o proposto pelo Corpo \\nTécnico e pelo órgão Ministerial de Contas, ACORDAM os Conselheiros, nos termos do voto \\nproferido pelo Conselheiro Relator, julgar pela irregularidade da matéria, nos termos do art . \\n75, inciso I, da Lei Complementar nº 464/2012, condenando o gestor responsável, Sr. Thiago \\nMeira Mangueira, ao pagamento de multa no valor de R$ 18.774,51 (dezoito mil setecentos e \\nsetenta e quatro reais e cinquenta e um centavos ), conforme previsto no art. 21, inciso I , \\nalínea ‘a’ e § 1º, da Resolução nº 012/2016-TCE c /c o art. 107, inciso II, alínea “a” da Lei \\nComplementar nº 464/2012. \\nAinda, pela fixação de obrigação de fazer, determinando o prazo de 45 (quarenta e cinco) dias \\npara que a atual gestão do Consórcio Público Regional de Saneamento Básico do Vale do \\nAssu, entregue, através do sistema SIAI, as informações omitidas do exercício de 2021, sob \\npena da aplicação de multa de R$ 100,00 (cem reais) por dia de atraso ao atual gestor (a) nos \\ntermos do art. 110, caput, Lei Complementar nº 464/2012. \\nPor fim, pela suspensão da emissão da Certidão de Adimplência do referido jurisdicionado \\njunto ao TCE /RN, enquanto permanecer a situação omissiva na prestação de contas do \\nexercício de 2021.\\nSala das Sessões, 19 de Dezembro de 2023.\\nATA da Sessão Ordinária nº 00046/2023 de 19/12/2023\\nPresentes: A Excelentíssima Sra. Conselheira Presidente Maria Adélia Sales e os Conselheiros: Paulo \\nRoberto Chaves Alves,  Carlos Thompson Costa Fernandes e o Conselheiro Substituto  Antonio Ed \\nSouza Santana\\nDecisão tomada: Por unanimidade.\\nRepresentante do MP: O(A) Procurador(a) Thiago Martins Guterres.\\nPAULO ROBERTO CHA VES ALVES\\nConselheiro(a) Relator(a) \\nRelAcordao.rpt\\nAv. Presidente Getúlio Vargas, 690 - Ed. Dr. Múcio Vilar Ribeiro Dantas\\nCEP 59012-360 - Petrópolis, Natal/RN\\nwww.tce.rn.gov.bRelAcordao.rpt\\nAv. Presidente Getúlio Vargas, 690 - Ed. Dr. Múcio Vilar Ribeiro Dantas\\nCEP 59012-360 - Petrópolis, Natal/RN\\nwww.tce.rn.gov.b',\n",
              "  'Processo Nº 200161 / 2022 - TC (200161/2022-CPRSASSU)\\nSESSÃO ORDINÁRIA 00046ª, DE 19 DE DEZEMBRO DE 2023 - 2ª CÂMARA.\\nInteressado(s):   CONSORCIO PUBLICO REGIONAL DE SANEAMENTO BASICO DO V ALE DO \\nRN, POR SEU ATUAL GESTOR - CPF:18578201000136\\n  \\nAssunto:  INADIMPLÊNCIA NA REMESSA DE CONTAS ANUAIS DE GESTÃO\\nResponsável(is):  THIAGO MEIRA MANGUEIRA - CPF:03181889458\\nRelator(a):  PAULO ROBERTO CHA VES ALVES\\nEMENTA: CONTAS DE GESTÃO DO EXERCÍCIO DE 2021.OMISSÃO NA \\nENTREGA. REVELIA IRREGULARIDADE DAS CONTAS COM APLICAÇÃO DE \\nMULTA E FIXAÇÃO DE OBRIGAÇÃO DE FAZER.\\nACÓRDÃO No. 337/2023 - TC\\n               Vistos, relatados e discutidos estes autos, concordando com o proposto pelo Corpo \\nTécnico e pelo órgão Ministerial de Contas, ACORDAM os Conselheiros, nos termos do voto \\nproferido pelo Conselheiro Relator, julgar pela irregularidade da matéria, nos termos do art . \\n75, inciso I, da Lei Complementar nº 464/2012, condenando o gestor responsável, Sr. Thiago \\nMeira Mangueira, ao pagamento de multa no valor de R$ 18.774,51 (dezoito mil setecentos e \\nsetenta e quatro reais e cinquenta e um centavos ), conforme previsto no art. 21, inciso I , \\nalínea ‘a’ e § 1º, da Resolução nº 012/2016-TCE c /c o art. 107, inciso II, alínea “a” da Lei \\nComplementar nº 464/2012. \\nAinda, pela fixação de obrigação de fazer, determinando o prazo de 45 (quarenta e cinco) dias \\npara que a atual gestão do Consórcio Público Regional de Saneamento Básico do Vale do \\nAssu, entregue, através do sistema SIAI, as informações omitidas do exercício de 2021, sob \\npena da aplicação de multa de R$ 100,00 (cem reais) por dia de atraso ao atual gestor (a) nos \\ntermos do art. 110, caput, Lei Complementar nº 464/2012. \\nPor fim, pela suspensão da emissão da Certidão de Adimplência do referido jurisdicionado \\njunto ao TCE /RN, enquanto permanecer a situação omissiva na prestação de contas do \\nexercício de 2021.\\nSala das Sessões, 19 de Dezembro de 2023.\\nATA da Sessão Ordinária nº 00046/2023 de 19/12/2023\\nPresentes: A Excelentíssima Sra. Conselheira Presidente Maria Adélia Sales e os Conselheiros: Paulo \\nRoberto Chaves Alves,  Carlos Thompson Costa Fernandes e o Conselheiro Substituto  Antonio Ed \\nSouza Santana\\nDecisão tomada: Por unanimidade.\\nRepresentante do MP: O(A) Procurador(a) Thiago Martins Guterres.\\nPAULO ROBERTO CHA VES ALVES\\nConselheiro(a) Relator(a) \\nRelAcordao.rpt\\nAv. Presidente Getúlio Vargas, 690 - Ed. Dr. Múcio Vilar Ribeiro Dantas\\nCEP 59012-360 - Petrópolis, Natal/RN\\nwww.tce.rn.gov.bRelAcordao.rpt\\nAv. Presidente Getúlio Vargas, 690 - Ed. Dr. Múcio Vilar Ribeiro Dantas\\nCEP 59012-360 - Petrópolis, Natal/RN\\nwww.tce.rn.gov.b',\n",
              "  'DETERMINACAO',\n",
              "  Decisao(determinacao=[Multa(responsavel='Thiago Meira Mangueira', valor=18774.51), Obrigacao(responsavel='Consórcio Público Regional de Saneamento Básico do Vale do Assu', descricao='Entregar, através do sistema SIAI, as informações omitidas do exercício de 2021, no prazo de 45 dias, sob pena de multa de R$ 100,00 por dia de atraso.')]),\n",
              "  'Processo Nº 200161 / 2022 - TC (200161/2022-CPRSASSU)\\nSESSÃO ORDINÁRIA 00046ª, DE 19 DE DEZEMBRO DE 2023 - 2ª CÂMARA.\\nInteressado(s):   CONSORCIO PUBLICO REGIONAL DE SANEAMENTO BASICO DO V ALE DO \\nRN, POR SEU ATUAL GESTOR - CPF:18578201000136\\n  \\nAssunto:  INADIMPLÊNCIA NA REMESSA DE CONTAS ANUAIS DE GESTÃO\\nResponsável(is):  THIAGO MEIRA MANGUEIRA - CPF:03181889458\\nRelator(a):  PAULO ROBERTO CHA VES ALVES\\nEMENTA: CONTAS DE GESTÃO DO EXERCÍCIO DE 2021.OMISSÃO NA \\nENTREGA. REVELIA IRREGULARIDADE DAS CONTAS COM APLICAÇÃO DE \\nMULTA E FIXAÇÃO DE OBRIGAÇÃO DE FAZER.\\nACÓRDÃO No. 337/2023 - TC\\n               Vistos, relatados e discutidos estes autos, concordando com o proposto pelo Corpo \\nTécnico e pelo órgão Ministerial de Contas, ACORDAM os Conselheiros, nos termos do voto \\nproferido pelo Conselheiro Relator, julgar pela irregularidade da matéria, nos termos do art . \\n75, inciso I, da Lei Complementar nº 464/2012, condenando o gestor responsável, Sr. Thiago \\nMeira Mangueira, ao pagamento de multa no valor de R$ 18.774,51 (dezoito mil setecentos e \\nsetenta e quatro reais e cinquenta e um centavos ), conforme previsto no art. 21, inciso I , \\nalínea ‘a’ e § 1º, da Resolução nº 012/2016-TCE c /c o art. 107, inciso II, alínea “a” da Lei \\nComplementar nº 464/2012. \\nAinda, pela fixação de obrigação de fazer, determinando o prazo de 45 (quarenta e cinco) dias \\npara que a atual gestão do Consórcio Público Regional de Saneamento Básico do Vale do \\nAssu, entregue, através do sistema SIAI, as informações omitidas do exercício de 2021, sob \\npena da aplicação de multa de R$ 100,00 (cem reais) por dia de atraso ao atual gestor (a) nos \\ntermos do art. 110, caput, Lei Complementar nº 464/2012. \\nPor fim, pela suspensão da emissão da Certidão de Adimplência do referido jurisdicionado \\njunto ao TCE /RN, enquanto permanecer a situação omissiva na prestação de contas do \\nexercício de 2021.\\nSala das Sessões, 19 de Dezembro de 2023.\\nATA da Sessão Ordinária nº 00046/2023 de 19/12/2023\\nPresentes: A Excelentíssima Sra. Conselheira Presidente Maria Adélia Sales e os Conselheiros: Paulo \\nRoberto Chaves Alves,  Carlos Thompson Costa Fernandes e o Conselheiro Substituto  Antonio Ed \\nSouza Santana\\nDecisão tomada: Por unanimidade.\\nRepresentante do MP: O(A) Procurador(a) Thiago Martins Guterres.\\nPAULO ROBERTO CHA VES ALVES\\nConselheiro(a) Relator(a) \\nRelAcordao.rpt\\nAv. Presidente Getúlio Vargas, 690 - Ed. Dr. Múcio Vilar Ribeiro Dantas\\nCEP 59012-360 - Petrópolis, Natal/RN\\nwww.tce.rn.gov.bRelAcordao.rpt\\nAv. Presidente Getúlio Vargas, 690 - Ed. Dr. Múcio Vilar Ribeiro Dantas\\nCEP 59012-360 - Petrópolis, Natal/RN\\nwww.tce.rn.gov.b',\n",
              "  'Processo Nº 200161 / 2022 - TC (200161/2022-CPRSASSU)\\nSESSÃO ORDINÁRIA 00046ª, DE 19 DE DEZEMBRO DE 2023 - 2ª CÂMARA.\\nInteressado(s):   CONSORCIO PUBLICO REGIONAL DE SANEAMENTO BASICO DO V ALE DO \\nRN, POR SEU ATUAL GESTOR - CPF:18578201000136\\n  \\nAssunto:  INADIMPLÊNCIA NA REMESSA DE CONTAS ANUAIS DE GESTÃO\\nResponsável(is):  THIAGO MEIRA MANGUEIRA - CPF:03181889458\\nRelator(a):  PAULO ROBERTO CHA VES ALVES\\nEMENTA: CONTAS DE GESTÃO DO EXERCÍCIO DE 2021.OMISSÃO NA \\nENTREGA. REVELIA IRREGULARIDADE DAS CONTAS COM APLICAÇÃO DE \\nMULTA E FIXAÇÃO DE OBRIGAÇÃO DE FAZER.\\nACÓRDÃO No. 337/2023 - TC\\n               Vistos, relatados e discutidos estes autos, concordando com o proposto pelo Corpo \\nTécnico e pelo órgão Ministerial de Contas, ACORDAM os Conselheiros, nos termos do voto \\nproferido pelo Conselheiro Relator, julgar pela irregularidade da matéria, nos termos do art . \\n75, inciso I, da Lei Complementar nº 464/2012, condenando o gestor responsável, Sr. Thiago \\nMeira Mangueira, ao pagamento de multa no valor de R$ 18.774,51 (dezoito mil setecentos e \\nsetenta e quatro reais e cinquenta e um centavos ), conforme previsto no art. 21, inciso I , \\nalínea ‘a’ e § 1º, da Resolução nº 012/2016-TCE c /c o art. 107, inciso II, alínea “a” da Lei \\nComplementar nº 464/2012. \\nAinda, pela fixação de obrigação de fazer, determinando o prazo de 45 (quarenta e cinco) dias \\npara que a atual gestão do Consórcio Público Regional de Saneamento Básico do Vale do \\nAssu, entregue, através do sistema SIAI, as informações omitidas do exercício de 2021, sob \\npena da aplicação de multa de R$ 100,00 (cem reais) por dia de atraso ao atual gestor (a) nos \\ntermos do art. 110, caput, Lei Complementar nº 464/2012. \\nPor fim, pela suspensão da emissão da Certidão de Adimplência do referido jurisdicionado \\njunto ao TCE /RN, enquanto permanecer a situação omissiva na prestação de contas do \\nexercício de 2021.\\nSala das Sessões, 19 de Dezembro de 2023.\\nATA da Sessão Ordinária nº 00046/2023 de 19/12/2023\\nPresentes: A Excelentíssima Sra. Conselheira Presidente Maria Adélia Sales e os Conselheiros: Paulo \\nRoberto Chaves Alves,  Carlos Thompson Costa Fernandes e o Conselheiro Substituto  Antonio Ed \\nSouza Santana\\nDecisão tomada: Por unanimidade.\\nRepresentante do MP: O(A) Procurador(a) Thiago Martins Guterres.\\nPAULO ROBERTO CHA VES ALVES\\nConselheiro(a) Relator(a) \\nRelAcordao.rpt\\nAv. Presidente Getúlio Vargas, 690 - Ed. Dr. Múcio Vilar Ribeiro Dantas\\nCEP 59012-360 - Petrópolis, Natal/RN\\nwww.tce.rn.gov.bRelAcordao.rpt\\nAv. Presidente Getúlio Vargas, 690 - Ed. Dr. Múcio Vilar Ribeiro Dantas\\nCEP 59012-360 - Petrópolis, Natal/RN\\nwww.tce.rn.gov.b',\n",
              "  'DETERMINACAO',\n",
              "  'Processo Nº 200161 / 2022 - TC (200161/2022-CPRSASSU)\\nSESSÃO ORDINÁRIA 00046ª, DE 19 DE DEZEMBRO DE 2023 - 2ª CÂMARA.\\nInteressado(s):   CONSORCIO PUBLICO REGIONAL DE SANEAMENTO BASICO DO V ALE DO \\nRN, POR SEU ATUAL GESTOR - CPF:18578201000136\\n  \\nAssunto:  INADIMPLÊNCIA NA REMESSA DE CONTAS ANUAIS DE GESTÃO\\nResponsável(is):  THIAGO MEIRA MANGUEIRA - CPF:03181889458\\nRelator(a):  PAULO ROBERTO CHA VES ALVES\\nEMENTA: CONTAS DE GESTÃO DO EXERCÍCIO DE 2021.OMISSÃO NA \\nENTREGA. REVELIA IRREGULARIDADE DAS CONTAS COM APLICAÇÃO DE \\nMULTA E FIXAÇÃO DE OBRIGAÇÃO DE FAZER.\\nACÓRDÃO No. 337/2023 - TC\\n               Vistos, relatados e discutidos estes autos, concordando com o proposto pelo Corpo \\nTécnico e pelo órgão Ministerial de Contas, ACORDAM os Conselheiros, nos termos do voto \\nproferido pelo Conselheiro Relator, julgar pela irregularidade da matéria, nos termos do art . \\n75, inciso I, da Lei Complementar nº 464/2012, condenando o gestor responsável, Sr. Thiago \\nMeira Mangueira, ao pagamento de multa no valor de R$ 18.774,51 (dezoito mil setecentos e \\nsetenta e quatro reais e cinquenta e um centavos ), conforme previsto no art. 21, inciso I , \\nalínea ‘a’ e § 1º, da Resolução nº 012/2016-TCE c /c o art. 107, inciso II, alínea “a” da Lei \\nComplementar nº 464/2012. \\nAinda, pela fixação de obrigação de fazer, determinando o prazo de 45 (quarenta e cinco) dias \\npara que a atual gestão do Consórcio Público Regional de Saneamento Básico do Vale do \\nAssu, entregue, através do sistema SIAI, as informações omitidas do exercício de 2021, sob \\npena da aplicação de multa de R$ 100,00 (cem reais) por dia de atraso ao atual gestor (a) nos \\ntermos do art. 110, caput, Lei Complementar nº 464/2012. \\nPor fim, pela suspensão da emissão da Certidão de Adimplência do referido jurisdicionado \\njunto ao TCE /RN, enquanto permanecer a situação omissiva na prestação de contas do \\nexercício de 2021.\\nSala das Sessões, 19 de Dezembro de 2023.\\nATA da Sessão Ordinária nº 00046/2023 de 19/12/2023\\nPresentes: A Excelentíssima Sra. Conselheira Presidente Maria Adélia Sales e os Conselheiros: Paulo \\nRoberto Chaves Alves,  Carlos Thompson Costa Fernandes e o Conselheiro Substituto  Antonio Ed \\nSouza Santana\\nDecisão tomada: Por unanimidade.\\nRepresentante do MP: O(A) Procurador(a) Thiago Martins Guterres.\\nPAULO ROBERTO CHA VES ALVES\\nConselheiro(a) Relator(a) \\nRelAcordao.rpt\\nAv. Presidente Getúlio Vargas, 690 - Ed. Dr. Múcio Vilar Ribeiro Dantas\\nCEP 59012-360 - Petrópolis, Natal/RN\\nwww.tce.rn.gov.bRelAcordao.rpt\\nAv. Presidente Getúlio Vargas, 690 - Ed. Dr. Múcio Vilar Ribeiro Dantas\\nCEP 59012-360 - Petrópolis, Natal/RN\\nwww.tce.rn.gov.b',\n",
              "  'Processo Nº 200161 / 2022 - TC (200161/2022-CPRSASSU)\\nSESSÃO ORDINÁRIA 00046ª, DE 19 DE DEZEMBRO DE 2023 - 2ª CÂMARA.\\nInteressado(s):   CONSORCIO PUBLICO REGIONAL DE SANEAMENTO BASICO DO V ALE DO \\nRN, POR SEU ATUAL GESTOR - CPF:18578201000136\\n  \\nAssunto:  INADIMPLÊNCIA NA REMESSA DE CONTAS ANUAIS DE GESTÃO\\nResponsável(is):  THIAGO MEIRA MANGUEIRA - CPF:03181889458\\nRelator(a):  PAULO ROBERTO CHA VES ALVES\\nEMENTA: CONTAS DE GESTÃO DO EXERCÍCIO DE 2021.OMISSÃO NA \\nENTREGA. REVELIA IRREGULARIDADE DAS CONTAS COM APLICAÇÃO DE \\nMULTA E FIXAÇÃO DE OBRIGAÇÃO DE FAZER.\\nACÓRDÃO No. 337/2023 - TC\\n               Vistos, relatados e discutidos estes autos, concordando com o proposto pelo Corpo \\nTécnico e pelo órgão Ministerial de Contas, ACORDAM os Conselheiros, nos termos do voto \\nproferido pelo Conselheiro Relator, julgar pela irregularidade da matéria, nos termos do art . \\n75, inciso I, da Lei Complementar nº 464/2012, condenando o gestor responsável, Sr. Thiago \\nMeira Mangueira, ao pagamento de multa no valor de R$ 18.774,51 (dezoito mil setecentos e \\nsetenta e quatro reais e cinquenta e um centavos ), conforme previsto no art. 21, inciso I , \\nalínea ‘a’ e § 1º, da Resolução nº 012/2016-TCE c /c o art. 107, inciso II, alínea “a” da Lei \\nComplementar nº 464/2012. \\nAinda, pela fixação de obrigação de fazer, determinando o prazo de 45 (quarenta e cinco) dias \\npara que a atual gestão do Consórcio Público Regional de Saneamento Básico do Vale do \\nAssu, entregue, através do sistema SIAI, as informações omitidas do exercício de 2021, sob \\npena da aplicação de multa de R$ 100,00 (cem reais) por dia de atraso ao atual gestor (a) nos \\ntermos do art. 110, caput, Lei Complementar nº 464/2012. \\nPor fim, pela suspensão da emissão da Certidão de Adimplência do referido jurisdicionado \\njunto ao TCE /RN, enquanto permanecer a situação omissiva na prestação de contas do \\nexercício de 2021.\\nSala das Sessões, 19 de Dezembro de 2023.\\nATA da Sessão Ordinária nº 00046/2023 de 19/12/2023\\nPresentes: A Excelentíssima Sra. Conselheira Presidente Maria Adélia Sales e os Conselheiros: Paulo \\nRoberto Chaves Alves,  Carlos Thompson Costa Fernandes e o Conselheiro Substituto  Antonio Ed \\nSouza Santana\\nDecisão tomada: Por unanimidade.\\nRepresentante do MP: O(A) Procurador(a) Thiago Martins Guterres.\\nPAULO ROBERTO CHA VES ALVES\\nConselheiro(a) Relator(a) \\nRelAcordao.rpt\\nAv. Presidente Getúlio Vargas, 690 - Ed. Dr. Múcio Vilar Ribeiro Dantas\\nCEP 59012-360 - Petrópolis, Natal/RN\\nwww.tce.rn.gov.bRelAcordao.rpt\\nAv. Presidente Getúlio Vargas, 690 - Ed. Dr. Múcio Vilar Ribeiro Dantas\\nCEP 59012-360 - Petrópolis, Natal/RN\\nwww.tce.rn.gov.b',\n",
              "  'DETERMINACAO',\n",
              "  Decisao(determinacao=[Multa(responsavel='Thiago Meira Mangueira', valor=18774.51), Obrigacao(responsavel='Consórcio Público Regional de Saneamento Básico do Vale do Assu', descricao='Entregar, através do sistema SIAI, as informações omitidas do exercício de 2021, no prazo de 45 dias, sob pena de multa de R$ 100,00 por dia de atraso.')]),\n",
              "  [ToolMessage(content='{\"nome\": \"Thiago Meira Mangueira\", \"endereço\": \"Av Tal, Bairro Bem Ali, nº 1\", \"telefone\": \"84123456789\"}', name='search_pessoa', tool_call_id='call_91dzWMwWhxaihzQ0qL8ZTkEV')]]}"
            ]
          },
          "metadata": {},
          "execution_count": 191
        }
      ]
    },
    {
      "cell_type": "markdown",
      "source": [
        "# Conclusão\n",
        "\n",
        "O presente trabalho demonstrou o uso promissor de Modelos Grandes de Linguagem (LLM) para a identificação de determinações de decisões de um Tribunal de Contas, assim como a extração de informações estruturadas dessas determinações.\n",
        "A tecnologia empregada será de grande utilidade no caso do Tribunal de Contas do Estado do Rio Grande do Norte. Os cadastros de informações mencionados na introdução do notebook serão criados a partir do emprego das técnicas aqui apresentadas, poupando muitas horas de trabalho de codificação em abordagens tradicionais (uso de expressões regulares ou modelos supervisionados de aprendizado de máquina)."
      ],
      "metadata": {
        "id": "e_YElu0CvfCf"
      }
    },
    {
      "cell_type": "code",
      "source": [],
      "metadata": {
        "id": "U0nRpkDBxQkN"
      },
      "execution_count": null,
      "outputs": []
    }
  ]
}